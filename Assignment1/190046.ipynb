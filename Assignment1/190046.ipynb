{
  "cells": [
    {
      "cell_type": "code",
      "execution_count": 2,
      "metadata": {
        "id": "IgwV1Gi3txJn",
        "colab": {
          "base_uri": "https://localhost:8080/"
        },
        "outputId": "4c1cc921-a882-4d2e-90f2-2f8a1b78708e"
      },
      "outputs": [
        {
          "output_type": "stream",
          "name": "stdout",
          "text": [
            "Mounted at /content/gdrive\n"
          ]
        }
      ],
      "source": [
        "from google.colab import drive\n",
        "\n",
        "drive.mount('/content/gdrive')"
      ]
    },
    {
      "cell_type": "code",
      "execution_count": 3,
      "metadata": {
        "id": "0TDofZqitzlw"
      },
      "outputs": [],
      "source": [
        "import numpy as np\n",
        "import pandas as pd\n",
        "import matplotlib.pyplot as plt\n",
        "import seaborn as sns\n",
        "import warnings\n",
        "warnings.filterwarnings('ignore')\n",
        "import os\n",
        "from sklearn.model_selection import train_test_split\n",
        "import re"
      ]
    },
    {
      "cell_type": "code",
      "execution_count": 4,
      "metadata": {
        "id": "MCcBPAq6ysHi"
      },
      "outputs": [],
      "source": [
        "import random\n",
        "random.seed(111)"
      ]
    },
    {
      "cell_type": "code",
      "source": [
        "test_dir = '/content/gdrive/MyDrive/Audio_Classification-MLSP-test'"
      ],
      "metadata": {
        "id": "-CZKZz95AIl8"
      },
      "execution_count": 19,
      "outputs": []
    },
    {
      "cell_type": "code",
      "execution_count": 4,
      "metadata": {
        "id": "7srQJBdeuHA7"
      },
      "outputs": [],
      "source": [
        "\n",
        "train_dir = '/content/gdrive/MyDrive/train'"
      ]
    },
    {
      "cell_type": "code",
      "execution_count": 5,
      "metadata": {
        "id": "jdPgaP76uJP8"
      },
      "outputs": [],
      "source": [
        "\n",
        "df = pd.read_csv('/content/gdrive/MyDrive/annotations.csv')"
      ]
    },
    {
      "cell_type": "code",
      "execution_count": 6,
      "metadata": {
        "id": "CDsKua7uuNjn"
      },
      "outputs": [],
      "source": [
        "df = df.drop(['Unnamed: 0'], axis = 1)"
      ]
    },
    {
      "cell_type": "code",
      "source": [
        "X_test=np.zeros((201,128,2500,1))\n",
        "# Y_test=np.zeros((1000,10))\n",
        "\n",
        "i=0\n",
        "for filename in os.listdir(test_dir):\n",
        "    file=f\"/content/gdrive/MyDrive/Audio_Classification-MLSP-test/{filename}\"\n",
        "    x=np.load(file)\n",
        "#     print(filename)\n",
        "    # l=list(df.label[df.fname==filename])\n",
        "    # l=l[0]\n",
        "    if x.shape[2]<2500:\n",
        "        X_test[i,:,0:x.shape[2],0]=x[0,:,:]\n",
        "        X_test[i,:,x.shape[2]:2500,0]=0\n",
        "    else:\n",
        "        X_test[i,:,0:2500,0]=x[0,:,0:2500]\n",
        "    # Y_train[i,classes[l]]=1\n",
        "    i=i+1\n",
        "    \n",
        "# for i in range(len(df)):\n",
        "#     file = load_npy_to_any(train_dir,df['fname'][i])\n",
        "#     l"
      ],
      "metadata": {
        "id": "4izs2nR1ARvK"
      },
      "execution_count": 20,
      "outputs": []
    },
    {
      "cell_type": "code",
      "source": [],
      "metadata": {
        "id": "v7rCKxg-KEYf"
      },
      "execution_count": null,
      "outputs": []
    },
    {
      "cell_type": "code",
      "source": [
        "X_test.shape"
      ],
      "metadata": {
        "colab": {
          "base_uri": "https://localhost:8080/"
        },
        "id": "1pZLJAlhDUg6",
        "outputId": "76cf22bb-7b0c-41d3-bc89-660aa2969a8e"
      },
      "execution_count": 21,
      "outputs": [
        {
          "output_type": "execute_result",
          "data": {
            "text/plain": [
              "(201, 128, 2500, 1)"
            ]
          },
          "metadata": {},
          "execution_count": 21
        }
      ]
    },
    {
      "cell_type": "code",
      "execution_count": 7,
      "metadata": {
        "id": "cu15iXjhuO42"
      },
      "outputs": [],
      "source": [
        "# df=pd.read_csv(\"annotations.csv\")\n",
        "X_train=np.zeros((1000,128,2500,1))\n",
        "Y_train=np.zeros((1000,10))\n",
        "classes={\n",
        "    \"Bark\":0,\n",
        "    \"Meow\":1,\n",
        "    \"Siren\":2,\n",
        "    \"Shatter\":3,\n",
        "    \"Knock\":4,\n",
        "    \"Crying_and_sobbing\":5,\n",
        "    \"Microwave_oven\":6,\n",
        "    \"Vehicle_horn_and_car_horn_and_honking\":7,\n",
        "    \"Doorbell\":8,\n",
        "    \"Walk_and_footsteps\":9\n",
        "}"
      ]
    },
    {
      "cell_type": "code",
      "execution_count": 36,
      "metadata": {
        "id": "47IWfzzj7oHg"
      },
      "outputs": [],
      "source": [
        "df['class'] = ''\n",
        "for i in range(len(df)):\n",
        "  df['class'][i] = classes[df['label'][i]]"
      ]
    },
    {
      "cell_type": "code",
      "execution_count": 8,
      "metadata": {
        "id": "9bEi_44JuSqs"
      },
      "outputs": [],
      "source": [
        "i=0\n",
        "for filename in os.listdir(train_dir):\n",
        "    file=f\"/content/gdrive/MyDrive/train/{filename}\"\n",
        "    x=np.load(file)\n",
        "#     print(filename)\n",
        "    l=list(df.label[df.fname==filename])\n",
        "    l=l[0]\n",
        "    if x.shape[2]<2500:\n",
        "        X_train[i,:,0:x.shape[2],0]=x[0,:,:]\n",
        "        X_train[i,:,x.shape[2]:2500,0]=0\n",
        "    else:\n",
        "        X_train[i,:,0:2500,0]=x[0,:,0:2500]\n",
        "    Y_train[i,classes[l]]=1\n",
        "    i=i+1\n",
        "    \n",
        "# for i in range(len(df)):\n",
        "#     file = load_npy_to_any(train_dir,df['fname'][i])\n",
        "#     l"
      ]
    },
    {
      "cell_type": "code",
      "execution_count": null,
      "metadata": {
        "colab": {
          "base_uri": "https://localhost:8080/"
        },
        "id": "NWOeH8zEuYOD",
        "outputId": "dc21b9c2-20a0-4063-871e-7ff1d0636c7c"
      },
      "outputs": [
        {
          "data": {
            "text/plain": [
              "1000"
            ]
          },
          "execution_count": 27,
          "metadata": {},
          "output_type": "execute_result"
        }
      ],
      "source": [
        "len(X_train)"
      ]
    },
    {
      "cell_type": "markdown",
      "source": [
        "#Support Vector Machine"
      ],
      "metadata": {
        "id": "knZW5v1EygOy"
      }
    },
    {
      "cell_type": "code",
      "source": [
        "from sklearn.model_selection import train_test_split\n",
        "X_train,X_test,y_train,y_test=train_test_split(X_train,Y_train,test_size=0.2,random_state=0, shuffle = True, stratify = Y_train)"
      ],
      "metadata": {
        "id": "DXgB5YfqyiKw"
      },
      "execution_count": 9,
      "outputs": []
    },
    {
      "cell_type": "code",
      "source": [
        "import numpy as np\n",
        "import sklearn\n",
        "from sklearn.svm import SVC\n",
        "from sklearn.model_selection import train_test_split\n",
        "from sklearn.model_selection import GridSearchCV\n",
        "from sklearn.metrics import classification_report"
      ],
      "metadata": {
        "id": "-O_Pz0Mrynmd"
      },
      "execution_count": 10,
      "outputs": []
    },
    {
      "cell_type": "code",
      "source": [
        "y_train.shape"
      ],
      "metadata": {
        "colab": {
          "base_uri": "https://localhost:8080/"
        },
        "id": "8ui84sdYzrOK",
        "outputId": "9645852a-2751-4583-a586-4d235b807bea"
      },
      "execution_count": 11,
      "outputs": [
        {
          "output_type": "execute_result",
          "data": {
            "text/plain": [
              "(800, 10)"
            ]
          },
          "metadata": {},
          "execution_count": 11
        }
      ]
    },
    {
      "cell_type": "code",
      "source": [
        "y_train = np.argmax(y_train, axis = 1)"
      ],
      "metadata": {
        "id": "fRGQX-IKz3Xm"
      },
      "execution_count": 12,
      "outputs": []
    },
    {
      "cell_type": "code",
      "source": [
        "y_train"
      ],
      "metadata": {
        "colab": {
          "base_uri": "https://localhost:8080/"
        },
        "id": "QYlN5GRmz6O8",
        "outputId": "99ac727f-0387-44f1-96fc-d03dcce7441c"
      },
      "execution_count": 13,
      "outputs": [
        {
          "output_type": "execute_result",
          "data": {
            "text/plain": [
              "array([8, 2, 8, 4, 7, 6, 7, 2, 0, 0, 2, 1, 0, 5, 7, 8, 7, 3, 9, 0, 6, 7,\n",
              "       1, 9, 8, 4, 7, 4, 4, 7, 8, 8, 7, 1, 0, 6, 6, 1, 2, 3, 1, 0, 0, 4,\n",
              "       4, 5, 5, 6, 5, 8, 3, 5, 5, 0, 1, 9, 3, 4, 6, 7, 4, 3, 2, 8, 7, 7,\n",
              "       9, 5, 2, 8, 0, 6, 3, 5, 9, 6, 7, 7, 9, 5, 8, 3, 4, 6, 4, 7, 6, 3,\n",
              "       1, 5, 5, 9, 2, 3, 9, 9, 7, 8, 7, 7, 9, 4, 0, 9, 5, 5, 5, 3, 8, 6,\n",
              "       8, 6, 9, 9, 0, 0, 4, 3, 6, 0, 0, 2, 7, 8, 7, 5, 4, 9, 7, 2, 0, 7,\n",
              "       3, 0, 0, 3, 8, 4, 8, 1, 6, 4, 6, 5, 3, 1, 7, 1, 8, 4, 9, 6, 1, 5,\n",
              "       5, 3, 5, 4, 0, 6, 6, 2, 3, 9, 9, 4, 7, 4, 0, 1, 1, 0, 5, 8, 3, 7,\n",
              "       1, 7, 3, 5, 8, 3, 6, 6, 2, 2, 8, 7, 5, 9, 8, 2, 9, 7, 9, 4, 8, 0,\n",
              "       8, 9, 4, 1, 2, 8, 1, 1, 1, 8, 2, 8, 7, 5, 0, 4, 2, 9, 8, 4, 8, 0,\n",
              "       2, 8, 5, 6, 4, 7, 3, 7, 6, 9, 2, 8, 1, 9, 0, 2, 3, 6, 3, 2, 5, 9,\n",
              "       8, 5, 8, 3, 9, 0, 3, 3, 0, 6, 9, 7, 0, 2, 5, 5, 0, 8, 4, 8, 1, 4,\n",
              "       6, 7, 1, 5, 3, 4, 3, 5, 0, 6, 7, 3, 3, 2, 7, 9, 7, 2, 7, 3, 8, 4,\n",
              "       3, 3, 2, 6, 6, 6, 9, 1, 5, 3, 1, 6, 2, 8, 8, 1, 3, 4, 4, 7, 1, 8,\n",
              "       2, 2, 6, 9, 7, 0, 1, 4, 8, 1, 8, 6, 1, 2, 0, 1, 5, 4, 2, 3, 8, 7,\n",
              "       5, 3, 6, 7, 2, 5, 2, 9, 9, 3, 3, 3, 2, 5, 5, 8, 7, 6, 2, 1, 8, 3,\n",
              "       6, 3, 2, 2, 8, 4, 5, 4, 2, 0, 8, 1, 3, 8, 7, 9, 7, 0, 3, 7, 6, 5,\n",
              "       8, 4, 1, 7, 0, 6, 2, 7, 5, 5, 6, 8, 8, 3, 9, 9, 9, 1, 4, 9, 6, 6,\n",
              "       4, 6, 7, 4, 1, 4, 1, 1, 5, 3, 5, 7, 9, 8, 0, 6, 7, 3, 1, 1, 5, 7,\n",
              "       3, 3, 5, 2, 4, 1, 1, 0, 9, 6, 5, 4, 1, 3, 4, 3, 0, 4, 7, 2, 4, 1,\n",
              "       7, 8, 0, 4, 3, 3, 3, 9, 8, 3, 7, 8, 0, 2, 8, 3, 1, 9, 9, 4, 4, 9,\n",
              "       2, 9, 2, 4, 5, 0, 4, 0, 9, 1, 1, 2, 5, 7, 7, 5, 5, 5, 1, 4, 9, 3,\n",
              "       7, 1, 3, 6, 2, 5, 9, 8, 0, 0, 2, 6, 5, 8, 7, 6, 7, 3, 7, 4, 9, 3,\n",
              "       3, 8, 5, 5, 8, 5, 6, 5, 1, 9, 2, 2, 3, 5, 7, 1, 2, 5, 9, 9, 2, 1,\n",
              "       5, 6, 2, 1, 2, 8, 3, 6, 7, 3, 5, 2, 9, 0, 1, 2, 4, 0, 2, 8, 0, 6,\n",
              "       4, 3, 4, 0, 2, 6, 9, 0, 6, 8, 6, 3, 5, 6, 9, 7, 4, 4, 0, 2, 8, 5,\n",
              "       0, 9, 9, 4, 4, 8, 6, 9, 0, 8, 3, 3, 7, 9, 6, 0, 2, 6, 2, 1, 2, 1,\n",
              "       0, 3, 8, 3, 2, 0, 2, 4, 0, 0, 8, 7, 9, 9, 7, 9, 6, 9, 6, 2, 8, 0,\n",
              "       7, 0, 6, 9, 1, 2, 0, 9, 0, 6, 5, 8, 9, 8, 8, 4, 7, 4, 4, 7, 1, 0,\n",
              "       6, 8, 1, 3, 6, 4, 0, 0, 6, 1, 6, 4, 4, 7, 8, 0, 0, 6, 4, 2, 2, 1,\n",
              "       0, 1, 1, 6, 2, 0, 5, 4, 7, 0, 1, 7, 9, 0, 0, 0, 1, 1, 1, 9, 6, 7,\n",
              "       4, 9, 2, 5, 9, 1, 1, 8, 2, 4, 3, 2, 2, 9, 8, 6, 7, 6, 0, 2, 0, 6,\n",
              "       1, 6, 7, 6, 5, 3, 4, 1, 5, 4, 5, 0, 5, 5, 1, 9, 9, 2, 3, 9, 1, 5,\n",
              "       3, 8, 9, 6, 9, 1, 4, 5, 4, 2, 0, 7, 5, 3, 7, 9, 3, 3, 6, 1, 4, 5,\n",
              "       6, 6, 2, 0, 0, 7, 4, 8, 8, 9, 4, 5, 4, 0, 2, 0, 4, 6, 1, 8, 1, 1,\n",
              "       8, 2, 9, 3, 9, 5, 7, 9, 7, 2, 1, 2, 5, 7, 4, 5, 8, 3, 6, 3, 2, 6,\n",
              "       1, 4, 5, 2, 1, 0, 5, 1])"
            ]
          },
          "metadata": {},
          "execution_count": 13
        }
      ]
    },
    {
      "cell_type": "code",
      "source": [],
      "metadata": {
        "id": "oK4qrIbQ_teD"
      },
      "execution_count": null,
      "outputs": []
    },
    {
      "cell_type": "code",
      "source": [
        "X_train.shape\n",
        "X_train = X_train.reshape(800,320000)\n",
        "X_test = X_test.reshape(200,320000)"
      ],
      "metadata": {
        "id": "iX6LuuSIzkiR"
      },
      "execution_count": 16,
      "outputs": []
    },
    {
      "cell_type": "code",
      "source": [
        "\n",
        "y_test = np.argmax(y_test, axis = 1)"
      ],
      "metadata": {
        "id": "apMOz4fDz-k2"
      },
      "execution_count": 17,
      "outputs": []
    },
    {
      "cell_type": "code",
      "source": [
        "print('fitting...')\n",
        "clf = SVC(C=20.0, gamma=0.00001)\n",
        "clf.fit(X_train, y_train)\n",
        "acc = clf.score(X_test, y_test)\n",
        "print(\"acc=%0.3f\" % acc)"
      ],
      "metadata": {
        "colab": {
          "base_uri": "https://localhost:8080/"
        },
        "id": "3sSL-I4Cyni4",
        "outputId": "85b5bc4e-98ef-4259-d1c3-8a19bc370af3"
      },
      "execution_count": 18,
      "outputs": [
        {
          "output_type": "stream",
          "name": "stdout",
          "text": [
            "fitting...\n",
            "acc=0.735\n"
          ]
        }
      ]
    },
    {
      "cell_type": "code",
      "source": [
        "test_data = "
      ],
      "metadata": {
        "id": "imxEddE7ABy5"
      },
      "execution_count": null,
      "outputs": []
    },
    {
      "cell_type": "code",
      "source": [],
      "metadata": {
        "id": "8p7-GBpZABrs"
      },
      "execution_count": null,
      "outputs": []
    },
    {
      "cell_type": "code",
      "source": [],
      "metadata": {
        "id": "Z34-SCB8ABnw"
      },
      "execution_count": null,
      "outputs": []
    },
    {
      "cell_type": "markdown",
      "metadata": {
        "id": "RRtVyzwB5hm0"
      },
      "source": [
        "# Model 2 (Treating data as spectrograms)"
      ]
    },
    {
      "cell_type": "code",
      "execution_count": 46,
      "metadata": {
        "id": "rHegDXcjua23"
      },
      "outputs": [],
      "source": [
        "from sklearn.model_selection import train_test_split\n",
        "X_train,X_test,y_train,y_test=train_test_split(X_train,Y_train,test_size=0.2,random_state=0, shuffle = True)"
      ]
    },
    {
      "cell_type": "code",
      "execution_count": 25,
      "metadata": {
        "id": "R2OPayBmufsU"
      },
      "outputs": [],
      "source": [
        "import librosa\n",
        "import numpy as np\n",
        "import scipy\n",
        "from keras import losses, models, optimizers\n",
        "from keras.activations import relu, softmax\n",
        "from keras.callbacks import (EarlyStopping, LearningRateScheduler,\n",
        "                             ModelCheckpoint, TensorBoard, ReduceLROnPlateau)\n",
        "from keras.layers import (Convolution1D, Dense, Dropout, GlobalAveragePooling1D, \n",
        "                          GlobalMaxPool1D, Input, MaxPool1D, concatenate, SpatialDropout2D, AveragePooling2D)\n",
        "# from keras.utils import Sequence, to_categorical\n",
        "from tensorflow.keras.utils import Sequence, to_categorical\n",
        "\n",
        "from keras.layers import (Convolution2D, GlobalAveragePooling2D, BatchNormalization, Flatten,\n",
        "                          GlobalMaxPool2D, MaxPool2D, concatenate, Activation)\n",
        "# from keras.utils import Sequence, to_categorical\n",
        "from keras import backend as K\n",
        "# tf.keras.layers.Dropout"
      ]
    },
    {
      "cell_type": "code",
      "execution_count": null,
      "metadata": {
        "id": "hlRM09q0u7Y3"
      },
      "outputs": [],
      "source": [
        "import tensorflow as tf"
      ]
    },
    {
      "cell_type": "code",
      "execution_count": 48,
      "metadata": {
        "id": "HImKAz21uidf"
      },
      "outputs": [],
      "source": [
        "def get_2d_conv_model():\n",
        "    \n",
        "    nclass = 10\n",
        "    \n",
        "    inp = Input(shape=(128,2500,1))\n",
        "    x = Convolution2D(8, (3,3), padding=\"same\")(inp)\n",
        "    # x = BatchNormalization()(x)\n",
        "    x = Activation(\"relu\")(x)\n",
        "    x = MaxPool2D(pool_size = (2,2))(x)\n",
        "    x = Dropout(0.25)(x)\n",
        "    \n",
        "    x = Convolution2D(16, (3,3), padding=\"same\")(x)\n",
        "    # x = BatchNormalization()(x)\n",
        "    x = Activation(\"relu\")(x)\n",
        "    x = MaxPool2D(pool_size = (2,2))(x)\n",
        "    x = Dropout(0.25)(x)\n",
        "\n",
        "    x = Convolution2D(32, (3,3), padding=\"same\")(x)\n",
        "    # x = BatchNormalization()(x)\n",
        "    x = Activation(\"relu\")(x)\n",
        "    x = MaxPool2D(pool_size = (2,2))(x)\n",
        "    x = Dropout(0.25)(x)\n",
        "    \n",
        "    # x = Convolution2D(64, (3,3), padding=\"same\")(x)\n",
        "    # # x = BatchNormalization()(x)\n",
        "    # x = Activation(\"relu\")(x)\n",
        "    # # x = SpatialDropout2D(0.5)\n",
        "    # x = MaxPool2D()(x)\n",
        "    \n",
        "    # x = Convolution2D(128, (3,3), padding=\"same\")(x)\n",
        "    # x = BatchNormalization()(x)\n",
        "    # x = Activation(\"relu\")(x)\n",
        "    # # x = SpatialDropout2D(0.5)\n",
        "    # x = MaxPool2D()(x)\n",
        "\n",
        "    # x = Convolution2D(256, (3,3), padding=\"same\")(x)\n",
        "    # x = BatchNormalization()(x)\n",
        "    # x = Activation(\"relu\")(x)\n",
        "    # # x = SpatialDropout2D(0.5)\n",
        "    # x = MaxPool2D()(x)\n",
        "\n",
        "    # x = Convolution2D(512, (3,3), padding=\"same\")(x)\n",
        "    # x = BatchNormalization()(x)\n",
        "    # x = Activation(\"relu\")(x)\n",
        "    # # x = SpatialDropout2D(0.5)\n",
        "    # x = MaxPool2D()(x)\n",
        "\n",
        "    x = Flatten()(x)\n",
        "    x = Dense(32)(x)\n",
        "    # x = BatchNormalization()(x)\n",
        "    x = Activation(\"relu\")(x)\n",
        "    x = Dropout(0.25)(x)\n",
        "    # x = Dense(256)(x)\n",
        "    # x = BatchNormalization()(x)\n",
        "    # x = Activation(\"relu\")(x)\n",
        "    out = Dense(10, activation= softmax)(x)\n",
        "\n",
        "    model = models.Model(inputs=inp, outputs=out)\n",
        "    opt = tf.keras.optimizers.Adam(lr = 0.0001)\n",
        "    # opt = tf.keras.optimizers.SGD(learning_rate=0.0001, momentum=0.0, nesterov=False, name=\"SGD\")\n",
        "\n",
        "    model.compile(optimizer=opt, loss=losses.categorical_crossentropy, metrics=['acc'])\n",
        "    # model.compile(optimizer='adam',\n",
        "              # loss=tf.keras.losses.SparseCategoricalCrossentropy(),\n",
        "              # metrics=['accuracy'])\n",
        "    return model"
      ]
    },
    {
      "cell_type": "code",
      "execution_count": null,
      "metadata": {
        "colab": {
          "base_uri": "https://localhost:8080/"
        },
        "id": "o7rQC33ZXLHT",
        "outputId": "abe5a410-4aab-404f-d282-b731279ac955"
      },
      "outputs": [
        {
          "data": {
            "text/plain": [
              "(800, 128, 2500, 1)"
            ]
          },
          "execution_count": 19,
          "metadata": {},
          "output_type": "execute_result"
        }
      ],
      "source": [
        "X_train.shape"
      ]
    },
    {
      "cell_type": "code",
      "execution_count": null,
      "metadata": {
        "colab": {
          "base_uri": "https://localhost:8080/"
        },
        "id": "EbBjJub0XNir",
        "outputId": "0049e6af-8498-4221-a844-954686d70ba5"
      },
      "outputs": [
        {
          "data": {
            "text/plain": [
              "(800, 10)"
            ]
          },
          "execution_count": 15,
          "metadata": {},
          "output_type": "execute_result"
        }
      ],
      "source": [
        "y_train.shape"
      ]
    },
    {
      "cell_type": "code",
      "execution_count": null,
      "metadata": {
        "colab": {
          "base_uri": "https://localhost:8080/"
        },
        "id": "0f5MRRunXQyh",
        "outputId": "3f60ddf3-6ce9-42fc-b6d1-ab6d4ce91275"
      },
      "outputs": [
        {
          "data": {
            "text/plain": [
              "(200, 128, 2500, 1)"
            ]
          },
          "execution_count": 16,
          "metadata": {},
          "output_type": "execute_result"
        }
      ],
      "source": [
        "X_test.shape"
      ]
    },
    {
      "cell_type": "code",
      "execution_count": 49,
      "metadata": {
        "colab": {
          "base_uri": "https://localhost:8080/"
        },
        "id": "A81C_V1dwcsH",
        "outputId": "747e7c2e-fe21-4aa1-d26e-ce02b1a90713"
      },
      "outputs": [
        {
          "output_type": "stream",
          "name": "stdout",
          "text": [
            "Epoch 1/40\n",
            "25/25 [==============================] - ETA: 0s - loss: 2.1645 - acc: 0.2425\n",
            "Epoch 1: val_loss improved from inf to 2.06335, saving model to model_spec_adam_small.h5\n",
            "25/25 [==============================] - 121s 5s/step - loss: 2.1645 - acc: 0.2425 - val_loss: 2.0633 - val_acc: 0.3500\n",
            "Epoch 2/40\n",
            "25/25 [==============================] - ETA: 0s - loss: 1.8144 - acc: 0.3950\n",
            "Epoch 2: val_loss improved from 2.06335 to 1.90904, saving model to model_spec_adam_small.h5\n",
            "25/25 [==============================] - 120s 5s/step - loss: 1.8144 - acc: 0.3950 - val_loss: 1.9090 - val_acc: 0.4750\n",
            "Epoch 3/40\n",
            "25/25 [==============================] - ETA: 0s - loss: 1.6132 - acc: 0.4863\n",
            "Epoch 3: val_loss improved from 1.90904 to 1.75428, saving model to model_spec_adam_small.h5\n",
            "25/25 [==============================] - 118s 5s/step - loss: 1.6132 - acc: 0.4863 - val_loss: 1.7543 - val_acc: 0.6100\n",
            "Epoch 4/40\n",
            "25/25 [==============================] - ETA: 0s - loss: 1.4415 - acc: 0.5213\n",
            "Epoch 4: val_loss improved from 1.75428 to 1.57955, saving model to model_spec_adam_small.h5\n",
            "25/25 [==============================] - 126s 5s/step - loss: 1.4415 - acc: 0.5213 - val_loss: 1.5795 - val_acc: 0.6500\n",
            "Epoch 5/40\n",
            "25/25 [==============================] - ETA: 0s - loss: 1.3175 - acc: 0.5800\n",
            "Epoch 5: val_loss improved from 1.57955 to 1.42955, saving model to model_spec_adam_small.h5\n",
            "25/25 [==============================] - 119s 5s/step - loss: 1.3175 - acc: 0.5800 - val_loss: 1.4296 - val_acc: 0.6650\n",
            "Epoch 6/40\n",
            "25/25 [==============================] - ETA: 0s - loss: 1.1879 - acc: 0.6363\n",
            "Epoch 6: val_loss improved from 1.42955 to 1.36816, saving model to model_spec_adam_small.h5\n",
            "25/25 [==============================] - 122s 5s/step - loss: 1.1879 - acc: 0.6363 - val_loss: 1.3682 - val_acc: 0.6650\n",
            "Epoch 7/40\n",
            "25/25 [==============================] - ETA: 0s - loss: 1.1279 - acc: 0.6550\n",
            "Epoch 7: val_loss improved from 1.36816 to 1.28287, saving model to model_spec_adam_small.h5\n",
            "25/25 [==============================] - 121s 5s/step - loss: 1.1279 - acc: 0.6550 - val_loss: 1.2829 - val_acc: 0.6750\n",
            "Epoch 8/40\n",
            "25/25 [==============================] - ETA: 0s - loss: 1.0260 - acc: 0.6963\n",
            "Epoch 8: val_loss improved from 1.28287 to 1.25693, saving model to model_spec_adam_small.h5\n",
            "25/25 [==============================] - 120s 5s/step - loss: 1.0260 - acc: 0.6963 - val_loss: 1.2569 - val_acc: 0.6900\n",
            "Epoch 9/40\n",
            "25/25 [==============================] - ETA: 0s - loss: 0.9447 - acc: 0.6900\n",
            "Epoch 9: val_loss improved from 1.25693 to 1.14130, saving model to model_spec_adam_small.h5\n",
            "25/25 [==============================] - 128s 5s/step - loss: 0.9447 - acc: 0.6900 - val_loss: 1.1413 - val_acc: 0.7000\n",
            "Epoch 10/40\n",
            "25/25 [==============================] - ETA: 0s - loss: 0.8419 - acc: 0.7337\n",
            "Epoch 10: val_loss improved from 1.14130 to 1.12279, saving model to model_spec_adam_small.h5\n",
            "25/25 [==============================] - 122s 5s/step - loss: 0.8419 - acc: 0.7337 - val_loss: 1.1228 - val_acc: 0.6900\n",
            "Epoch 11/40\n",
            "25/25 [==============================] - ETA: 0s - loss: 0.7832 - acc: 0.7600\n",
            "Epoch 11: val_loss improved from 1.12279 to 1.04924, saving model to model_spec_adam_small.h5\n",
            "25/25 [==============================] - 123s 5s/step - loss: 0.7832 - acc: 0.7600 - val_loss: 1.0492 - val_acc: 0.7450\n",
            "Epoch 12/40\n",
            "25/25 [==============================] - ETA: 0s - loss: 0.7348 - acc: 0.7625\n",
            "Epoch 12: val_loss improved from 1.04924 to 1.01582, saving model to model_spec_adam_small.h5\n",
            "25/25 [==============================] - 121s 5s/step - loss: 0.7348 - acc: 0.7625 - val_loss: 1.0158 - val_acc: 0.7350\n",
            "Epoch 13/40\n",
            "25/25 [==============================] - ETA: 0s - loss: 0.7252 - acc: 0.7925\n",
            "Epoch 13: val_loss improved from 1.01582 to 1.01445, saving model to model_spec_adam_small.h5\n",
            "25/25 [==============================] - 127s 5s/step - loss: 0.7252 - acc: 0.7925 - val_loss: 1.0144 - val_acc: 0.7400\n",
            "Epoch 14/40\n",
            "25/25 [==============================] - ETA: 0s - loss: 0.6918 - acc: 0.7613\n",
            "Epoch 14: val_loss did not improve from 1.01445\n",
            "25/25 [==============================] - 123s 5s/step - loss: 0.6918 - acc: 0.7613 - val_loss: 1.1366 - val_acc: 0.7350\n",
            "Epoch 15/40\n",
            "25/25 [==============================] - ETA: 0s - loss: 0.6350 - acc: 0.7875\n",
            "Epoch 15: val_loss improved from 1.01445 to 0.94661, saving model to model_spec_adam_small.h5\n",
            "25/25 [==============================] - 120s 5s/step - loss: 0.6350 - acc: 0.7875 - val_loss: 0.9466 - val_acc: 0.7450\n",
            "Epoch 16/40\n",
            "25/25 [==============================] - ETA: 0s - loss: 0.6183 - acc: 0.8000\n",
            "Epoch 16: val_loss did not improve from 0.94661\n",
            "25/25 [==============================] - 122s 5s/step - loss: 0.6183 - acc: 0.8000 - val_loss: 0.9481 - val_acc: 0.7150\n",
            "Epoch 17/40\n",
            "25/25 [==============================] - ETA: 0s - loss: 0.5800 - acc: 0.8163\n",
            "Epoch 17: val_loss did not improve from 0.94661\n",
            "25/25 [==============================] - 120s 5s/step - loss: 0.5800 - acc: 0.8163 - val_loss: 1.0220 - val_acc: 0.7300\n",
            "Epoch 18/40\n",
            "25/25 [==============================] - ETA: 0s - loss: 0.5963 - acc: 0.8250\n",
            "Epoch 18: val_loss did not improve from 0.94661\n",
            "25/25 [==============================] - 123s 5s/step - loss: 0.5963 - acc: 0.8250 - val_loss: 0.9584 - val_acc: 0.7400\n",
            "Epoch 19/40\n",
            "25/25 [==============================] - ETA: 0s - loss: 0.5407 - acc: 0.8275\n",
            "Epoch 19: val_loss did not improve from 0.94661\n",
            "25/25 [==============================] - 121s 5s/step - loss: 0.5407 - acc: 0.8275 - val_loss: 1.0196 - val_acc: 0.7400\n",
            "Epoch 20/40\n",
            "25/25 [==============================] - ETA: 0s - loss: 0.5206 - acc: 0.8213\n",
            "Epoch 20: val_loss did not improve from 0.94661\n",
            "25/25 [==============================] - 123s 5s/step - loss: 0.5206 - acc: 0.8213 - val_loss: 1.0416 - val_acc: 0.7650\n"
          ]
        }
      ],
      "source": [
        "checkpoint = ModelCheckpoint('model_spec_adam_small.h5', monitor='val_loss', verbose=1, save_best_only=True)\n",
        "early = EarlyStopping(monitor=\"val_loss\", mode=\"min\", patience=5)\n",
        "callbacks_list = [checkpoint, early]\n",
        "model = get_2d_conv_model()\n",
        "history = model.fit(X_train, y_train, validation_data=(X_test, y_test), callbacks=callbacks_list, \n",
        "                        batch_size=32, epochs=40)\n",
        "model.load_weights('model_spec_adam_small.h5')"
      ]
    },
    {
      "cell_type": "code",
      "execution_count": null,
      "metadata": {
        "colab": {
          "base_uri": "https://localhost:8080/",
          "height": 359
        },
        "id": "vWZhmX-buxLz",
        "outputId": "4ff6b1a8-c7e3-4895-9168-32856810cc43"
      },
      "outputs": [
        {
          "ename": "ValueError",
          "evalue": "ignored",
          "output_type": "error",
          "traceback": [
            "\u001b[0;31m---------------------------------------------------------------------------\u001b[0m",
            "\u001b[0;31mValueError\u001b[0m                                Traceback (most recent call last)",
            "\u001b[0;32m<ipython-input-42-8db093104506>\u001b[0m in \u001b[0;36m<module>\u001b[0;34m\u001b[0m\n\u001b[1;32m      5\u001b[0m \u001b[0;31m# history = model.fit(X_train, y_train, validation_data=(X_test, y_test), callbacks=callbacks_list,\u001b[0m\u001b[0;34m\u001b[0m\u001b[0;34m\u001b[0m\u001b[0;34m\u001b[0m\u001b[0m\n\u001b[1;32m      6\u001b[0m \u001b[0;31m#                         batch_size=32, epochs=40)\u001b[0m\u001b[0;34m\u001b[0m\u001b[0;34m\u001b[0m\u001b[0;34m\u001b[0m\u001b[0m\n\u001b[0;32m----> 7\u001b[0;31m \u001b[0mmodel\u001b[0m\u001b[0;34m.\u001b[0m\u001b[0mload_weights\u001b[0m\u001b[0;34m(\u001b[0m\u001b[0;34m'model_spec_adam.h5'\u001b[0m\u001b[0;34m)\u001b[0m\u001b[0;34m\u001b[0m\u001b[0;34m\u001b[0m\u001b[0m\n\u001b[0m",
            "\u001b[0;32m/usr/local/lib/python3.7/dist-packages/keras/utils/traceback_utils.py\u001b[0m in \u001b[0;36merror_handler\u001b[0;34m(*args, **kwargs)\u001b[0m\n\u001b[1;32m     65\u001b[0m     \u001b[0;32mexcept\u001b[0m \u001b[0mException\u001b[0m \u001b[0;32mas\u001b[0m \u001b[0me\u001b[0m\u001b[0;34m:\u001b[0m  \u001b[0;31m# pylint: disable=broad-except\u001b[0m\u001b[0;34m\u001b[0m\u001b[0;34m\u001b[0m\u001b[0m\n\u001b[1;32m     66\u001b[0m       \u001b[0mfiltered_tb\u001b[0m \u001b[0;34m=\u001b[0m \u001b[0m_process_traceback_frames\u001b[0m\u001b[0;34m(\u001b[0m\u001b[0me\u001b[0m\u001b[0;34m.\u001b[0m\u001b[0m__traceback__\u001b[0m\u001b[0;34m)\u001b[0m\u001b[0;34m\u001b[0m\u001b[0;34m\u001b[0m\u001b[0m\n\u001b[0;32m---> 67\u001b[0;31m       \u001b[0;32mraise\u001b[0m \u001b[0me\u001b[0m\u001b[0;34m.\u001b[0m\u001b[0mwith_traceback\u001b[0m\u001b[0;34m(\u001b[0m\u001b[0mfiltered_tb\u001b[0m\u001b[0;34m)\u001b[0m \u001b[0;32mfrom\u001b[0m \u001b[0;32mNone\u001b[0m\u001b[0;34m\u001b[0m\u001b[0;34m\u001b[0m\u001b[0m\n\u001b[0m\u001b[1;32m     68\u001b[0m     \u001b[0;32mfinally\u001b[0m\u001b[0;34m:\u001b[0m\u001b[0;34m\u001b[0m\u001b[0;34m\u001b[0m\u001b[0m\n\u001b[1;32m     69\u001b[0m       \u001b[0;32mdel\u001b[0m \u001b[0mfiltered_tb\u001b[0m\u001b[0;34m\u001b[0m\u001b[0;34m\u001b[0m\u001b[0m\n",
            "\u001b[0;32m/usr/local/lib/python3.7/dist-packages/keras/saving/hdf5_format.py\u001b[0m in \u001b[0;36mload_weights_from_hdf5_group\u001b[0;34m(f, model)\u001b[0m\n\u001b[1;32m    727\u001b[0m   \u001b[0;32mif\u001b[0m \u001b[0mlen\u001b[0m\u001b[0;34m(\u001b[0m\u001b[0mlayer_names\u001b[0m\u001b[0;34m)\u001b[0m \u001b[0;34m!=\u001b[0m \u001b[0mlen\u001b[0m\u001b[0;34m(\u001b[0m\u001b[0mfiltered_layers\u001b[0m\u001b[0;34m)\u001b[0m\u001b[0;34m:\u001b[0m\u001b[0;34m\u001b[0m\u001b[0;34m\u001b[0m\u001b[0m\n\u001b[1;32m    728\u001b[0m     raise ValueError(\n\u001b[0;32m--> 729\u001b[0;31m         \u001b[0;34mf'Layer count mismatch when loading weights from file. '\u001b[0m\u001b[0;34m\u001b[0m\u001b[0;34m\u001b[0m\u001b[0m\n\u001b[0m\u001b[1;32m    730\u001b[0m         \u001b[0;34mf'Model expected {len(filtered_layers)} layers, found '\u001b[0m\u001b[0;34m\u001b[0m\u001b[0;34m\u001b[0m\u001b[0m\n\u001b[1;32m    731\u001b[0m         f'{len(layer_names)} saved layers.')\n",
            "\u001b[0;31mValueError\u001b[0m: Layer count mismatch when loading weights from file. Model expected 4 layers, found 13 saved layers."
          ]
        }
      ],
      "source": [
        "checkpoint = ModelCheckpoint('model_spec_adam.h5', monitor='val_loss', verbose=1, save_best_only=True)\n",
        "early = EarlyStopping(monitor=\"val_loss\", mode=\"min\", patience=5)\n",
        "callbacks_list = [checkpoint, early]\n",
        "model = get_2d_conv_model()\n",
        "history = model.fit(X_train, y_train, validation_data=(X_test, y_test), callbacks=callbacks_list, \n",
        "                        batch_size=32, epochs=40)\n",
        "model.load_weights('model_spec_adam.h5')"
      ]
    },
    {
      "cell_type": "code",
      "execution_count": null,
      "metadata": {
        "id": "hWG7ST9fsptL"
      },
      "outputs": [],
      "source": [
        "def plt_dynamic(x, vy, ty, ax, colors=['b']):\n",
        "    ax.plot(x, vy, 'b', label=\"Validation Loss\")\n",
        "    ax.plot(x, ty, 'r', label=\"Train Loss\")\n",
        "    plt.legend()\n",
        "    plt.grid()\n",
        "    fig.canvas.draw()"
      ]
    },
    {
      "cell_type": "code",
      "execution_count": null,
      "metadata": {
        "colab": {
          "base_uri": "https://localhost:8080/",
          "height": 284
        },
        "id": "wMfr_L10uyoS",
        "outputId": "41101880-ae79-4821-a977-2567136bea3f"
      },
      "outputs": [
        {
          "data": {
            "image/png": "[encoded data removed]",
            "text/plain": [
              "<Figure size 432x288 with 1 Axes>"
            ]
          },
          "metadata": {
            "image/png": {
              "height": 267,
              "width": 392
            }
          },
          "output_type": "display_data"
        }
      ],
      "source": [
        "%matplotlib inline\n",
        "sns.set_context('notebook')\n",
        "%config InlineBackend.figure_format = 'retina'\n",
        "\n",
        "\n",
        "fig,ax = plt.subplots(1,1)\n",
        "ax.set_xlabel('epoch') ; ax.set_ylabel('Categorical Crossentropy Loss')\n",
        "\n",
        "# list of epoch numbers\n",
        "x = list(range(1,15+1))\n",
        "\n",
        "# print(history.history.keys())\n",
        "# dict_keys(['val_loss', 'val_acc', 'loss', 'acc'])\n",
        "# history = model_drop.fit(X_train, Y_train, batch_size=batch_size, epochs=nb_epoch, verbose=1, validation_data=(X_test, Y_test))\n",
        "\n",
        "# we will get val_loss and val_acc only when you pass the paramter validation_data\n",
        "# val_loss : validation loss\n",
        "# val_acc : validation accuracy\n",
        "\n",
        "# loss : training loss\n",
        "# acc : train accuracy\n",
        "# for each key in histrory.histrory we will have a list of length equal to number of epochs\n",
        "\n",
        "\n",
        "vy = history.history['val_loss']\n",
        "ty = history.history['loss']\n",
        "plt_dynamic(x, vy, ty, ax)"
      ]
    },
    {
      "cell_type": "code",
      "execution_count": null,
      "metadata": {
        "colab": {
          "base_uri": "https://localhost:8080/",
          "height": 424
        },
        "id": "6x-5Abnqxf-a",
        "outputId": "ab4ff2d9-5d58-4117-eabe-86ca5bcc86c3"
      },
      "outputs": [
        {
          "data": {
            "text/html": [
              "\n",
              "  <div id=\"df-4f8be0fd-5f8d-4a43-b757-ba388ac6a401\">\n",
              "    <div class=\"colab-df-container\">\n",
              "      <div>\n",
              "<style scoped>\n",
              "    .dataframe tbody tr th:only-of-type {\n",
              "        vertical-align: middle;\n",
              "    }\n",
              "\n",
              "    .dataframe tbody tr th {\n",
              "        vertical-align: top;\n",
              "    }\n",
              "\n",
              "    .dataframe thead th {\n",
              "        text-align: right;\n",
              "    }\n",
              "</style>\n",
              "<table border=\"1\" class=\"dataframe\">\n",
              "  <thead>\n",
              "    <tr style=\"text-align: right;\">\n",
              "      <th></th>\n",
              "      <th>fname</th>\n",
              "      <th>label</th>\n",
              "      <th>split</th>\n",
              "      <th>class</th>\n",
              "    </tr>\n",
              "  </thead>\n",
              "  <tbody>\n",
              "    <tr>\n",
              "      <th>0</th>\n",
              "      <td>02639.npy</td>\n",
              "      <td>Bark</td>\n",
              "      <td>train</td>\n",
              "      <td>0</td>\n",
              "    </tr>\n",
              "    <tr>\n",
              "      <th>1</th>\n",
              "      <td>1580.npy</td>\n",
              "      <td>Bark</td>\n",
              "      <td>train</td>\n",
              "      <td>0</td>\n",
              "    </tr>\n",
              "    <tr>\n",
              "      <th>2</th>\n",
              "      <td>24030.npy</td>\n",
              "      <td>Bark</td>\n",
              "      <td>train</td>\n",
              "      <td>0</td>\n",
              "    </tr>\n",
              "    <tr>\n",
              "      <th>3</th>\n",
              "      <td>316499.npy</td>\n",
              "      <td>Bark</td>\n",
              "      <td>train</td>\n",
              "      <td>0</td>\n",
              "    </tr>\n",
              "    <tr>\n",
              "      <th>4</th>\n",
              "      <td>413718.npy</td>\n",
              "      <td>Bark</td>\n",
              "      <td>train</td>\n",
              "      <td>0</td>\n",
              "    </tr>\n",
              "    <tr>\n",
              "      <th>...</th>\n",
              "      <td>...</td>\n",
              "      <td>...</td>\n",
              "      <td>...</td>\n",
              "      <td>...</td>\n",
              "    </tr>\n",
              "    <tr>\n",
              "      <th>995</th>\n",
              "      <td>9956925.npy</td>\n",
              "      <td>Walk_and_footsteps</td>\n",
              "      <td>train</td>\n",
              "      <td>9</td>\n",
              "    </tr>\n",
              "    <tr>\n",
              "      <th>996</th>\n",
              "      <td>99611454.npy</td>\n",
              "      <td>Walk_and_footsteps</td>\n",
              "      <td>train</td>\n",
              "      <td>9</td>\n",
              "    </tr>\n",
              "    <tr>\n",
              "      <th>997</th>\n",
              "      <td>9979729.npy</td>\n",
              "      <td>Walk_and_footsteps</td>\n",
              "      <td>train</td>\n",
              "      <td>9</td>\n",
              "    </tr>\n",
              "    <tr>\n",
              "      <th>998</th>\n",
              "      <td>99818869.npy</td>\n",
              "      <td>Walk_and_footsteps</td>\n",
              "      <td>train</td>\n",
              "      <td>9</td>\n",
              "    </tr>\n",
              "    <tr>\n",
              "      <th>999</th>\n",
              "      <td>999433.npy</td>\n",
              "      <td>Walk_and_footsteps</td>\n",
              "      <td>train</td>\n",
              "      <td>9</td>\n",
              "    </tr>\n",
              "  </tbody>\n",
              "</table>\n",
              "<p>1000 rows × 4 columns</p>\n",
              "</div>\n",
              "      <button class=\"colab-df-convert\" onclick=\"convertToInteractive('df-4f8be0fd-5f8d-4a43-b757-ba388ac6a401')\"\n",
              "              title=\"Convert this dataframe to an interactive table.\"\n",
              "              style=\"display:none;\">\n",
              "        \n",
              "  <svg xmlns=\"http://www.w3.org/2000/svg\" height=\"24px\"viewBox=\"0 0 24 24\"\n",
              "       width=\"24px\">\n",
              "    <path d=\"M0 0h24v24H0V0z\" fill=\"none\"/>\n",
              "    <path d=\"M18.56 5.44l.94 2.06.94-2.06 2.06-.94-2.06-.94-.94-2.06-.94 2.06-2.06.94zm-11 1L8.5 8.5l.94-2.06 2.06-.94-2.06-.94L8.5 2.5l-.94 2.06-2.06.94zm10 10l.94 2.06.94-2.06 2.06-.94-2.06-.94-.94-2.06-.94 2.06-2.06.94z\"/><path d=\"M17.41 7.96l-1.37-1.37c-.4-.4-.92-.59-1.43-.59-.52 0-1.04.2-1.43.59L10.3 9.45l-7.72 7.72c-.78.78-.78 2.05 0 2.83L4 21.41c.39.39.9.59 1.41.59.51 0 1.02-.2 1.41-.59l7.78-7.78 2.81-2.81c.8-.78.8-2.07 0-2.86zM5.41 20L4 18.59l7.72-7.72 1.47 1.35L5.41 20z\"/>\n",
              "  </svg>\n",
              "      </button>\n",
              "      \n",
              "  <style>\n",
              "    .colab-df-container {\n",
              "      display:flex;\n",
              "      flex-wrap:wrap;\n",
              "      gap: 12px;\n",
              "    }\n",
              "\n",
              "    .colab-df-convert {\n",
              "      background-color: #E8F0FE;\n",
              "      border: none;\n",
              "      border-radius: 50%;\n",
              "      cursor: pointer;\n",
              "      display: none;\n",
              "      fill: #1967D2;\n",
              "      height: 32px;\n",
              "      padding: 0 0 0 0;\n",
              "      width: 32px;\n",
              "    }\n",
              "\n",
              "    .colab-df-convert:hover {\n",
              "      background-color: #E2EBFA;\n",
              "      box-shadow: 0px 1px 2px rgba(60, 64, 67, 0.3), 0px 1px 3px 1px rgba(60, 64, 67, 0.15);\n",
              "      fill: #174EA6;\n",
              "    }\n",
              "\n",
              "    [theme=dark] .colab-df-convert {\n",
              "      background-color: #3B4455;\n",
              "      fill: #D2E3FC;\n",
              "    }\n",
              "\n",
              "    [theme=dark] .colab-df-convert:hover {\n",
              "      background-color: #434B5C;\n",
              "      box-shadow: 0px 1px 3px 1px rgba(0, 0, 0, 0.15);\n",
              "      filter: drop-shadow(0px 1px 2px rgba(0, 0, 0, 0.3));\n",
              "      fill: #FFFFFF;\n",
              "    }\n",
              "  </style>\n",
              "\n",
              "      <script>\n",
              "        const buttonEl =\n",
              "          document.querySelector('#df-4f8be0fd-5f8d-4a43-b757-ba388ac6a401 button.colab-df-convert');\n",
              "        buttonEl.style.display =\n",
              "          google.colab.kernel.accessAllowed ? 'block' : 'none';\n",
              "\n",
              "        async function convertToInteractive(key) {\n",
              "          const element = document.querySelector('#df-4f8be0fd-5f8d-4a43-b757-ba388ac6a401');\n",
              "          const dataTable =\n",
              "            await google.colab.kernel.invokeFunction('convertToInteractive',\n",
              "                                                     [key], {});\n",
              "          if (!dataTable) return;\n",
              "\n",
              "          const docLinkHtml = 'Like what you see? Visit the ' +\n",
              "            '<a target=\"_blank\" href=https://colab.research.google.com/notebooks/data_table.ipynb>data table notebook</a>'\n",
              "            + ' to learn more about interactive tables.';\n",
              "          element.innerHTML = '';\n",
              "          dataTable['output_type'] = 'display_data';\n",
              "          await google.colab.output.renderOutput(dataTable, element);\n",
              "          const docLink = document.createElement('div');\n",
              "          docLink.innerHTML = docLinkHtml;\n",
              "          element.appendChild(docLink);\n",
              "        }\n",
              "      </script>\n",
              "    </div>\n",
              "  </div>\n",
              "  "
            ],
            "text/plain": [
              "            fname               label  split class\n",
              "0       02639.npy                Bark  train     0\n",
              "1        1580.npy                Bark  train     0\n",
              "2       24030.npy                Bark  train     0\n",
              "3      316499.npy                Bark  train     0\n",
              "4      413718.npy                Bark  train     0\n",
              "..            ...                 ...    ...   ...\n",
              "995   9956925.npy  Walk_and_footsteps  train     9\n",
              "996  99611454.npy  Walk_and_footsteps  train     9\n",
              "997   9979729.npy  Walk_and_footsteps  train     9\n",
              "998  99818869.npy  Walk_and_footsteps  train     9\n",
              "999    999433.npy  Walk_and_footsteps  train     9\n",
              "\n",
              "[1000 rows x 4 columns]"
            ]
          },
          "execution_count": 13,
          "metadata": {},
          "output_type": "execute_result"
        }
      ],
      "source": [
        "df"
      ]
    },
    {
      "cell_type": "code",
      "execution_count": null,
      "metadata": {
        "id": "tuMRPUbqxbf6"
      },
      "outputs": [],
      "source": [
        "x = np.load(train_dir + '/' +  '1580.npy')"
      ]
    },
    {
      "cell_type": "code",
      "execution_count": null,
      "metadata": {
        "id": "hswhv-IOzVXT"
      },
      "outputs": [],
      "source": [
        "x = x.reshape(x.shape[1],x.shape[2])"
      ]
    },
    {
      "cell_type": "code",
      "execution_count": null,
      "metadata": {
        "id": "UA5-q1xnxvWD"
      },
      "outputs": [],
      "source": [
        "import librosa.display"
      ]
    },
    {
      "cell_type": "code",
      "execution_count": null,
      "metadata": {
        "id": "x4zTSjmHxx1i"
      },
      "outputs": [],
      "source": [
        "plt.rcParams[\"figure.figsize\"] = [7.50, 3.50]\n",
        "plt.rcParams[\"figure.autolayout\"] = True\n",
        "\n",
        "from matplotlib.backends.backend_agg import FigureCanvasAgg as FigureCanvas\n",
        "\n",
        "fig = plt.Figure()\n",
        "canvas = FigureCanvas(fig)\n",
        "ax = fig.add_subplot(111)\n",
        "\n",
        "img = librosa.display.specshow(x, ax = ax)\n",
        "fig.savefig('out.png')\n",
        "# plt.show()"
      ]
    },
    {
      "cell_type": "code",
      "execution_count": null,
      "metadata": {
        "id": "mZTnEv3125XR"
      },
      "outputs": [],
      "source": [
        "import skimage.io\n",
        "\n",
        "def scale_minmax(X, min=0.0, max=1.0):\n",
        "    X_std = (X - X.min()) / (X.max() - X.min())\n",
        "    X_scaled = X_std * (max - min) + min\n",
        "    return X_scaled\n",
        "\n",
        "img = scale_minmax(x, 0, 255).astype(np.uint8)\n",
        "img = np.flip(img, axis=0) # put low frequencies at the bottom in image\n",
        "img = 255-img # invert. make black==more energy\n",
        "\n",
        "    # save as PNG\n",
        "skimage.io.imsave('a.png', img)"
      ]
    },
    {
      "cell_type": "code",
      "execution_count": null,
      "metadata": {
        "colab": {
          "base_uri": "https://localhost:8080/"
        },
        "id": "WACJUH801UZM",
        "outputId": "9e455a95-0eeb-44be-e7ba-82c376ced469"
      },
      "outputs": [
        {
          "data": {
            "text/plain": [
              "<matplotlib.collections.QuadMesh at 0x7f99bd2d3ed0>"
            ]
          },
          "execution_count": 50,
          "metadata": {},
          "output_type": "execute_result"
        }
      ],
      "source": [
        "img"
      ]
    },
    {
      "cell_type": "markdown",
      "metadata": {
        "id": "KV2809mV3Qc7"
      },
      "source": [
        "#Model 3, contains several models (Converting all spectrograms to images and then training them with cnn)"
      ]
    },
    {
      "cell_type": "code",
      "execution_count": 35,
      "metadata": {
        "id": "nBLYR_jW3Tlo"
      },
      "outputs": [],
      "source": [
        "import librosa.display\n",
        "for file in os.listdir(train_dir):\n",
        "  x = np.load(train_dir + '/' + file)\n",
        "  x = x.reshape(x.shape[1], x.shape[2])\n",
        "  fig = plt.Figure()\n",
        "  # canvas = FigureCanvas(fig)\n",
        "  ax = fig.add_subplot(111)\n",
        "\n",
        "  img = librosa.display.specshow(x, ax = ax)\n",
        "  name = '/content/image/' + str(file.split('.')[0]) + '.jpg'\n",
        "  fig.savefig(name)"
      ]
    },
    {
      "cell_type": "code",
      "source": [
        "import librosa.display\n",
        "for file in os.listdir(test_dir):\n",
        "  x = np.load(test_dir + '/' + file)\n",
        "  x = x.reshape(x.shape[1], x.shape[2])\n",
        "  fig = plt.Figure()\n",
        "  # canvas = FigureCanvas(fig)\n",
        "  ax = fig.add_subplot(111)\n",
        "\n",
        "  img = librosa.display.specshow(x, ax = ax)\n",
        "  name = '/content/images/' + str(file.split('.')[0]) + '.jpg'\n",
        "  fig.savefig(name)"
      ],
      "metadata": {
        "id": "gUAPHeLMDcMA"
      },
      "execution_count": 22,
      "outputs": []
    },
    {
      "cell_type": "code",
      "execution_count": 36,
      "metadata": {
        "id": "d5XbXLFj0bhv"
      },
      "outputs": [],
      "source": [
        "df['class'] = ''\n",
        "for i in range(len(df)):\n",
        "  df['class'][i] = classes[df['label'][i]]"
      ]
    },
    {
      "cell_type": "code",
      "execution_count": 37,
      "metadata": {
        "colab": {
          "base_uri": "https://localhost:8080/",
          "height": 424
        },
        "id": "FyLIE4cx5TV2",
        "outputId": "21b8380d-a4ba-419a-8621-6e279a4871f2"
      },
      "outputs": [
        {
          "output_type": "execute_result",
          "data": {
            "text/plain": [
              "            fname               label  split class\n",
              "0       02639.npy                Bark  train     0\n",
              "1        1580.npy                Bark  train     0\n",
              "2       24030.npy                Bark  train     0\n",
              "3      316499.npy                Bark  train     0\n",
              "4      413718.npy                Bark  train     0\n",
              "..            ...                 ...    ...   ...\n",
              "995   9956925.npy  Walk_and_footsteps  train     9\n",
              "996  99611454.npy  Walk_and_footsteps  train     9\n",
              "997   9979729.npy  Walk_and_footsteps  train     9\n",
              "998  99818869.npy  Walk_and_footsteps  train     9\n",
              "999    999433.npy  Walk_and_footsteps  train     9\n",
              "\n",
              "[1000 rows x 4 columns]"
            ],
            "text/html": [
              "\n",
              "  <div id=\"df-71fb19d6-1639-47cd-a222-fc45ba08f256\">\n",
              "    <div class=\"colab-df-container\">\n",
              "      <div>\n",
              "<style scoped>\n",
              "    .dataframe tbody tr th:only-of-type {\n",
              "        vertical-align: middle;\n",
              "    }\n",
              "\n",
              "    .dataframe tbody tr th {\n",
              "        vertical-align: top;\n",
              "    }\n",
              "\n",
              "    .dataframe thead th {\n",
              "        text-align: right;\n",
              "    }\n",
              "</style>\n",
              "<table border=\"1\" class=\"dataframe\">\n",
              "  <thead>\n",
              "    <tr style=\"text-align: right;\">\n",
              "      <th></th>\n",
              "      <th>fname</th>\n",
              "      <th>label</th>\n",
              "      <th>split</th>\n",
              "      <th>class</th>\n",
              "    </tr>\n",
              "  </thead>\n",
              "  <tbody>\n",
              "    <tr>\n",
              "      <th>0</th>\n",
              "      <td>02639.npy</td>\n",
              "      <td>Bark</td>\n",
              "      <td>train</td>\n",
              "      <td>0</td>\n",
              "    </tr>\n",
              "    <tr>\n",
              "      <th>1</th>\n",
              "      <td>1580.npy</td>\n",
              "      <td>Bark</td>\n",
              "      <td>train</td>\n",
              "      <td>0</td>\n",
              "    </tr>\n",
              "    <tr>\n",
              "      <th>2</th>\n",
              "      <td>24030.npy</td>\n",
              "      <td>Bark</td>\n",
              "      <td>train</td>\n",
              "      <td>0</td>\n",
              "    </tr>\n",
              "    <tr>\n",
              "      <th>3</th>\n",
              "      <td>316499.npy</td>\n",
              "      <td>Bark</td>\n",
              "      <td>train</td>\n",
              "      <td>0</td>\n",
              "    </tr>\n",
              "    <tr>\n",
              "      <th>4</th>\n",
              "      <td>413718.npy</td>\n",
              "      <td>Bark</td>\n",
              "      <td>train</td>\n",
              "      <td>0</td>\n",
              "    </tr>\n",
              "    <tr>\n",
              "      <th>...</th>\n",
              "      <td>...</td>\n",
              "      <td>...</td>\n",
              "      <td>...</td>\n",
              "      <td>...</td>\n",
              "    </tr>\n",
              "    <tr>\n",
              "      <th>995</th>\n",
              "      <td>9956925.npy</td>\n",
              "      <td>Walk_and_footsteps</td>\n",
              "      <td>train</td>\n",
              "      <td>9</td>\n",
              "    </tr>\n",
              "    <tr>\n",
              "      <th>996</th>\n",
              "      <td>99611454.npy</td>\n",
              "      <td>Walk_and_footsteps</td>\n",
              "      <td>train</td>\n",
              "      <td>9</td>\n",
              "    </tr>\n",
              "    <tr>\n",
              "      <th>997</th>\n",
              "      <td>9979729.npy</td>\n",
              "      <td>Walk_and_footsteps</td>\n",
              "      <td>train</td>\n",
              "      <td>9</td>\n",
              "    </tr>\n",
              "    <tr>\n",
              "      <th>998</th>\n",
              "      <td>99818869.npy</td>\n",
              "      <td>Walk_and_footsteps</td>\n",
              "      <td>train</td>\n",
              "      <td>9</td>\n",
              "    </tr>\n",
              "    <tr>\n",
              "      <th>999</th>\n",
              "      <td>999433.npy</td>\n",
              "      <td>Walk_and_footsteps</td>\n",
              "      <td>train</td>\n",
              "      <td>9</td>\n",
              "    </tr>\n",
              "  </tbody>\n",
              "</table>\n",
              "<p>1000 rows × 4 columns</p>\n",
              "</div>\n",
              "      <button class=\"colab-df-convert\" onclick=\"convertToInteractive('df-71fb19d6-1639-47cd-a222-fc45ba08f256')\"\n",
              "              title=\"Convert this dataframe to an interactive table.\"\n",
              "              style=\"display:none;\">\n",
              "        \n",
              "  <svg xmlns=\"http://www.w3.org/2000/svg\" height=\"24px\"viewBox=\"0 0 24 24\"\n",
              "       width=\"24px\">\n",
              "    <path d=\"M0 0h24v24H0V0z\" fill=\"none\"/>\n",
              "    <path d=\"M18.56 5.44l.94 2.06.94-2.06 2.06-.94-2.06-.94-.94-2.06-.94 2.06-2.06.94zm-11 1L8.5 8.5l.94-2.06 2.06-.94-2.06-.94L8.5 2.5l-.94 2.06-2.06.94zm10 10l.94 2.06.94-2.06 2.06-.94-2.06-.94-.94-2.06-.94 2.06-2.06.94z\"/><path d=\"M17.41 7.96l-1.37-1.37c-.4-.4-.92-.59-1.43-.59-.52 0-1.04.2-1.43.59L10.3 9.45l-7.72 7.72c-.78.78-.78 2.05 0 2.83L4 21.41c.39.39.9.59 1.41.59.51 0 1.02-.2 1.41-.59l7.78-7.78 2.81-2.81c.8-.78.8-2.07 0-2.86zM5.41 20L4 18.59l7.72-7.72 1.47 1.35L5.41 20z\"/>\n",
              "  </svg>\n",
              "      </button>\n",
              "      \n",
              "  <style>\n",
              "    .colab-df-container {\n",
              "      display:flex;\n",
              "      flex-wrap:wrap;\n",
              "      gap: 12px;\n",
              "    }\n",
              "\n",
              "    .colab-df-convert {\n",
              "      background-color: #E8F0FE;\n",
              "      border: none;\n",
              "      border-radius: 50%;\n",
              "      cursor: pointer;\n",
              "      display: none;\n",
              "      fill: #1967D2;\n",
              "      height: 32px;\n",
              "      padding: 0 0 0 0;\n",
              "      width: 32px;\n",
              "    }\n",
              "\n",
              "    .colab-df-convert:hover {\n",
              "      background-color: #E2EBFA;\n",
              "      box-shadow: 0px 1px 2px rgba(60, 64, 67, 0.3), 0px 1px 3px 1px rgba(60, 64, 67, 0.15);\n",
              "      fill: #174EA6;\n",
              "    }\n",
              "\n",
              "    [theme=dark] .colab-df-convert {\n",
              "      background-color: #3B4455;\n",
              "      fill: #D2E3FC;\n",
              "    }\n",
              "\n",
              "    [theme=dark] .colab-df-convert:hover {\n",
              "      background-color: #434B5C;\n",
              "      box-shadow: 0px 1px 3px 1px rgba(0, 0, 0, 0.15);\n",
              "      filter: drop-shadow(0px 1px 2px rgba(0, 0, 0, 0.3));\n",
              "      fill: #FFFFFF;\n",
              "    }\n",
              "  </style>\n",
              "\n",
              "      <script>\n",
              "        const buttonEl =\n",
              "          document.querySelector('#df-71fb19d6-1639-47cd-a222-fc45ba08f256 button.colab-df-convert');\n",
              "        buttonEl.style.display =\n",
              "          google.colab.kernel.accessAllowed ? 'block' : 'none';\n",
              "\n",
              "        async function convertToInteractive(key) {\n",
              "          const element = document.querySelector('#df-71fb19d6-1639-47cd-a222-fc45ba08f256');\n",
              "          const dataTable =\n",
              "            await google.colab.kernel.invokeFunction('convertToInteractive',\n",
              "                                                     [key], {});\n",
              "          if (!dataTable) return;\n",
              "\n",
              "          const docLinkHtml = 'Like what you see? Visit the ' +\n",
              "            '<a target=\"_blank\" href=https://colab.research.google.com/notebooks/data_table.ipynb>data table notebook</a>'\n",
              "            + ' to learn more about interactive tables.';\n",
              "          element.innerHTML = '';\n",
              "          dataTable['output_type'] = 'display_data';\n",
              "          await google.colab.output.renderOutput(dataTable, element);\n",
              "          const docLink = document.createElement('div');\n",
              "          docLink.innerHTML = docLinkHtml;\n",
              "          element.appendChild(docLink);\n",
              "        }\n",
              "      </script>\n",
              "    </div>\n",
              "  </div>\n",
              "  "
            ]
          },
          "metadata": {},
          "execution_count": 37
        }
      ],
      "source": [
        "df"
      ]
    },
    {
      "cell_type": "code",
      "execution_count": 38,
      "metadata": {
        "id": "2Ea2d6AC5bI0"
      },
      "outputs": [],
      "source": [
        "for i in range(len(df)):\n",
        "  df['fname'][i] = df['fname'][i].split('.')[0] + '.jpg'"
      ]
    },
    {
      "cell_type": "code",
      "execution_count": 39,
      "metadata": {
        "colab": {
          "base_uri": "https://localhost:8080/",
          "height": 424
        },
        "id": "250aC4wB5mxz",
        "outputId": "6b54f001-ee5d-4b21-c390-7158b6a88bce"
      },
      "outputs": [
        {
          "output_type": "execute_result",
          "data": {
            "text/plain": [
              "            fname               label  split class\n",
              "0       02639.jpg                Bark  train     0\n",
              "1        1580.jpg                Bark  train     0\n",
              "2       24030.jpg                Bark  train     0\n",
              "3      316499.jpg                Bark  train     0\n",
              "4      413718.jpg                Bark  train     0\n",
              "..            ...                 ...    ...   ...\n",
              "995   9956925.jpg  Walk_and_footsteps  train     9\n",
              "996  99611454.jpg  Walk_and_footsteps  train     9\n",
              "997   9979729.jpg  Walk_and_footsteps  train     9\n",
              "998  99818869.jpg  Walk_and_footsteps  train     9\n",
              "999    999433.jpg  Walk_and_footsteps  train     9\n",
              "\n",
              "[1000 rows x 4 columns]"
            ],
            "text/html": [
              "\n",
              "  <div id=\"df-eb74e47c-5de4-44e2-a931-98f70884dc3c\">\n",
              "    <div class=\"colab-df-container\">\n",
              "      <div>\n",
              "<style scoped>\n",
              "    .dataframe tbody tr th:only-of-type {\n",
              "        vertical-align: middle;\n",
              "    }\n",
              "\n",
              "    .dataframe tbody tr th {\n",
              "        vertical-align: top;\n",
              "    }\n",
              "\n",
              "    .dataframe thead th {\n",
              "        text-align: right;\n",
              "    }\n",
              "</style>\n",
              "<table border=\"1\" class=\"dataframe\">\n",
              "  <thead>\n",
              "    <tr style=\"text-align: right;\">\n",
              "      <th></th>\n",
              "      <th>fname</th>\n",
              "      <th>label</th>\n",
              "      <th>split</th>\n",
              "      <th>class</th>\n",
              "    </tr>\n",
              "  </thead>\n",
              "  <tbody>\n",
              "    <tr>\n",
              "      <th>0</th>\n",
              "      <td>02639.jpg</td>\n",
              "      <td>Bark</td>\n",
              "      <td>train</td>\n",
              "      <td>0</td>\n",
              "    </tr>\n",
              "    <tr>\n",
              "      <th>1</th>\n",
              "      <td>1580.jpg</td>\n",
              "      <td>Bark</td>\n",
              "      <td>train</td>\n",
              "      <td>0</td>\n",
              "    </tr>\n",
              "    <tr>\n",
              "      <th>2</th>\n",
              "      <td>24030.jpg</td>\n",
              "      <td>Bark</td>\n",
              "      <td>train</td>\n",
              "      <td>0</td>\n",
              "    </tr>\n",
              "    <tr>\n",
              "      <th>3</th>\n",
              "      <td>316499.jpg</td>\n",
              "      <td>Bark</td>\n",
              "      <td>train</td>\n",
              "      <td>0</td>\n",
              "    </tr>\n",
              "    <tr>\n",
              "      <th>4</th>\n",
              "      <td>413718.jpg</td>\n",
              "      <td>Bark</td>\n",
              "      <td>train</td>\n",
              "      <td>0</td>\n",
              "    </tr>\n",
              "    <tr>\n",
              "      <th>...</th>\n",
              "      <td>...</td>\n",
              "      <td>...</td>\n",
              "      <td>...</td>\n",
              "      <td>...</td>\n",
              "    </tr>\n",
              "    <tr>\n",
              "      <th>995</th>\n",
              "      <td>9956925.jpg</td>\n",
              "      <td>Walk_and_footsteps</td>\n",
              "      <td>train</td>\n",
              "      <td>9</td>\n",
              "    </tr>\n",
              "    <tr>\n",
              "      <th>996</th>\n",
              "      <td>99611454.jpg</td>\n",
              "      <td>Walk_and_footsteps</td>\n",
              "      <td>train</td>\n",
              "      <td>9</td>\n",
              "    </tr>\n",
              "    <tr>\n",
              "      <th>997</th>\n",
              "      <td>9979729.jpg</td>\n",
              "      <td>Walk_and_footsteps</td>\n",
              "      <td>train</td>\n",
              "      <td>9</td>\n",
              "    </tr>\n",
              "    <tr>\n",
              "      <th>998</th>\n",
              "      <td>99818869.jpg</td>\n",
              "      <td>Walk_and_footsteps</td>\n",
              "      <td>train</td>\n",
              "      <td>9</td>\n",
              "    </tr>\n",
              "    <tr>\n",
              "      <th>999</th>\n",
              "      <td>999433.jpg</td>\n",
              "      <td>Walk_and_footsteps</td>\n",
              "      <td>train</td>\n",
              "      <td>9</td>\n",
              "    </tr>\n",
              "  </tbody>\n",
              "</table>\n",
              "<p>1000 rows × 4 columns</p>\n",
              "</div>\n",
              "      <button class=\"colab-df-convert\" onclick=\"convertToInteractive('df-eb74e47c-5de4-44e2-a931-98f70884dc3c')\"\n",
              "              title=\"Convert this dataframe to an interactive table.\"\n",
              "              style=\"display:none;\">\n",
              "        \n",
              "  <svg xmlns=\"http://www.w3.org/2000/svg\" height=\"24px\"viewBox=\"0 0 24 24\"\n",
              "       width=\"24px\">\n",
              "    <path d=\"M0 0h24v24H0V0z\" fill=\"none\"/>\n",
              "    <path d=\"M18.56 5.44l.94 2.06.94-2.06 2.06-.94-2.06-.94-.94-2.06-.94 2.06-2.06.94zm-11 1L8.5 8.5l.94-2.06 2.06-.94-2.06-.94L8.5 2.5l-.94 2.06-2.06.94zm10 10l.94 2.06.94-2.06 2.06-.94-2.06-.94-.94-2.06-.94 2.06-2.06.94z\"/><path d=\"M17.41 7.96l-1.37-1.37c-.4-.4-.92-.59-1.43-.59-.52 0-1.04.2-1.43.59L10.3 9.45l-7.72 7.72c-.78.78-.78 2.05 0 2.83L4 21.41c.39.39.9.59 1.41.59.51 0 1.02-.2 1.41-.59l7.78-7.78 2.81-2.81c.8-.78.8-2.07 0-2.86zM5.41 20L4 18.59l7.72-7.72 1.47 1.35L5.41 20z\"/>\n",
              "  </svg>\n",
              "      </button>\n",
              "      \n",
              "  <style>\n",
              "    .colab-df-container {\n",
              "      display:flex;\n",
              "      flex-wrap:wrap;\n",
              "      gap: 12px;\n",
              "    }\n",
              "\n",
              "    .colab-df-convert {\n",
              "      background-color: #E8F0FE;\n",
              "      border: none;\n",
              "      border-radius: 50%;\n",
              "      cursor: pointer;\n",
              "      display: none;\n",
              "      fill: #1967D2;\n",
              "      height: 32px;\n",
              "      padding: 0 0 0 0;\n",
              "      width: 32px;\n",
              "    }\n",
              "\n",
              "    .colab-df-convert:hover {\n",
              "      background-color: #E2EBFA;\n",
              "      box-shadow: 0px 1px 2px rgba(60, 64, 67, 0.3), 0px 1px 3px 1px rgba(60, 64, 67, 0.15);\n",
              "      fill: #174EA6;\n",
              "    }\n",
              "\n",
              "    [theme=dark] .colab-df-convert {\n",
              "      background-color: #3B4455;\n",
              "      fill: #D2E3FC;\n",
              "    }\n",
              "\n",
              "    [theme=dark] .colab-df-convert:hover {\n",
              "      background-color: #434B5C;\n",
              "      box-shadow: 0px 1px 3px 1px rgba(0, 0, 0, 0.15);\n",
              "      filter: drop-shadow(0px 1px 2px rgba(0, 0, 0, 0.3));\n",
              "      fill: #FFFFFF;\n",
              "    }\n",
              "  </style>\n",
              "\n",
              "      <script>\n",
              "        const buttonEl =\n",
              "          document.querySelector('#df-eb74e47c-5de4-44e2-a931-98f70884dc3c button.colab-df-convert');\n",
              "        buttonEl.style.display =\n",
              "          google.colab.kernel.accessAllowed ? 'block' : 'none';\n",
              "\n",
              "        async function convertToInteractive(key) {\n",
              "          const element = document.querySelector('#df-eb74e47c-5de4-44e2-a931-98f70884dc3c');\n",
              "          const dataTable =\n",
              "            await google.colab.kernel.invokeFunction('convertToInteractive',\n",
              "                                                     [key], {});\n",
              "          if (!dataTable) return;\n",
              "\n",
              "          const docLinkHtml = 'Like what you see? Visit the ' +\n",
              "            '<a target=\"_blank\" href=https://colab.research.google.com/notebooks/data_table.ipynb>data table notebook</a>'\n",
              "            + ' to learn more about interactive tables.';\n",
              "          element.innerHTML = '';\n",
              "          dataTable['output_type'] = 'display_data';\n",
              "          await google.colab.output.renderOutput(dataTable, element);\n",
              "          const docLink = document.createElement('div');\n",
              "          docLink.innerHTML = docLinkHtml;\n",
              "          element.appendChild(docLink);\n",
              "        }\n",
              "      </script>\n",
              "    </div>\n",
              "  </div>\n",
              "  "
            ]
          },
          "metadata": {},
          "execution_count": 39
        }
      ],
      "source": [
        "df"
      ]
    },
    {
      "cell_type": "code",
      "execution_count": 40,
      "metadata": {
        "id": "0fKiE9lP4QN8"
      },
      "outputs": [],
      "source": [
        "all_images_path=df\n",
        "# all_images_path.head()\n",
        "X_train, X_val, y_train, y_val = train_test_split( all_images_path[\"fname\"], all_images_path[\"class\"], test_size=0.4, random_state=40,shuffle=True,stratify=all_images_path[\"class\"])\n",
        "X_val, X_test, y_val, y_test = train_test_split( X_val, y_val, test_size=0.5, random_state=40,shuffle=True,stratify=y_val)"
      ]
    },
    {
      "cell_type": "code",
      "execution_count": 58,
      "metadata": {
        "colab": {
          "base_uri": "https://localhost:8080/"
        },
        "id": "9ohLkN976ZWf",
        "outputId": "266058a6-03fa-4ca5-8f96-05577480f55f"
      },
      "outputs": [
        {
          "output_type": "execute_result",
          "data": {
            "text/plain": [
              "770    7\n",
              "283    2\n",
              "720    7\n",
              "697    6\n",
              "781    7\n",
              "      ..\n",
              "705    7\n",
              "995    9\n",
              "366    3\n",
              "409    4\n",
              "841    8\n",
              "Name: class, Length: 600, dtype: object"
            ]
          },
          "metadata": {},
          "execution_count": 58
        }
      ],
      "source": [
        "y_train"
      ]
    },
    {
      "cell_type": "code",
      "execution_count": 41,
      "metadata": {
        "id": "cBnf5SLcoOeb"
      },
      "outputs": [],
      "source": [
        "import string"
      ]
    },
    {
      "cell_type": "code",
      "execution_count": 24,
      "metadata": {
        "id": "2xlnT5tJ8T_d"
      },
      "outputs": [],
      "source": [
        "root_path = '/content'\n",
        "def make_doc_dirs(path): \n",
        "    if not os.path.exists(path):\n",
        "        os.mkdir(path)\n",
        "    for label in range(10): \n",
        "        if not os.path.exists(path + string.ascii_lowercase[label]):\n",
        "            os.mkdir(path + string.ascii_lowercase[label])"
      ]
    },
    {
      "cell_type": "code",
      "execution_count": 42,
      "metadata": {
        "id": "SXVMLyo98gz0"
      },
      "outputs": [],
      "source": [
        "make_doc_dirs('/content/training/')"
      ]
    },
    {
      "cell_type": "code",
      "execution_count": 43,
      "metadata": {
        "id": "eieRN2on8puE"
      },
      "outputs": [],
      "source": [
        "make_doc_dirs('/content/testing/')\n",
        "make_doc_dirs('/content/validation/')"
      ]
    },
    {
      "cell_type": "code",
      "execution_count": 45,
      "metadata": {
        "id": "xixZlPXF6Dxj"
      },
      "outputs": [],
      "source": [
        "import shutil\n",
        "\n",
        "# src_path = r\"E:\\demos\\files\\report\\profit.txt\"\n",
        "# dst_path = r\"/kaggle/working/training/\\profit.txt\"\n",
        "for path, label in zip(X_train,y_train):\n",
        "    shutil.copy(r\"/content/image/\"+path, r\"/content/training/\"+ string.ascii_lowercase[label]+\"/\"+path)\n",
        "for path, label in zip(X_test,y_test):\n",
        "    shutil.copy(r\"/content/image/\"+path, r\"/content/testing/\"+string.ascii_lowercase[label]+\"/\"+path)\n",
        "for path, label in zip(X_val,y_val):\n",
        "    shutil.copy(r\"/content/image/\"+path, r\"/content/validation/\"+string.ascii_lowercase[label]+\"/\" + path)"
      ]
    },
    {
      "cell_type": "code",
      "execution_count": 46,
      "metadata": {
        "id": "okuwck1O6kFd"
      },
      "outputs": [],
      "source": [
        "train=[]\n",
        "for path,label in zip(X_train,y_train):\n",
        "    train.append(\"/content/training/\"+string.ascii_lowercase[label]+\"/\"+str(path))\n",
        "test=[]\n",
        "for path,label in zip(X_test,y_test):\n",
        "    test.append(\"/content/testing/\"+string.ascii_lowercase[label]+\"/\"+str(path))\n",
        "cv=[]\n",
        "for path,label in zip(X_val,y_val):\n",
        "    cv.append(\"/content/validation/\"+string.ascii_lowercase[label]+\"/\"+str(path))"
      ]
    },
    {
      "cell_type": "code",
      "execution_count": 29,
      "metadata": {
        "id": "6P_UXeWc9JCg"
      },
      "outputs": [],
      "source": [
        "from keras.preprocessing.image import ImageDataGenerator\n"
      ]
    },
    {
      "cell_type": "code",
      "execution_count": 47,
      "metadata": {
        "id": "G5jjn3K29Mei"
      },
      "outputs": [],
      "source": [
        "train_datagen = ImageDataGenerator(brightness_range=[0.5,1.5],zoom_range = 0.5,\n",
        "rescale = 1./255)\n",
        "test_datagen = ImageDataGenerator(\n",
        "rescale = 1./255)\n",
        "cv_datagen = ImageDataGenerator(\n",
        "rescale = 1./255)"
      ]
    },
    {
      "cell_type": "code",
      "execution_count": 33,
      "metadata": {
        "colab": {
          "base_uri": "https://localhost:8080/"
        },
        "id": "UHX_rD74SAmK",
        "outputId": "3b66e6b6-e537-47e9-b5fe-1cb99e30d2cd"
      },
      "outputs": [
        {
          "output_type": "stream",
          "name": "stdout",
          "text": [
            "Found 0 images belonging to 0 classes.\n"
          ]
        }
      ],
      "source": [
        "test_it = test_datagen.flow_from_directory('/content/images/',batch_size=201,target_size=(256, 256), shuffle = False)"
      ]
    },
    {
      "cell_type": "code",
      "execution_count": 48,
      "metadata": {
        "colab": {
          "base_uri": "https://localhost:8080/"
        },
        "id": "TSbYomlS9w4H",
        "outputId": "04376840-5962-44e7-904f-98460208d946"
      },
      "outputs": [
        {
          "output_type": "stream",
          "name": "stdout",
          "text": [
            "Found 600 images belonging to 10 classes.\n",
            "Found 200 images belonging to 10 classes.\n",
            "Found 200 images belonging to 10 classes.\n"
          ]
        }
      ],
      "source": [
        "train_it = train_datagen.flow_from_directory('/content/training/',batch_size=32,target_size=(256, 256))\n",
        "# load and iterate validation dataset\n",
        "test_it = test_datagen.flow_from_directory('/content/testing/',batch_size=32,target_size=(256, 256))\n",
        "# load and iterate test dataset\n",
        "cv_it = cv_datagen.flow_from_directory('/content/validation/', batch_size=32,target_size=(256, 256))"
      ]
    },
    {
      "cell_type": "code",
      "source": [
        "class1 = train_it.class_indices"
      ],
      "metadata": {
        "id": "7ZAYM9n9FB97"
      },
      "execution_count": 54,
      "outputs": []
    },
    {
      "cell_type": "code",
      "execution_count": null,
      "metadata": {
        "id": "J_ZNTwGv95d-"
      },
      "outputs": [],
      "source": [
        "from tensorflow.keras.optimizers import Adam, SGD"
      ]
    },
    {
      "cell_type": "code",
      "execution_count": null,
      "metadata": {
        "id": "2wkFWTEN99Ts"
      },
      "outputs": [],
      "source": [
        "# import tensorflow as tf\n",
        "from tensorflow import keras\n",
        "from keras import applications\n",
        "from keras.preprocessing.image import ImageDataGenerator\n",
        "from keras import optimizers\n",
        "from keras.models import Sequential, Model \n",
        "from keras.layers import Dropout, Flatten, Dense, GlobalAveragePooling2D\n",
        "from keras import backend as k \n",
        "from keras.callbacks import ModelCheckpoint, LearningRateScheduler, TensorBoard, EarlyStopping\n",
        "\n",
        "img_width, img_height = 256,256\n",
        "batch_size = 16\n",
        "epochs = 50\n",
        "\n",
        "\n",
        "# model =keras.applications.vgg16.VGG16(weights = \"imagenet\", include_top=False, input_shape = (img_width, img_height, 3),)"
      ]
    },
    {
      "cell_type": "code",
      "execution_count": null,
      "metadata": {
        "id": "TSlP-t0I9_iF"
      },
      "outputs": [],
      "source": [
        "def get_2d_conv_model():\n",
        "    \n",
        "    nclass = 10\n",
        "    \n",
        "    inp = Input(shape=(256,256,3))\n",
        "    x = Convolution2D(16, (3,3), padding=\"same\")(inp)\n",
        "    # x = BatchNormalization()(x)\n",
        "    x = Activation(\"relu\")(x)\n",
        "    x = MaxPool2D(pool_size = (2,2))(x)\n",
        "    # x = Dropout(0.25)(x)\n",
        "    \n",
        "    x = Convolution2D(32, (3,3), padding=\"same\")(x)\n",
        "    # x = BatchNormalization()(x)\n",
        "    x = Activation(\"relu\")(x)\n",
        "    x = MaxPool2D(pool_size = (2,2))(x)\n",
        "    # x = Dropout(0.25)(x)\n",
        "\n",
        "    x = Convolution2D(64, (3,3), padding=\"same\")(x)\n",
        "    # x = BatchNormalization()(x)\n",
        "    x = Activation(\"relu\")(x)\n",
        "    x = MaxPool2D(pool_size = (2,2))(x)\n",
        "    # x = Dropout(0.25)(x)\n",
        "    \n",
        "    # x = Convolution2D(32, (3,3), padding=\"same\")(x)\n",
        "    # x = BatchNormalization()(x)\n",
        "    # x = Activation(\"relu\")(x)\n",
        "    # # x = SpatialDropout2D(0.5)\n",
        "    # x = MaxPool2D()(x)\n",
        "    \n",
        "    # x = Convolution2D(64, (3,3), padding=\"same\")(x)\n",
        "    # x = BatchNormalization()(x)\n",
        "    # x = Activation(\"relu\")(x)\n",
        "    # # x = SpatialDropout2D(0.5)\n",
        "    # x = AveragePooling2D()(x)\n",
        "\n",
        "    x = Flatten()(x)\n",
        "    x = Dense(128)(x)\n",
        "    # x = BatchNormalization()(x)\n",
        "    x = Activation(\"relu\")(x)\n",
        "    # x = Dropout(0.25)(x)\n",
        "    # x = Dense(32)(x)\n",
        "    # x = BatchNormalization()(x)\n",
        "    # x = Activation(\"relu\")(x)\n",
        "    out = Dense(10, activation= softmax)(x)\n",
        "\n",
        "    model = models.Model(inputs=inp, outputs=out)\n",
        "    opt = tf.keras.optimizers.Nadam(lr = 0.0001)\n",
        "\n",
        "    model.compile(optimizer=opt, loss=losses.categorical_crossentropy, metrics=['acc'])\n",
        "    return model"
      ]
    },
    {
      "cell_type": "code",
      "execution_count": null,
      "metadata": {
        "id": "mtsvvJ4J-L1P"
      },
      "outputs": [],
      "source": [
        "checkpoint = ModelCheckpoint('model_image.h5', monitor='val_loss', verbose=1, save_best_only=True)\n",
        "early = EarlyStopping(monitor=\"val_loss\", mode=\"min\", patience=5)\n",
        "callbacks_list = [checkpoint, early]\n",
        "model = get_2d_conv_model()\n",
        "# history = model.fit(train_it, test_it, validation_data=(cv_it, y_test), callbacks=callbacks_list, \n",
        "#                         batch_size=32, epochs=15)\n",
        "# model.load_weights('best_model_batch.h5')"
      ]
    },
    {
      "cell_type": "code",
      "execution_count": null,
      "metadata": {
        "colab": {
          "background_save": true,
          "base_uri": "https://localhost:8080/"
        },
        "id": "sqz6Erlu-T-I",
        "outputId": "8a326fd2-6a62-4eac-a0c5-4bdbefc1cab0"
      },
      "outputs": [
        {
          "name": "stdout",
          "output_type": "stream",
          "text": [
            "Epoch 1/60\n",
            "19/18 [==============================] - ETA: 0s - loss: 2.2964 - acc: 0.1300\n",
            "Epoch 1: val_loss improved from inf to 2.26499, saving model to model_image.h5\n",
            "18/18 [==============================] - 50s 3s/step - loss: 2.2964 - acc: 0.1300 - val_loss: 2.2650 - val_acc: 0.1650\n",
            "Epoch 2/60\n",
            "19/18 [==============================] - ETA: 0s - loss: 2.1897 - acc: 0.2033\n",
            "Epoch 2: val_loss improved from 2.26499 to 2.08298, saving model to model_image.h5\n",
            "18/18 [==============================] - 50s 3s/step - loss: 2.1897 - acc: 0.2033 - val_loss: 2.0830 - val_acc: 0.2750\n",
            "Epoch 3/60\n",
            "19/18 [==============================] - ETA: 0s - loss: 2.0996 - acc: 0.2367\n",
            "Epoch 3: val_loss improved from 2.08298 to 1.89963, saving model to model_image.h5\n",
            "18/18 [==============================] - 50s 3s/step - loss: 2.0996 - acc: 0.2367 - val_loss: 1.8996 - val_acc: 0.3450\n",
            "Epoch 4/60\n",
            "19/18 [==============================] - ETA: 0s - loss: 1.9825 - acc: 0.3283\n",
            "Epoch 4: val_loss improved from 1.89963 to 1.89114, saving model to model_image.h5\n",
            "18/18 [==============================] - 53s 3s/step - loss: 1.9825 - acc: 0.3283 - val_loss: 1.8911 - val_acc: 0.3450\n",
            "Epoch 5/60\n",
            "19/18 [==============================] - ETA: 0s - loss: 1.8526 - acc: 0.3733\n",
            "Epoch 5: val_loss improved from 1.89114 to 1.72865, saving model to model_image.h5\n",
            "18/18 [==============================] - 52s 3s/step - loss: 1.8526 - acc: 0.3733 - val_loss: 1.7287 - val_acc: 0.4000\n",
            "Epoch 6/60\n",
            "19/18 [==============================] - ETA: 0s - loss: 1.7760 - acc: 0.3983\n",
            "Epoch 6: val_loss improved from 1.72865 to 1.62163, saving model to model_image.h5\n",
            "18/18 [==============================] - 50s 3s/step - loss: 1.7760 - acc: 0.3983 - val_loss: 1.6216 - val_acc: 0.4350\n",
            "Epoch 7/60\n",
            "19/18 [==============================] - ETA: 0s - loss: 1.7285 - acc: 0.4167\n",
            "Epoch 7: val_loss improved from 1.62163 to 1.62145, saving model to model_image.h5\n",
            "18/18 [==============================] - 50s 3s/step - loss: 1.7285 - acc: 0.4167 - val_loss: 1.6214 - val_acc: 0.5000\n",
            "Epoch 8/60\n",
            "19/18 [==============================] - ETA: 0s - loss: 1.6455 - acc: 0.4433\n",
            "Epoch 8: val_loss improved from 1.62145 to 1.58989, saving model to model_image.h5\n",
            "18/18 [==============================] - 50s 3s/step - loss: 1.6455 - acc: 0.4433 - val_loss: 1.5899 - val_acc: 0.4400\n",
            "Epoch 9/60\n",
            "19/18 [==============================] - ETA: 0s - loss: 1.5604 - acc: 0.4700\n",
            "Epoch 9: val_loss improved from 1.58989 to 1.47977, saving model to model_image.h5\n",
            "18/18 [==============================] - 52s 3s/step - loss: 1.5604 - acc: 0.4700 - val_loss: 1.4798 - val_acc: 0.5250\n",
            "Epoch 10/60\n",
            "19/18 [==============================] - ETA: 0s - loss: 1.5251 - acc: 0.4717\n",
            "Epoch 10: val_loss improved from 1.47977 to 1.45904, saving model to model_image.h5\n",
            "18/18 [==============================] - 50s 3s/step - loss: 1.5251 - acc: 0.4717 - val_loss: 1.4590 - val_acc: 0.4600\n",
            "Epoch 11/60\n",
            "19/18 [==============================] - ETA: 0s - loss: 1.4694 - acc: 0.5133\n",
            "Epoch 11: val_loss improved from 1.45904 to 1.37476, saving model to model_image.h5\n",
            "18/18 [==============================] - 50s 3s/step - loss: 1.4694 - acc: 0.5133 - val_loss: 1.3748 - val_acc: 0.4900\n",
            "Epoch 12/60\n",
            "19/18 [==============================] - ETA: 0s - loss: 1.4142 - acc: 0.5367\n",
            "Epoch 12: val_loss did not improve from 1.37476\n",
            "18/18 [==============================] - 51s 3s/step - loss: 1.4142 - acc: 0.5367 - val_loss: 1.4457 - val_acc: 0.4550\n",
            "Epoch 13/60\n",
            "19/18 [==============================] - ETA: 0s - loss: 1.3828 - acc: 0.5383\n",
            "Epoch 13: val_loss improved from 1.37476 to 1.31262, saving model to model_image.h5\n",
            "18/18 [==============================] - 49s 3s/step - loss: 1.3828 - acc: 0.5383 - val_loss: 1.3126 - val_acc: 0.5650\n",
            "Epoch 14/60\n",
            "19/18 [==============================] - ETA: 0s - loss: 1.3301 - acc: 0.5450\n",
            "Epoch 14: val_loss improved from 1.31262 to 1.24631, saving model to model_image.h5\n",
            "18/18 [==============================] - 51s 3s/step - loss: 1.3301 - acc: 0.5450 - val_loss: 1.2463 - val_acc: 0.5950\n",
            "Epoch 15/60\n",
            "19/18 [==============================] - ETA: 0s - loss: 1.3223 - acc: 0.5667\n",
            "Epoch 15: val_loss did not improve from 1.24631\n",
            "18/18 [==============================] - 52s 3s/step - loss: 1.3223 - acc: 0.5667 - val_loss: 1.2958 - val_acc: 0.5900\n",
            "Epoch 16/60\n",
            "19/18 [==============================] - ETA: 0s - loss: 1.2401 - acc: 0.6067\n",
            "Epoch 16: val_loss did not improve from 1.24631\n",
            "18/18 [==============================] - 50s 3s/step - loss: 1.2401 - acc: 0.6067 - val_loss: 1.2723 - val_acc: 0.6300\n",
            "Epoch 17/60\n",
            "19/18 [==============================] - ETA: 0s - loss: 1.2086 - acc: 0.6067\n",
            "Epoch 17: val_loss did not improve from 1.24631\n",
            "18/18 [==============================] - 49s 3s/step - loss: 1.2086 - acc: 0.6067 - val_loss: 1.2482 - val_acc: 0.5800\n",
            "Epoch 18/60\n",
            "19/18 [==============================] - ETA: 0s - loss: 1.1670 - acc: 0.6267\n",
            "Epoch 18: val_loss did not improve from 1.24631\n",
            "18/18 [==============================] - 49s 3s/step - loss: 1.1670 - acc: 0.6267 - val_loss: 1.2509 - val_acc: 0.6250\n",
            "Epoch 19/60\n",
            "19/18 [==============================] - ETA: 0s - loss: 1.1634 - acc: 0.6333\n",
            "Epoch 19: val_loss improved from 1.24631 to 1.18647, saving model to model_image.h5\n",
            "18/18 [==============================] - 50s 3s/step - loss: 1.1634 - acc: 0.6333 - val_loss: 1.1865 - val_acc: 0.6400\n",
            "Epoch 20/60\n",
            "19/18 [==============================] - ETA: 0s - loss: 1.1090 - acc: 0.6517\n",
            "Epoch 20: val_loss improved from 1.18647 to 1.12964, saving model to model_image.h5\n",
            "18/18 [==============================] - 50s 3s/step - loss: 1.1090 - acc: 0.6517 - val_loss: 1.1296 - val_acc: 0.6550\n",
            "Epoch 21/60\n",
            "19/18 [==============================] - ETA: 0s - loss: 1.0814 - acc: 0.6383\n",
            "Epoch 21: val_loss did not improve from 1.12964\n",
            "18/18 [==============================] - 52s 3s/step - loss: 1.0814 - acc: 0.6383 - val_loss: 1.1641 - val_acc: 0.6450\n",
            "Epoch 22/60\n",
            "19/18 [==============================] - ETA: 0s - loss: 1.0816 - acc: 0.6283\n",
            "Epoch 22: val_loss did not improve from 1.12964\n",
            "18/18 [==============================] - 49s 3s/step - loss: 1.0816 - acc: 0.6283 - val_loss: 1.1722 - val_acc: 0.6600\n",
            "Epoch 23/60\n",
            "19/18 [==============================] - ETA: 0s - loss: 1.0180 - acc: 0.6633\n",
            "Epoch 23: val_loss did not improve from 1.12964\n",
            "18/18 [==============================] - 49s 3s/step - loss: 1.0180 - acc: 0.6633 - val_loss: 1.1400 - val_acc: 0.6500\n",
            "Epoch 24/60\n",
            "19/18 [==============================] - ETA: 0s - loss: 0.9619 - acc: 0.6833\n",
            "Epoch 24: val_loss improved from 1.12964 to 1.08077, saving model to model_image.h5\n",
            "18/18 [==============================] - 49s 3s/step - loss: 0.9619 - acc: 0.6833 - val_loss: 1.0808 - val_acc: 0.6300\n",
            "Epoch 25/60\n",
            "19/18 [==============================] - ETA: 0s - loss: 0.9618 - acc: 0.6833\n",
            "Epoch 25: val_loss did not improve from 1.08077\n",
            "18/18 [==============================] - 51s 3s/step - loss: 0.9618 - acc: 0.6833 - val_loss: 1.0901 - val_acc: 0.6500\n",
            "Epoch 26/60\n",
            "19/18 [==============================] - ETA: 0s - loss: 0.9823 - acc: 0.6900\n",
            "Epoch 26: val_loss did not improve from 1.08077\n",
            "18/18 [==============================] - 50s 3s/step - loss: 0.9823 - acc: 0.6900 - val_loss: 1.0961 - val_acc: 0.6700\n",
            "Epoch 27/60\n",
            "19/18 [==============================] - ETA: 0s - loss: 0.9509 - acc: 0.6967\n",
            "Epoch 27: val_loss improved from 1.08077 to 1.05728, saving model to model_image.h5\n",
            "18/18 [==============================] - 50s 3s/step - loss: 0.9509 - acc: 0.6967 - val_loss: 1.0573 - val_acc: 0.6600\n",
            "Epoch 28/60\n",
            "19/18 [==============================] - ETA: 0s - loss: 0.9050 - acc: 0.7217\n",
            "Epoch 28: val_loss improved from 1.05728 to 1.03042, saving model to model_image.h5\n",
            "18/18 [==============================] - 53s 3s/step - loss: 0.9050 - acc: 0.7217 - val_loss: 1.0304 - val_acc: 0.6950\n",
            "Epoch 29/60\n",
            "19/18 [==============================] - ETA: 0s - loss: 0.8799 - acc: 0.7200\n",
            "Epoch 29: val_loss improved from 1.03042 to 0.99751, saving model to model_image.h5\n",
            "18/18 [==============================] - 50s 3s/step - loss: 0.8799 - acc: 0.7200 - val_loss: 0.9975 - val_acc: 0.7200\n",
            "Epoch 30/60\n",
            "19/18 [==============================] - ETA: 0s - loss: 0.9060 - acc: 0.6883\n",
            "Epoch 30: val_loss improved from 0.99751 to 0.98209, saving model to model_image.h5\n",
            "18/18 [==============================] - 51s 3s/step - loss: 0.9060 - acc: 0.6883 - val_loss: 0.9821 - val_acc: 0.6850\n",
            "Epoch 31/60\n",
            "19/18 [==============================] - ETA: 0s - loss: 0.9026 - acc: 0.7317\n",
            "Epoch 31: val_loss did not improve from 0.98209\n",
            "18/18 [==============================] - 51s 3s/step - loss: 0.9026 - acc: 0.7317 - val_loss: 1.0292 - val_acc: 0.6950\n",
            "Epoch 32/60\n",
            "19/18 [==============================] - ETA: 0s - loss: 0.8299 - acc: 0.7400\n",
            "Epoch 32: val_loss did not improve from 0.98209\n",
            "18/18 [==============================] - 50s 3s/step - loss: 0.8299 - acc: 0.7400 - val_loss: 1.0370 - val_acc: 0.6950\n",
            "Epoch 33/60\n",
            "19/18 [==============================] - ETA: 0s - loss: 0.8010 - acc: 0.7350\n",
            "Epoch 33: val_loss did not improve from 0.98209\n",
            "18/18 [==============================] - 49s 3s/step - loss: 0.8010 - acc: 0.7350 - val_loss: 1.0363 - val_acc: 0.6700\n",
            "Epoch 34/60\n",
            "19/18 [==============================] - ETA: 0s - loss: 0.7973 - acc: 0.7417\n",
            "Epoch 34: val_loss improved from 0.98209 to 0.97660, saving model to model_image.h5\n",
            "18/18 [==============================] - 52s 3s/step - loss: 0.7973 - acc: 0.7417 - val_loss: 0.9766 - val_acc: 0.7200\n",
            "Epoch 35/60\n",
            "19/18 [==============================] - ETA: 0s - loss: 0.7632 - acc: 0.7700\n",
            "Epoch 35: val_loss improved from 0.97660 to 0.95917, saving model to model_image.h5\n",
            "18/18 [==============================] - 49s 3s/step - loss: 0.7632 - acc: 0.7700 - val_loss: 0.9592 - val_acc: 0.6950\n",
            "Epoch 36/60\n",
            "19/18 [==============================] - ETA: 0s - loss: 0.8061 - acc: 0.7483\n",
            "Epoch 36: val_loss improved from 0.95917 to 0.93246, saving model to model_image.h5\n",
            "18/18 [==============================] - 49s 3s/step - loss: 0.8061 - acc: 0.7483 - val_loss: 0.9325 - val_acc: 0.7250\n",
            "Epoch 37/60\n",
            "19/18 [==============================] - ETA: 0s - loss: 0.7511 - acc: 0.7750\n",
            "Epoch 37: val_loss did not improve from 0.93246\n",
            "18/18 [==============================] - 51s 3s/step - loss: 0.7511 - acc: 0.7750 - val_loss: 0.9360 - val_acc: 0.7200\n",
            "Epoch 38/60\n",
            "19/18 [==============================] - ETA: 0s - loss: 0.7126 - acc: 0.7917\n",
            "Epoch 38: val_loss did not improve from 0.93246\n",
            "18/18 [==============================] - 50s 3s/step - loss: 0.7126 - acc: 0.7917 - val_loss: 1.0432 - val_acc: 0.6800\n",
            "Epoch 39/60\n",
            "19/18 [==============================] - ETA: 0s - loss: 0.7022 - acc: 0.7850\n",
            "Epoch 39: val_loss improved from 0.93246 to 0.92061, saving model to model_image.h5\n",
            "18/18 [==============================] - 50s 3s/step - loss: 0.7022 - acc: 0.7850 - val_loss: 0.9206 - val_acc: 0.7300\n",
            "Epoch 40/60\n",
            "19/18 [==============================] - ETA: 0s - loss: 0.7092 - acc: 0.7867\n",
            "Epoch 40: val_loss improved from 0.92061 to 0.91786, saving model to model_image.h5\n",
            "18/18 [==============================] - 52s 3s/step - loss: 0.7092 - acc: 0.7867 - val_loss: 0.9179 - val_acc: 0.6700\n",
            "Epoch 41/60\n",
            "19/18 [==============================] - ETA: 0s - loss: 0.7161 - acc: 0.7650\n",
            "Epoch 41: val_loss improved from 0.91786 to 0.88653, saving model to model_image.h5\n",
            "18/18 [==============================] - 51s 3s/step - loss: 0.7161 - acc: 0.7650 - val_loss: 0.8865 - val_acc: 0.7300\n",
            "Epoch 42/60\n",
            "19/18 [==============================] - ETA: 0s - loss: 0.6941 - acc: 0.7917\n",
            "Epoch 42: val_loss did not improve from 0.88653\n",
            "18/18 [==============================] - 50s 3s/step - loss: 0.6941 - acc: 0.7917 - val_loss: 0.8996 - val_acc: 0.7350\n",
            "Epoch 43/60\n",
            "19/18 [==============================] - ETA: 0s - loss: 0.6432 - acc: 0.8033\n",
            "Epoch 43: val_loss did not improve from 0.88653\n",
            "18/18 [==============================] - 50s 3s/step - loss: 0.6432 - acc: 0.8033 - val_loss: 0.8945 - val_acc: 0.7550\n",
            "Epoch 44/60\n",
            "19/18 [==============================] - ETA: 0s - loss: 0.6386 - acc: 0.7950\n",
            "Epoch 44: val_loss improved from 0.88653 to 0.85666, saving model to model_image.h5\n",
            "18/18 [==============================] - 50s 3s/step - loss: 0.6386 - acc: 0.7950 - val_loss: 0.8567 - val_acc: 0.7500\n",
            "Epoch 45/60\n",
            "19/18 [==============================] - ETA: 0s - loss: 0.6302 - acc: 0.8117\n",
            "Epoch 45: val_loss did not improve from 0.85666\n",
            "18/18 [==============================] - 51s 3s/step - loss: 0.6302 - acc: 0.8117 - val_loss: 0.9493 - val_acc: 0.7150\n",
            "Epoch 46/60\n",
            "19/18 [==============================] - ETA: 0s - loss: 0.6246 - acc: 0.8033\n",
            "Epoch 46: val_loss did not improve from 0.85666\n",
            "18/18 [==============================] - 50s 3s/step - loss: 0.6246 - acc: 0.8033 - val_loss: 0.9648 - val_acc: 0.7150\n",
            "Epoch 47/60\n",
            "19/18 [==============================] - ETA: 0s - loss: 0.6130 - acc: 0.8133\n",
            "Epoch 47: val_loss did not improve from 0.85666\n",
            "18/18 [==============================] - 49s 3s/step - loss: 0.6130 - acc: 0.8133 - val_loss: 0.8588 - val_acc: 0.7350\n",
            "Epoch 48/60\n",
            "19/18 [==============================] - ETA: 0s - loss: 0.6364 - acc: 0.8033\n",
            "Epoch 48: val_loss did not improve from 0.85666\n",
            "18/18 [==============================] - 51s 3s/step - loss: 0.6364 - acc: 0.8033 - val_loss: 0.8982 - val_acc: 0.7150\n",
            "Epoch 49/60\n",
            "19/18 [==============================] - ETA: 0s - loss: 0.5805 - acc: 0.8117\n",
            "Epoch 49: val_loss improved from 0.85666 to 0.84973, saving model to model_image.h5\n",
            "18/18 [==============================] - 50s 3s/step - loss: 0.5805 - acc: 0.8117 - val_loss: 0.8497 - val_acc: 0.7350\n",
            "Epoch 50/60\n",
            "19/18 [==============================] - ETA: 0s - loss: 0.5986 - acc: 0.8083\n",
            "Epoch 50: val_loss did not improve from 0.84973\n",
            "18/18 [==============================] - 50s 3s/step - loss: 0.5986 - acc: 0.8083 - val_loss: 0.9367 - val_acc: 0.7350\n",
            "Epoch 51/60\n",
            "19/18 [==============================] - ETA: 0s - loss: 0.5878 - acc: 0.8083\n",
            "Epoch 51: val_loss did not improve from 0.84973\n",
            "18/18 [==============================] - 50s 3s/step - loss: 0.5878 - acc: 0.8083 - val_loss: 0.8946 - val_acc: 0.7650\n",
            "Epoch 52/60\n",
            "19/18 [==============================] - ETA: 0s - loss: 0.5578 - acc: 0.8067\n",
            "Epoch 52: val_loss did not improve from 0.84973\n",
            "18/18 [==============================] - 50s 3s/step - loss: 0.5578 - acc: 0.8067 - val_loss: 0.8611 - val_acc: 0.7400\n",
            "Epoch 53/60\n",
            "19/18 [==============================] - ETA: 0s - loss: 0.5357 - acc: 0.8400\n",
            "Epoch 53: val_loss improved from 0.84973 to 0.82804, saving model to model_image.h5\n",
            "18/18 [==============================] - 50s 3s/step - loss: 0.5357 - acc: 0.8400 - val_loss: 0.8280 - val_acc: 0.7450\n",
            "Epoch 54/60\n",
            "19/18 [==============================] - ETA: 0s - loss: 0.5618 - acc: 0.8233\n",
            "Epoch 54: val_loss did not improve from 0.82804\n",
            "18/18 [==============================] - 49s 3s/step - loss: 0.5618 - acc: 0.8233 - val_loss: 0.8803 - val_acc: 0.7350\n",
            "Epoch 55/60\n",
            "19/18 [==============================] - ETA: 0s - loss: 0.5525 - acc: 0.8183\n",
            "Epoch 55: val_loss did not improve from 0.82804\n",
            "18/18 [==============================] - 49s 3s/step - loss: 0.5525 - acc: 0.8183 - val_loss: 0.8400 - val_acc: 0.7400\n",
            "Epoch 56/60\n",
            "19/18 [==============================] - ETA: 0s - loss: 0.5113 - acc: 0.8317\n",
            "Epoch 56: val_loss did not improve from 0.82804\n",
            "18/18 [==============================] - 49s 3s/step - loss: 0.5113 - acc: 0.8317 - val_loss: 0.9082 - val_acc: 0.7350\n",
            "Epoch 57/60\n",
            "19/18 [==============================] - ETA: 0s - loss: 0.5159 - acc: 0.8517\n",
            "Epoch 57: val_loss did not improve from 0.82804\n",
            "18/18 [==============================] - 50s 3s/step - loss: 0.5159 - acc: 0.8517 - val_loss: 0.8716 - val_acc: 0.7600\n",
            "Epoch 58/60\n",
            "19/18 [==============================] - ETA: 0s - loss: 0.4750 - acc: 0.8600\n",
            "Epoch 58: val_loss improved from 0.82804 to 0.79218, saving model to model_image.h5\n",
            "18/18 [==============================] - 49s 3s/step - loss: 0.4750 - acc: 0.8600 - val_loss: 0.7922 - val_acc: 0.7600\n",
            "Epoch 59/60\n",
            "19/18 [==============================] - ETA: 0s - loss: 0.4923 - acc: 0.8700\n",
            "Epoch 59: val_loss did not improve from 0.79218\n",
            "18/18 [==============================] - 49s 3s/step - loss: 0.4923 - acc: 0.8700 - val_loss: 0.8372 - val_acc: 0.7700\n",
            "Epoch 60/60\n",
            "19/18 [==============================] - ETA: 0s - loss: 0.4797 - acc: 0.8483\n",
            "Epoch 60: val_loss did not improve from 0.79218\n",
            "18/18 [==============================] - 51s 3s/step - loss: 0.4797 - acc: 0.8483 - val_loss: 0.8746 - val_acc: 0.7800\n"
          ]
        }
      ],
      "source": [
        "history = model.fit_generator(\n",
        "train_it,\n",
        "steps_per_epoch =600/32,\n",
        "epochs=60,    \n",
        "validation_data=cv_it,\n",
        "validation_steps=200/32,\n",
        "callbacks=callbacks_list)"
      ]
    },
    {
      "cell_type": "code",
      "execution_count": null,
      "metadata": {
        "id": "QIAe8aw6-sHT"
      },
      "outputs": [],
      "source": [
        "score=model.evaluate_generator(test_it,steps=200/32,workers=2, use_multiprocessing=True, verbose=0)"
      ]
    },
    {
      "cell_type": "code",
      "execution_count": null,
      "metadata": {
        "colab": {
          "base_uri": "https://localhost:8080/"
        },
        "id": "lXGAgn4RFwtL",
        "outputId": "53dd5ac4-ce9c-4589-e555-544ad56641bc"
      },
      "outputs": [
        {
          "data": {
            "text/plain": [
              "72.50000238418579"
            ]
          },
          "execution_count": 99,
          "metadata": {},
          "output_type": "execute_result"
        }
      ],
      "source": [
        "score[1]*100"
      ]
    },
    {
      "cell_type": "code",
      "execution_count": null,
      "metadata": {
        "id": "c-q9nwh7Fxxh"
      },
      "outputs": [],
      "source": [
        "score=model.evaluate_generator(train_it,steps=600/32,workers=2, use_multiprocessing=True, verbose=0)"
      ]
    },
    {
      "cell_type": "code",
      "execution_count": null,
      "metadata": {
        "colab": {
          "base_uri": "https://localhost:8080/"
        },
        "id": "ZmlcM1-_F90w",
        "outputId": "5e3e72d1-01e7-4af2-d230-570a348661ed"
      },
      "outputs": [
        {
          "data": {
            "text/plain": [
              "96.42857313156128"
            ]
          },
          "execution_count": 101,
          "metadata": {},
          "output_type": "execute_result"
        }
      ],
      "source": [
        "score[1]*100"
      ]
    },
    {
      "cell_type": "code",
      "execution_count": null,
      "metadata": {
        "id": "SqCj50Y0JPPR"
      },
      "outputs": [],
      "source": [
        "def step_decay(epoch):\n",
        "\tinitial_lrate = 0.001\n",
        "\tmax_iter=50\n",
        "\tlrate = initial_lrate*(1-epoch/max_iter)**0.5\n",
        "\treturn lrate"
      ]
    },
    {
      "cell_type": "code",
      "execution_count": null,
      "metadata": {
        "id": "ztBbPoTWF_D0"
      },
      "outputs": [],
      "source": [
        "def get_2d_conv_model():\n",
        "    \n",
        "    nclass = 10\n",
        "    \n",
        "    inp = Input(shape=(256,256,3))\n",
        "    x = Convolution2D(16, (3,3), padding=\"same\")(inp)\n",
        "    # x = BatchNormalization()(x)\n",
        "    x = Activation(\"relu\")(x)\n",
        "    x = MaxPool2D(pool_size = (2,2))(x)\n",
        "    # x = Dropout(0.25)(x)\n",
        "    \n",
        "    x = Convolution2D(32, (3,3), padding=\"same\")(x)\n",
        "    # x = BatchNormalization()(x)\n",
        "    x = Activation(\"relu\")(x)\n",
        "    x = MaxPool2D(pool_size = (2,2))(x)\n",
        "    # x = Dropout(0.25)(x)\n",
        "\n",
        "    x = Convolution2D(64, (3,3), padding=\"same\")(x)\n",
        "    # x = BatchNormalization()(x)\n",
        "    x = Activation(\"relu\")(x)\n",
        "    x = MaxPool2D(pool_size = (2,2))(x)\n",
        "    # x = Dropout(0.25)(x)\n",
        "    \n",
        "    # x = Convolution2D(32, (3,3), padding=\"same\")(x)\n",
        "    # x = BatchNormalization()(x)\n",
        "    # x = Activation(\"relu\")(x)\n",
        "    # # x = SpatialDropout2D(0.5)\n",
        "    # x = MaxPool2D()(x)\n",
        "    \n",
        "    # x = Convolution2D(64, (3,3), padding=\"same\")(x)\n",
        "    # x = BatchNormalization()(x)\n",
        "    # x = Activation(\"relu\")(x)\n",
        "    # # x = SpatialDropout2D(0.5)\n",
        "    # x = AveragePooling2D()(x)\n",
        "\n",
        "    x = Flatten()(x)\n",
        "    x = Dense(128)(x)\n",
        "    # x = BatchNormalization()(x)\n",
        "    x = Activation(\"relu\")(x)\n",
        "    # x = Dropout(0.25)(x)\n",
        "    # x = Dense(32)(x)\n",
        "    # x = BatchNormalization()(x)\n",
        "    # x = Activation(\"relu\")(x)\n",
        "    out = Dense(10, activation= softmax)(x)\n",
        "\n",
        "    model = models.Model(inputs=inp, outputs=out)\n",
        "    opt = tf.keras.optimizers.Nadam(learning_rate=0.01)\n",
        "\n",
        "    model.compile(loss = \"categorical_crossentropy\", optimizer =opt, metrics=[\"accuracy\"])\n",
        "    return model"
      ]
    },
    {
      "cell_type": "code",
      "execution_count": null,
      "metadata": {
        "id": "j6-JLzrZGKw6"
      },
      "outputs": [],
      "source": [
        "checkpoint = ModelCheckpoint('Nadam_batchnorm.h5', monitor='val_loss', verbose=1, save_best_only=True)\n",
        "from keras.callbacks import ReduceLROnPlateau\n",
        "\n",
        "# reduce_lr = LearningRateScheduler(step_decay)\n",
        "# mcp_save = ModelCheckpoint('model_1.hdf5', save_best_only=True, monitor='val_acc', mode='max')\n",
        "early = EarlyStopping(monitor=\"val_loss\", mode=\"min\", patience=5)\n",
        "callbacks_list = [checkpoint, early]\n",
        "model = get_2d_conv_model()\n",
        "# history = model.fit(train_it, test_it, validation_data=(cv_it, y_test), callbacks=callbacks_list, \n",
        "#                         batch_size=32, epochs=15)\n",
        "# model.load_weights('best_model_batch.h5')"
      ]
    },
    {
      "cell_type": "code",
      "execution_count": null,
      "metadata": {
        "colab": {
          "base_uri": "https://localhost:8080/",
          "height": 614
        },
        "id": "pXTyYl3oGOLy",
        "outputId": "b1999834-ec5a-463d-c980-9a0b452f6635"
      },
      "outputs": [
        {
          "name": "stdout",
          "output_type": "stream",
          "text": [
            "Epoch 1/50\n",
            "19/18 [==============================] - ETA: 0s - loss: 3.8910 - accuracy: 0.0817\n",
            "Epoch 1: val_loss improved from inf to 2.30283, saving model to Nadam_batchnorm.h5\n",
            "18/18 [==============================] - 51s 3s/step - loss: 3.8910 - accuracy: 0.0817 - val_loss: 2.3028 - val_accuracy: 0.1000\n",
            "Epoch 2/50\n",
            "19/18 [==============================] - ETA: 0s - loss: 2.3052 - accuracy: 0.0883\n",
            "Epoch 2: val_loss improved from 2.30283 to 2.30273, saving model to Nadam_batchnorm.h5\n",
            "18/18 [==============================] - 49s 3s/step - loss: 2.3052 - accuracy: 0.0883 - val_loss: 2.3027 - val_accuracy: 0.1000\n",
            "Epoch 3/50\n",
            "19/18 [==============================] - ETA: 0s - loss: 2.3054 - accuracy: 0.0933\n",
            "Epoch 3: val_loss improved from 2.30273 to 2.30268, saving model to Nadam_batchnorm.h5\n",
            "18/18 [==============================] - 52s 3s/step - loss: 2.3054 - accuracy: 0.0933 - val_loss: 2.3027 - val_accuracy: 0.1000\n",
            "Epoch 4/50\n",
            " 1/18 [>.............................] - ETA: 53s - loss: 2.3000 - accuracy: 0.0938"
          ]
        },
        {
          "ename": "KeyboardInterrupt",
          "evalue": "ignored",
          "output_type": "error",
          "traceback": [
            "\u001b[0;31m---------------------------------------------------------------------------\u001b[0m",
            "\u001b[0;31mKeyboardInterrupt\u001b[0m                         Traceback (most recent call last)",
            "\u001b[0;32m<ipython-input-42-80ed3a55c7ce>\u001b[0m in \u001b[0;36m<module>\u001b[0;34m\u001b[0m\n\u001b[1;32m      5\u001b[0m \u001b[0mvalidation_data\u001b[0m\u001b[0;34m=\u001b[0m\u001b[0mcv_it\u001b[0m\u001b[0;34m,\u001b[0m\u001b[0;34m\u001b[0m\u001b[0;34m\u001b[0m\u001b[0m\n\u001b[1;32m      6\u001b[0m \u001b[0mvalidation_steps\u001b[0m\u001b[0;34m=\u001b[0m\u001b[0;36m200\u001b[0m\u001b[0;34m/\u001b[0m\u001b[0;36m32\u001b[0m\u001b[0;34m,\u001b[0m\u001b[0;34m\u001b[0m\u001b[0;34m\u001b[0m\u001b[0m\n\u001b[0;32m----> 7\u001b[0;31m callbacks=callbacks_list)\n\u001b[0m",
            "\u001b[0;32m/usr/local/lib/python3.7/dist-packages/keras/engine/training.py\u001b[0m in \u001b[0;36mfit_generator\u001b[0;34m(self, generator, steps_per_epoch, epochs, verbose, callbacks, validation_data, validation_steps, validation_freq, class_weight, max_queue_size, workers, use_multiprocessing, shuffle, initial_epoch)\u001b[0m\n\u001b[1;32m   2221\u001b[0m         \u001b[0muse_multiprocessing\u001b[0m\u001b[0;34m=\u001b[0m\u001b[0muse_multiprocessing\u001b[0m\u001b[0;34m,\u001b[0m\u001b[0;34m\u001b[0m\u001b[0;34m\u001b[0m\u001b[0m\n\u001b[1;32m   2222\u001b[0m         \u001b[0mshuffle\u001b[0m\u001b[0;34m=\u001b[0m\u001b[0mshuffle\u001b[0m\u001b[0;34m,\u001b[0m\u001b[0;34m\u001b[0m\u001b[0;34m\u001b[0m\u001b[0m\n\u001b[0;32m-> 2223\u001b[0;31m         initial_epoch=initial_epoch)\n\u001b[0m\u001b[1;32m   2224\u001b[0m \u001b[0;34m\u001b[0m\u001b[0m\n\u001b[1;32m   2225\u001b[0m   \u001b[0;34m@\u001b[0m\u001b[0mdoc_controls\u001b[0m\u001b[0;34m.\u001b[0m\u001b[0mdo_not_generate_docs\u001b[0m\u001b[0;34m\u001b[0m\u001b[0;34m\u001b[0m\u001b[0m\n",
            "\u001b[0;32m/usr/local/lib/python3.7/dist-packages/keras/utils/traceback_utils.py\u001b[0m in \u001b[0;36merror_handler\u001b[0;34m(*args, **kwargs)\u001b[0m\n\u001b[1;32m     62\u001b[0m     \u001b[0mfiltered_tb\u001b[0m \u001b[0;34m=\u001b[0m \u001b[0;32mNone\u001b[0m\u001b[0;34m\u001b[0m\u001b[0;34m\u001b[0m\u001b[0m\n\u001b[1;32m     63\u001b[0m     \u001b[0;32mtry\u001b[0m\u001b[0;34m:\u001b[0m\u001b[0;34m\u001b[0m\u001b[0;34m\u001b[0m\u001b[0m\n\u001b[0;32m---> 64\u001b[0;31m       \u001b[0;32mreturn\u001b[0m \u001b[0mfn\u001b[0m\u001b[0;34m(\u001b[0m\u001b[0;34m*\u001b[0m\u001b[0margs\u001b[0m\u001b[0;34m,\u001b[0m \u001b[0;34m**\u001b[0m\u001b[0mkwargs\u001b[0m\u001b[0;34m)\u001b[0m\u001b[0;34m\u001b[0m\u001b[0;34m\u001b[0m\u001b[0m\n\u001b[0m\u001b[1;32m     65\u001b[0m     \u001b[0;32mexcept\u001b[0m \u001b[0mException\u001b[0m \u001b[0;32mas\u001b[0m \u001b[0me\u001b[0m\u001b[0;34m:\u001b[0m  \u001b[0;31m# pylint: disable=broad-except\u001b[0m\u001b[0;34m\u001b[0m\u001b[0;34m\u001b[0m\u001b[0m\n\u001b[1;32m     66\u001b[0m       \u001b[0mfiltered_tb\u001b[0m \u001b[0;34m=\u001b[0m \u001b[0m_process_traceback_frames\u001b[0m\u001b[0;34m(\u001b[0m\u001b[0me\u001b[0m\u001b[0;34m.\u001b[0m\u001b[0m__traceback__\u001b[0m\u001b[0;34m)\u001b[0m\u001b[0;34m\u001b[0m\u001b[0;34m\u001b[0m\u001b[0m\n",
            "\u001b[0;32m/usr/local/lib/python3.7/dist-packages/keras/engine/training.py\u001b[0m in \u001b[0;36mfit\u001b[0;34m(self, x, y, batch_size, epochs, verbose, callbacks, validation_split, validation_data, shuffle, class_weight, sample_weight, initial_epoch, steps_per_epoch, validation_steps, validation_batch_size, validation_freq, max_queue_size, workers, use_multiprocessing)\u001b[0m\n\u001b[1;32m   1382\u001b[0m                 _r=1):\n\u001b[1;32m   1383\u001b[0m               \u001b[0mcallbacks\u001b[0m\u001b[0;34m.\u001b[0m\u001b[0mon_train_batch_begin\u001b[0m\u001b[0;34m(\u001b[0m\u001b[0mstep\u001b[0m\u001b[0;34m)\u001b[0m\u001b[0;34m\u001b[0m\u001b[0;34m\u001b[0m\u001b[0m\n\u001b[0;32m-> 1384\u001b[0;31m               \u001b[0mtmp_logs\u001b[0m \u001b[0;34m=\u001b[0m \u001b[0mself\u001b[0m\u001b[0;34m.\u001b[0m\u001b[0mtrain_function\u001b[0m\u001b[0;34m(\u001b[0m\u001b[0miterator\u001b[0m\u001b[0;34m)\u001b[0m\u001b[0;34m\u001b[0m\u001b[0;34m\u001b[0m\u001b[0m\n\u001b[0m\u001b[1;32m   1385\u001b[0m               \u001b[0;32mif\u001b[0m \u001b[0mdata_handler\u001b[0m\u001b[0;34m.\u001b[0m\u001b[0mshould_sync\u001b[0m\u001b[0;34m:\u001b[0m\u001b[0;34m\u001b[0m\u001b[0;34m\u001b[0m\u001b[0m\n\u001b[1;32m   1386\u001b[0m                 \u001b[0mcontext\u001b[0m\u001b[0;34m.\u001b[0m\u001b[0masync_wait\u001b[0m\u001b[0;34m(\u001b[0m\u001b[0;34m)\u001b[0m\u001b[0;34m\u001b[0m\u001b[0;34m\u001b[0m\u001b[0m\n",
            "\u001b[0;32m/usr/local/lib/python3.7/dist-packages/tensorflow/python/util/traceback_utils.py\u001b[0m in \u001b[0;36merror_handler\u001b[0;34m(*args, **kwargs)\u001b[0m\n\u001b[1;32m    148\u001b[0m     \u001b[0mfiltered_tb\u001b[0m \u001b[0;34m=\u001b[0m \u001b[0;32mNone\u001b[0m\u001b[0;34m\u001b[0m\u001b[0;34m\u001b[0m\u001b[0m\n\u001b[1;32m    149\u001b[0m     \u001b[0;32mtry\u001b[0m\u001b[0;34m:\u001b[0m\u001b[0;34m\u001b[0m\u001b[0;34m\u001b[0m\u001b[0m\n\u001b[0;32m--> 150\u001b[0;31m       \u001b[0;32mreturn\u001b[0m \u001b[0mfn\u001b[0m\u001b[0;34m(\u001b[0m\u001b[0;34m*\u001b[0m\u001b[0margs\u001b[0m\u001b[0;34m,\u001b[0m \u001b[0;34m**\u001b[0m\u001b[0mkwargs\u001b[0m\u001b[0;34m)\u001b[0m\u001b[0;34m\u001b[0m\u001b[0;34m\u001b[0m\u001b[0m\n\u001b[0m\u001b[1;32m    151\u001b[0m     \u001b[0;32mexcept\u001b[0m \u001b[0mException\u001b[0m \u001b[0;32mas\u001b[0m \u001b[0me\u001b[0m\u001b[0;34m:\u001b[0m\u001b[0;34m\u001b[0m\u001b[0;34m\u001b[0m\u001b[0m\n\u001b[1;32m    152\u001b[0m       \u001b[0mfiltered_tb\u001b[0m \u001b[0;34m=\u001b[0m \u001b[0m_process_traceback_frames\u001b[0m\u001b[0;34m(\u001b[0m\u001b[0me\u001b[0m\u001b[0;34m.\u001b[0m\u001b[0m__traceback__\u001b[0m\u001b[0;34m)\u001b[0m\u001b[0;34m\u001b[0m\u001b[0;34m\u001b[0m\u001b[0m\n",
            "\u001b[0;32m/usr/local/lib/python3.7/dist-packages/tensorflow/python/eager/def_function.py\u001b[0m in \u001b[0;36m__call__\u001b[0;34m(self, *args, **kwds)\u001b[0m\n\u001b[1;32m    913\u001b[0m \u001b[0;34m\u001b[0m\u001b[0m\n\u001b[1;32m    914\u001b[0m       \u001b[0;32mwith\u001b[0m \u001b[0mOptionalXlaContext\u001b[0m\u001b[0;34m(\u001b[0m\u001b[0mself\u001b[0m\u001b[0;34m.\u001b[0m\u001b[0m_jit_compile\u001b[0m\u001b[0;34m)\u001b[0m\u001b[0;34m:\u001b[0m\u001b[0;34m\u001b[0m\u001b[0;34m\u001b[0m\u001b[0m\n\u001b[0;32m--> 915\u001b[0;31m         \u001b[0mresult\u001b[0m \u001b[0;34m=\u001b[0m \u001b[0mself\u001b[0m\u001b[0;34m.\u001b[0m\u001b[0m_call\u001b[0m\u001b[0;34m(\u001b[0m\u001b[0;34m*\u001b[0m\u001b[0margs\u001b[0m\u001b[0;34m,\u001b[0m \u001b[0;34m**\u001b[0m\u001b[0mkwds\u001b[0m\u001b[0;34m)\u001b[0m\u001b[0;34m\u001b[0m\u001b[0;34m\u001b[0m\u001b[0m\n\u001b[0m\u001b[1;32m    916\u001b[0m \u001b[0;34m\u001b[0m\u001b[0m\n\u001b[1;32m    917\u001b[0m       \u001b[0mnew_tracing_count\u001b[0m \u001b[0;34m=\u001b[0m \u001b[0mself\u001b[0m\u001b[0;34m.\u001b[0m\u001b[0mexperimental_get_tracing_count\u001b[0m\u001b[0;34m(\u001b[0m\u001b[0;34m)\u001b[0m\u001b[0;34m\u001b[0m\u001b[0;34m\u001b[0m\u001b[0m\n",
            "\u001b[0;32m/usr/local/lib/python3.7/dist-packages/tensorflow/python/eager/def_function.py\u001b[0m in \u001b[0;36m_call\u001b[0;34m(self, *args, **kwds)\u001b[0m\n\u001b[1;32m    945\u001b[0m       \u001b[0;31m# In this case we have created variables on the first call, so we run the\u001b[0m\u001b[0;34m\u001b[0m\u001b[0;34m\u001b[0m\u001b[0;34m\u001b[0m\u001b[0m\n\u001b[1;32m    946\u001b[0m       \u001b[0;31m# defunned version which is guaranteed to never create variables.\u001b[0m\u001b[0;34m\u001b[0m\u001b[0;34m\u001b[0m\u001b[0;34m\u001b[0m\u001b[0m\n\u001b[0;32m--> 947\u001b[0;31m       \u001b[0;32mreturn\u001b[0m \u001b[0mself\u001b[0m\u001b[0;34m.\u001b[0m\u001b[0m_stateless_fn\u001b[0m\u001b[0;34m(\u001b[0m\u001b[0;34m*\u001b[0m\u001b[0margs\u001b[0m\u001b[0;34m,\u001b[0m \u001b[0;34m**\u001b[0m\u001b[0mkwds\u001b[0m\u001b[0;34m)\u001b[0m  \u001b[0;31m# pylint: disable=not-callable\u001b[0m\u001b[0;34m\u001b[0m\u001b[0;34m\u001b[0m\u001b[0m\n\u001b[0m\u001b[1;32m    948\u001b[0m     \u001b[0;32melif\u001b[0m \u001b[0mself\u001b[0m\u001b[0;34m.\u001b[0m\u001b[0m_stateful_fn\u001b[0m \u001b[0;32mis\u001b[0m \u001b[0;32mnot\u001b[0m \u001b[0;32mNone\u001b[0m\u001b[0;34m:\u001b[0m\u001b[0;34m\u001b[0m\u001b[0;34m\u001b[0m\u001b[0m\n\u001b[1;32m    949\u001b[0m       \u001b[0;31m# Release the lock early so that multiple threads can perform the call\u001b[0m\u001b[0;34m\u001b[0m\u001b[0;34m\u001b[0m\u001b[0;34m\u001b[0m\u001b[0m\n",
            "\u001b[0;32m/usr/local/lib/python3.7/dist-packages/tensorflow/python/eager/function.py\u001b[0m in \u001b[0;36m__call__\u001b[0;34m(self, *args, **kwargs)\u001b[0m\n\u001b[1;32m   2955\u001b[0m        filtered_flat_args) = self._maybe_define_function(args, kwargs)\n\u001b[1;32m   2956\u001b[0m     return graph_function._call_flat(\n\u001b[0;32m-> 2957\u001b[0;31m         filtered_flat_args, captured_inputs=graph_function.captured_inputs)  # pylint: disable=protected-access\n\u001b[0m\u001b[1;32m   2958\u001b[0m \u001b[0;34m\u001b[0m\u001b[0m\n\u001b[1;32m   2959\u001b[0m   \u001b[0;34m@\u001b[0m\u001b[0mproperty\u001b[0m\u001b[0;34m\u001b[0m\u001b[0;34m\u001b[0m\u001b[0m\n",
            "\u001b[0;32m/usr/local/lib/python3.7/dist-packages/tensorflow/python/eager/function.py\u001b[0m in \u001b[0;36m_call_flat\u001b[0;34m(self, args, captured_inputs, cancellation_manager)\u001b[0m\n\u001b[1;32m   1852\u001b[0m       \u001b[0;31m# No tape is watching; skip to running the function.\u001b[0m\u001b[0;34m\u001b[0m\u001b[0;34m\u001b[0m\u001b[0;34m\u001b[0m\u001b[0m\n\u001b[1;32m   1853\u001b[0m       return self._build_call_outputs(self._inference_function.call(\n\u001b[0;32m-> 1854\u001b[0;31m           ctx, args, cancellation_manager=cancellation_manager))\n\u001b[0m\u001b[1;32m   1855\u001b[0m     forward_backward = self._select_forward_and_backward_functions(\n\u001b[1;32m   1856\u001b[0m         \u001b[0margs\u001b[0m\u001b[0;34m,\u001b[0m\u001b[0;34m\u001b[0m\u001b[0;34m\u001b[0m\u001b[0m\n",
            "\u001b[0;32m/usr/local/lib/python3.7/dist-packages/tensorflow/python/eager/function.py\u001b[0m in \u001b[0;36mcall\u001b[0;34m(self, ctx, args, cancellation_manager)\u001b[0m\n\u001b[1;32m    502\u001b[0m               \u001b[0minputs\u001b[0m\u001b[0;34m=\u001b[0m\u001b[0margs\u001b[0m\u001b[0;34m,\u001b[0m\u001b[0;34m\u001b[0m\u001b[0;34m\u001b[0m\u001b[0m\n\u001b[1;32m    503\u001b[0m               \u001b[0mattrs\u001b[0m\u001b[0;34m=\u001b[0m\u001b[0mattrs\u001b[0m\u001b[0;34m,\u001b[0m\u001b[0;34m\u001b[0m\u001b[0;34m\u001b[0m\u001b[0m\n\u001b[0;32m--> 504\u001b[0;31m               ctx=ctx)\n\u001b[0m\u001b[1;32m    505\u001b[0m         \u001b[0;32melse\u001b[0m\u001b[0;34m:\u001b[0m\u001b[0;34m\u001b[0m\u001b[0;34m\u001b[0m\u001b[0m\n\u001b[1;32m    506\u001b[0m           outputs = execute.execute_with_cancellation(\n",
            "\u001b[0;32m/usr/local/lib/python3.7/dist-packages/tensorflow/python/eager/execute.py\u001b[0m in \u001b[0;36mquick_execute\u001b[0;34m(op_name, num_outputs, inputs, attrs, ctx, name)\u001b[0m\n\u001b[1;32m     53\u001b[0m     \u001b[0mctx\u001b[0m\u001b[0;34m.\u001b[0m\u001b[0mensure_initialized\u001b[0m\u001b[0;34m(\u001b[0m\u001b[0;34m)\u001b[0m\u001b[0;34m\u001b[0m\u001b[0;34m\u001b[0m\u001b[0m\n\u001b[1;32m     54\u001b[0m     tensors = pywrap_tfe.TFE_Py_Execute(ctx._handle, device_name, op_name,\n\u001b[0;32m---> 55\u001b[0;31m                                         inputs, attrs, num_outputs)\n\u001b[0m\u001b[1;32m     56\u001b[0m   \u001b[0;32mexcept\u001b[0m \u001b[0mcore\u001b[0m\u001b[0;34m.\u001b[0m\u001b[0m_NotOkStatusException\u001b[0m \u001b[0;32mas\u001b[0m \u001b[0me\u001b[0m\u001b[0;34m:\u001b[0m\u001b[0;34m\u001b[0m\u001b[0;34m\u001b[0m\u001b[0m\n\u001b[1;32m     57\u001b[0m     \u001b[0;32mif\u001b[0m \u001b[0mname\u001b[0m \u001b[0;32mis\u001b[0m \u001b[0;32mnot\u001b[0m \u001b[0;32mNone\u001b[0m\u001b[0;34m:\u001b[0m\u001b[0;34m\u001b[0m\u001b[0;34m\u001b[0m\u001b[0m\n",
            "\u001b[0;31mKeyboardInterrupt\u001b[0m: "
          ]
        }
      ],
      "source": [
        "history = model.fit_generator(\n",
        "train_it,\n",
        "steps_per_epoch =600/32,\n",
        "epochs=50,    \n",
        "validation_data=cv_it,\n",
        "validation_steps=200/32,\n",
        "callbacks=callbacks_list)"
      ]
    },
    {
      "cell_type": "code",
      "execution_count": 88,
      "metadata": {
        "id": "yH27t7cwQ_QD"
      },
      "outputs": [],
      "source": [
        "model.load_weights('Nadam_batchnorm.h5')"
      ]
    },
    {
      "cell_type": "code",
      "execution_count": 89,
      "metadata": {
        "id": "3eOC3wPDRHPF"
      },
      "outputs": [],
      "source": [
        "from sklearn.metrics import plot_confusion_matrix\n",
        "from sklearn.metrics import confusion_matrix, accuracy_score"
      ]
    },
    {
      "cell_type": "code",
      "execution_count": 93,
      "metadata": {
        "id": "nxrIFS4CSOcC"
      },
      "outputs": [],
      "source": [
        "xtest, ytest = test_it.next()"
      ]
    },
    {
      "cell_type": "code",
      "execution_count": 94,
      "metadata": {
        "id": "nSvVfUBXTP4G"
      },
      "outputs": [],
      "source": [
        "ypred = m.predict(xtest)"
      ]
    },
    {
      "cell_type": "code",
      "execution_count": 95,
      "metadata": {
        "id": "P3v-G3HwT6c3"
      },
      "outputs": [],
      "source": [
        "ytest = np.argmax(ytest, axis = 1)\n",
        "ypred = np.argmax(ypred, axis = 1)"
      ]
    },
    {
      "cell_type": "code",
      "execution_count": null,
      "metadata": {
        "id": "1-a4WdogUIfp"
      },
      "outputs": [],
      "source": [
        "ytest = np.array(ytest)"
      ]
    },
    {
      "cell_type": "code",
      "execution_count": null,
      "metadata": {
        "id": "rUAtg5NyUFMD"
      },
      "outputs": [],
      "source": [
        "ypred = np.array(ypred)"
      ]
    },
    {
      "cell_type": "code",
      "execution_count": 96,
      "metadata": {
        "id": "-U0lXWPHTzh_"
      },
      "outputs": [],
      "source": [
        "cm = confusion_matrix(ytest, ypred)"
      ]
    },
    {
      "cell_type": "code",
      "execution_count": null,
      "metadata": {
        "id": "36XpgEqlVD0M"
      },
      "outputs": [],
      "source": []
    },
    {
      "cell_type": "code",
      "execution_count": 97,
      "metadata": {
        "id": "oYmEINszV1tA"
      },
      "outputs": [],
      "source": [
        "import itertools"
      ]
    },
    {
      "cell_type": "code",
      "execution_count": 98,
      "metadata": {
        "id": "8qmFVTFtRNJU"
      },
      "outputs": [],
      "source": [
        "# categorical_test_labels = pd.DataFrame(ytest).idxmax(axis=1)\n",
        "# categorical_preds = pd.DataFrame(ypred).idxmax(axis=1)\n",
        "# confusion_matrix= confusion_matrix(categorical_test_labels, categorical_preds)\n",
        "\n",
        "#To get better visual of the confusion matrix:\n",
        "def plot_confusion_matrix(cm, classes,\n",
        "   normalize=False,\n",
        "   title='Confusion matrix',\n",
        "   cmap=plt.cm.Blues):\n",
        " \n",
        "#Add Normalization Option\n",
        "#  ‘’’prints pretty confusion metric with normalization option ‘’’\n",
        "   if normalize:\n",
        "     cm = cm.astype('float') / cm.sum(axis=1)[:, np.newaxis]\n",
        "     print(\"Normalized confusion matrix\")\n",
        "   else:\n",
        "     print('Confusion matrix, without normalization')\n",
        " \n",
        "# print(cm)\n",
        "   plt.figure(figsize= (15,15))\n",
        "   plt.imshow(cm, interpolation='nearest', cmap=cmap)\n",
        "   plt.title(title)\n",
        "   plt.colorbar()\n",
        "   tick_marks = np.arange(len(classes))\n",
        "   plt.xticks(tick_marks, classes, rotation=45)\n",
        "   plt.yticks(tick_marks, classes)\n",
        " \n",
        "   fmt = '.2f' if normalize else 'd'\n",
        "   thresh = cm.max() / 2.\n",
        "   for i, j in itertools.product(range(cm.shape[0]), range(cm.shape[1])):\n",
        "      plt.text(j, i, format(cm[i, j], fmt), horizontalalignment='center', color='white' if cm[i, j] > thresh else 'black')\n",
        " \n",
        "   plt.tight_layout()\n",
        "   plt.ylabel('True label')\n",
        "   plt.xlabel('Predicted label') "
      ]
    },
    {
      "cell_type": "code",
      "execution_count": 99,
      "metadata": {
        "id": "kYmkWFchVYSq"
      },
      "outputs": [],
      "source": [
        "label = list(classes.keys())"
      ]
    },
    {
      "cell_type": "code",
      "execution_count": null,
      "metadata": {
        "colab": {
          "base_uri": "https://localhost:8080/"
        },
        "id": "jm-IAodsVeiU",
        "outputId": "2f73665a-30db-402c-8fca-21ab33b64d69"
      },
      "outputs": [
        {
          "data": {
            "text/plain": [
              "['Bark',\n",
              " 'Meow',\n",
              " 'Siren',\n",
              " 'Shatter',\n",
              " 'Knock',\n",
              " 'Crying_and_sobbing',\n",
              " 'Microwave_oven',\n",
              " 'Vehicle_horn_and_car_horn_and_honking',\n",
              " 'Doorbell',\n",
              " 'Walk_and_footsteps']"
            ]
          },
          "execution_count": 156,
          "metadata": {},
          "output_type": "execute_result"
        }
      ],
      "source": [
        "label"
      ]
    },
    {
      "cell_type": "code",
      "execution_count": 100,
      "metadata": {
        "colab": {
          "base_uri": "https://localhost:8080/",
          "height": 1000
        },
        "id": "Gf-2E4NSTry0",
        "outputId": "c4b83214-172b-4307-f2e2-9c7bad3dce2d"
      },
      "outputs": [
        {
          "output_type": "stream",
          "name": "stdout",
          "text": [
            "Normalized confusion matrix\n"
          ]
        },
        {
          "output_type": "display_data",
          "data": {
            "text/plain": [
              "<Figure size 1080x1080 with 2 Axes>"
            ],
            "image/png": "[encoded data removed]"
          },
          "metadata": {
            "needs_background": "light"
          }
        }
      ],
      "source": [
        "plot_confusion_matrix(cm, label, normalize = True)"
      ]
    },
    {
      "cell_type": "code",
      "execution_count": null,
      "metadata": {
        "id": "0S6bcTcXRNFw"
      },
      "outputs": [],
      "source": [
        "acc = accuracy_score(ytest, ypred)"
      ]
    },
    {
      "cell_type": "code",
      "execution_count": null,
      "metadata": {
        "colab": {
          "base_uri": "https://localhost:8080/"
        },
        "id": "RPPMhQpcRNDF",
        "outputId": "2f498190-1e2d-4448-fdf8-7608fc6ebf4a"
      },
      "outputs": [
        {
          "data": {
            "text/plain": [
              "0.115"
            ]
          },
          "execution_count": 162,
          "metadata": {},
          "output_type": "execute_result"
        }
      ],
      "source": [
        "acc"
      ]
    },
    {
      "cell_type": "code",
      "execution_count": null,
      "metadata": {
        "colab": {
          "base_uri": "https://localhost:8080/"
        },
        "id": "_5tPwFwfO_73",
        "outputId": "58e3dd64-3127-4e21-b7f3-9e6535ad90b6"
      },
      "outputs": [
        {
          "data": {
            "text/plain": [
              "82.4999988079071"
            ]
          },
          "execution_count": 97,
          "metadata": {},
          "output_type": "execute_result"
        }
      ],
      "source": [
        "score=model.evaluate_generator(test_it,steps=200/32,workers=2, use_multiprocessing=True, verbose=0)\n",
        "score[1]*100"
      ]
    },
    {
      "cell_type": "code",
      "execution_count": null,
      "metadata": {
        "colab": {
          "base_uri": "https://localhost:8080/",
          "height": 284
        },
        "id": "wXxtkBc_DgTx",
        "outputId": "3432ffae-6091-4ae4-c988-588d6ae958de"
      },
      "outputs": [
        {
          "data": {
            "image/png": "[encoded data removed]",
            "text/plain": [
              "<Figure size 432x288 with 1 Axes>"
            ]
          },
          "metadata": {
            "image/png": {
              "height": 267,
              "width": 392
            }
          },
          "output_type": "display_data"
        }
      ],
      "source": [
        "%matplotlib inline\n",
        "sns.set_context('notebook')\n",
        "%config InlineBackend.figure_format = 'retina'\n",
        "\n",
        "\n",
        "fig,ax = plt.subplots(1,1)\n",
        "ax.set_xlabel('epoch') ; ax.set_ylabel('Categorical Crossentropy Loss')\n",
        "\n",
        "# list of epoch numbers\n",
        "x = list(range(1,15+1))\n",
        "\n",
        "# print(history.history.keys())\n",
        "# dict_keys(['val_loss', 'val_acc', 'loss', 'acc'])\n",
        "# history = model_drop.fit(X_train, Y_train, batch_size=batch_size, epochs=nb_epoch, verbose=1, validation_data=(X_test, Y_test))\n",
        "\n",
        "# we will get val_loss and val_acc only when you pass the paramter validation_data\n",
        "# val_loss : validation loss\n",
        "# val_acc : validation accuracy\n",
        "\n",
        "# loss : training loss\n",
        "# acc : train accuracy\n",
        "# for each key in histrory.histrory we will have a list of length equal to number of epochs\n",
        "\n",
        "\n",
        "vy = history.history['val_loss']\n",
        "ty = history.history['loss']\n",
        "plt_dynamic(x, vy, ty, ax)"
      ]
    },
    {
      "cell_type": "code",
      "execution_count": null,
      "metadata": {
        "colab": {
          "base_uri": "https://localhost:8080/"
        },
        "id": "VQb42qsUGQ2Q",
        "outputId": "b79b1f0b-7acb-4187-bed5-a96f8bebcd93"
      },
      "outputs": [
        {
          "name": "stdout",
          "output_type": "stream",
          "text": [
            "Epoch 1/50\n",
            "19/18 [==============================] - ETA: 0s - loss: 0.8194 - acc: 0.7350\n",
            "Epoch 1: val_loss did not improve from 0.87627\n",
            "18/18 [==============================] - 10s 554ms/step - loss: 0.8194 - acc: 0.7350 - val_loss: 0.9019 - val_acc: 0.7450\n",
            "Epoch 2/50\n",
            "19/18 [==============================] - ETA: 0s - loss: 0.7937 - acc: 0.7383\n",
            "Epoch 2: val_loss did not improve from 0.87627\n",
            "18/18 [==============================] - 10s 556ms/step - loss: 0.7937 - acc: 0.7383 - val_loss: 0.8974 - val_acc: 0.7300\n",
            "Epoch 3/50\n",
            "19/18 [==============================] - ETA: 0s - loss: 0.8424 - acc: 0.7467\n",
            "Epoch 3: val_loss did not improve from 0.87627\n",
            "18/18 [==============================] - 10s 556ms/step - loss: 0.8424 - acc: 0.7467 - val_loss: 0.8915 - val_acc: 0.7550\n",
            "Epoch 4/50\n",
            "19/18 [==============================] - ETA: 0s - loss: 0.7623 - acc: 0.7700\n",
            "Epoch 4: val_loss did not improve from 0.87627\n",
            "18/18 [==============================] - 10s 556ms/step - loss: 0.7623 - acc: 0.7700 - val_loss: 0.8823 - val_acc: 0.7500\n",
            "Epoch 5/50\n",
            "19/18 [==============================] - ETA: 0s - loss: 0.7469 - acc: 0.7600\n",
            "Epoch 5: val_loss improved from 0.87627 to 0.83357, saving model to model_image_sgd.h5\n",
            "18/18 [==============================] - 11s 560ms/step - loss: 0.7469 - acc: 0.7600 - val_loss: 0.8336 - val_acc: 0.7450\n",
            "Epoch 6/50\n",
            "19/18 [==============================] - ETA: 0s - loss: 0.7395 - acc: 0.7417\n",
            "Epoch 6: val_loss did not improve from 0.83357\n",
            "18/18 [==============================] - 10s 554ms/step - loss: 0.7395 - acc: 0.7417 - val_loss: 0.8680 - val_acc: 0.7350\n",
            "Epoch 7/50\n",
            "19/18 [==============================] - ETA: 0s - loss: 0.7440 - acc: 0.7483\n",
            "Epoch 7: val_loss did not improve from 0.83357\n",
            "18/18 [==============================] - 10s 548ms/step - loss: 0.7440 - acc: 0.7483 - val_loss: 0.8425 - val_acc: 0.7200\n",
            "Epoch 8/50\n",
            "19/18 [==============================] - ETA: 0s - loss: 0.7517 - acc: 0.7550\n",
            "Epoch 8: val_loss improved from 0.83357 to 0.83261, saving model to model_image_sgd.h5\n",
            "18/18 [==============================] - 10s 558ms/step - loss: 0.7517 - acc: 0.7550 - val_loss: 0.8326 - val_acc: 0.7500\n",
            "Epoch 9/50\n",
            "19/18 [==============================] - ETA: 0s - loss: 0.7589 - acc: 0.7383\n",
            "Epoch 9: val_loss improved from 0.83261 to 0.82884, saving model to model_image_sgd.h5\n",
            "18/18 [==============================] - 11s 562ms/step - loss: 0.7589 - acc: 0.7383 - val_loss: 0.8288 - val_acc: 0.7500\n",
            "Epoch 10/50\n",
            "19/18 [==============================] - ETA: 0s - loss: 0.7350 - acc: 0.7633\n",
            "Epoch 10: val_loss improved from 0.82884 to 0.82059, saving model to model_image_sgd.h5\n",
            "18/18 [==============================] - 10s 559ms/step - loss: 0.7350 - acc: 0.7633 - val_loss: 0.8206 - val_acc: 0.7600\n",
            "Epoch 11/50\n",
            "19/18 [==============================] - ETA: 0s - loss: 0.7175 - acc: 0.7667\n",
            "Epoch 11: val_loss improved from 0.82059 to 0.80779, saving model to model_image_sgd.h5\n",
            "18/18 [==============================] - 10s 557ms/step - loss: 0.7175 - acc: 0.7667 - val_loss: 0.8078 - val_acc: 0.7750\n",
            "Epoch 12/50\n",
            "19/18 [==============================] - ETA: 0s - loss: 0.7453 - acc: 0.7750\n",
            "Epoch 12: val_loss improved from 0.80779 to 0.80409, saving model to model_image_sgd.h5\n",
            "18/18 [==============================] - 10s 556ms/step - loss: 0.7453 - acc: 0.7750 - val_loss: 0.8041 - val_acc: 0.7750\n",
            "Epoch 13/50\n",
            "19/18 [==============================] - ETA: 0s - loss: 0.7035 - acc: 0.7917\n",
            "Epoch 13: val_loss improved from 0.80409 to 0.80109, saving model to model_image_sgd.h5\n",
            "18/18 [==============================] - 10s 559ms/step - loss: 0.7035 - acc: 0.7917 - val_loss: 0.8011 - val_acc: 0.7550\n",
            "Epoch 14/50\n",
            "19/18 [==============================] - ETA: 0s - loss: 0.7088 - acc: 0.7683\n",
            "Epoch 14: val_loss did not improve from 0.80109\n",
            "18/18 [==============================] - 10s 553ms/step - loss: 0.7088 - acc: 0.7683 - val_loss: 0.8141 - val_acc: 0.7650\n",
            "Epoch 15/50\n",
            "19/18 [==============================] - ETA: 0s - loss: 0.7069 - acc: 0.7767\n",
            "Epoch 15: val_loss improved from 0.80109 to 0.77551, saving model to model_image_sgd.h5\n",
            "18/18 [==============================] - 11s 560ms/step - loss: 0.7069 - acc: 0.7767 - val_loss: 0.7755 - val_acc: 0.7550\n",
            "Epoch 16/50\n",
            "19/18 [==============================] - ETA: 0s - loss: 0.6779 - acc: 0.7917\n",
            "Epoch 16: val_loss did not improve from 0.77551\n",
            "18/18 [==============================] - 10s 554ms/step - loss: 0.6779 - acc: 0.7917 - val_loss: 0.7765 - val_acc: 0.7600\n",
            "Epoch 17/50\n",
            "19/18 [==============================] - ETA: 0s - loss: 0.6712 - acc: 0.7950\n",
            "Epoch 17: val_loss did not improve from 0.77551\n",
            "18/18 [==============================] - 10s 554ms/step - loss: 0.6712 - acc: 0.7950 - val_loss: 0.7910 - val_acc: 0.7500\n",
            "Epoch 18/50\n",
            "19/18 [==============================] - ETA: 0s - loss: 0.6790 - acc: 0.8067\n",
            "Epoch 18: val_loss improved from 0.77551 to 0.75887, saving model to model_image_sgd.h5\n",
            "18/18 [==============================] - 10s 558ms/step - loss: 0.6790 - acc: 0.8067 - val_loss: 0.7589 - val_acc: 0.7500\n",
            "Epoch 19/50\n",
            "19/18 [==============================] - ETA: 0s - loss: 0.6932 - acc: 0.7633\n",
            "Epoch 19: val_loss did not improve from 0.75887\n",
            "18/18 [==============================] - 10s 551ms/step - loss: 0.6932 - acc: 0.7633 - val_loss: 0.7856 - val_acc: 0.7550\n",
            "Epoch 20/50\n",
            "19/18 [==============================] - ETA: 0s - loss: 0.6289 - acc: 0.7883\n",
            "Epoch 20: val_loss did not improve from 0.75887\n",
            "18/18 [==============================] - 10s 557ms/step - loss: 0.6289 - acc: 0.7883 - val_loss: 0.7976 - val_acc: 0.7450\n",
            "Epoch 21/50\n",
            "19/18 [==============================] - ETA: 0s - loss: 0.5894 - acc: 0.8050\n",
            "Epoch 21: val_loss did not improve from 0.75887\n",
            "18/18 [==============================] - 11s 562ms/step - loss: 0.5894 - acc: 0.8050 - val_loss: 0.8247 - val_acc: 0.7550\n",
            "Epoch 22/50\n",
            "19/18 [==============================] - ETA: 0s - loss: 0.6457 - acc: 0.7967\n",
            "Epoch 22: val_loss did not improve from 0.75887\n",
            "18/18 [==============================] - 10s 558ms/step - loss: 0.6457 - acc: 0.7967 - val_loss: 0.7723 - val_acc: 0.7750\n",
            "Epoch 23/50\n",
            "19/18 [==============================] - ETA: 0s - loss: 0.6693 - acc: 0.7800\n",
            "Epoch 23: val_loss improved from 0.75887 to 0.75834, saving model to model_image_sgd.h5\n",
            "18/18 [==============================] - 11s 563ms/step - loss: 0.6693 - acc: 0.7800 - val_loss: 0.7583 - val_acc: 0.7700\n",
            "Epoch 24/50\n",
            "19/18 [==============================] - ETA: 0s - loss: 0.6524 - acc: 0.7917\n",
            "Epoch 24: val_loss did not improve from 0.75834\n",
            "18/18 [==============================] - 10s 557ms/step - loss: 0.6524 - acc: 0.7917 - val_loss: 0.7949 - val_acc: 0.7500\n",
            "Epoch 25/50\n",
            "19/18 [==============================] - ETA: 0s - loss: 0.6555 - acc: 0.7733\n",
            "Epoch 25: val_loss improved from 0.75834 to 0.75513, saving model to model_image_sgd.h5\n",
            "18/18 [==============================] - 11s 563ms/step - loss: 0.6555 - acc: 0.7733 - val_loss: 0.7551 - val_acc: 0.7750\n",
            "Epoch 26/50\n",
            "19/18 [==============================] - ETA: 0s - loss: 0.5954 - acc: 0.8267\n",
            "Epoch 26: val_loss did not improve from 0.75513\n",
            "18/18 [==============================] - 10s 555ms/step - loss: 0.5954 - acc: 0.8267 - val_loss: 0.8062 - val_acc: 0.7650\n",
            "Epoch 27/50\n",
            "19/18 [==============================] - ETA: 0s - loss: 0.5908 - acc: 0.8217\n",
            "Epoch 27: val_loss did not improve from 0.75513\n",
            "18/18 [==============================] - 10s 553ms/step - loss: 0.5908 - acc: 0.8217 - val_loss: 0.7783 - val_acc: 0.7800\n",
            "Epoch 28/50\n",
            "19/18 [==============================] - ETA: 0s - loss: 0.6055 - acc: 0.8133\n",
            "Epoch 28: val_loss improved from 0.75513 to 0.72684, saving model to model_image_sgd.h5\n",
            "18/18 [==============================] - 11s 561ms/step - loss: 0.6055 - acc: 0.8133 - val_loss: 0.7268 - val_acc: 0.7650\n",
            "Epoch 29/50\n",
            "19/18 [==============================] - ETA: 0s - loss: 0.5930 - acc: 0.8167\n",
            "Epoch 29: val_loss did not improve from 0.72684\n",
            "18/18 [==============================] - 10s 555ms/step - loss: 0.5930 - acc: 0.8167 - val_loss: 0.7422 - val_acc: 0.7950\n",
            "Epoch 30/50\n",
            "19/18 [==============================] - ETA: 0s - loss: 0.5349 - acc: 0.8300\n",
            "Epoch 30: val_loss did not improve from 0.72684\n",
            "18/18 [==============================] - 10s 552ms/step - loss: 0.5349 - acc: 0.8300 - val_loss: 0.7410 - val_acc: 0.7800\n",
            "Epoch 31/50\n",
            "19/18 [==============================] - ETA: 0s - loss: 0.5220 - acc: 0.8317\n",
            "Epoch 31: val_loss improved from 0.72684 to 0.72384, saving model to model_image_sgd.h5\n",
            "18/18 [==============================] - 10s 559ms/step - loss: 0.5220 - acc: 0.8317 - val_loss: 0.7238 - val_acc: 0.7800\n",
            "Epoch 32/50\n",
            "19/18 [==============================] - ETA: 0s - loss: 0.5283 - acc: 0.8400\n",
            "Epoch 32: val_loss did not improve from 0.72384\n",
            "18/18 [==============================] - 10s 547ms/step - loss: 0.5283 - acc: 0.8400 - val_loss: 0.7670 - val_acc: 0.7800\n",
            "Epoch 33/50\n",
            "19/18 [==============================] - ETA: 0s - loss: 0.6114 - acc: 0.7983\n",
            "Epoch 33: val_loss did not improve from 0.72384\n",
            "18/18 [==============================] - 10s 544ms/step - loss: 0.6114 - acc: 0.7983 - val_loss: 0.7413 - val_acc: 0.7800\n",
            "Epoch 34/50\n",
            "19/18 [==============================] - ETA: 0s - loss: 0.5166 - acc: 0.8400\n",
            "Epoch 34: val_loss improved from 0.72384 to 0.71509, saving model to model_image_sgd.h5\n",
            "18/18 [==============================] - 10s 552ms/step - loss: 0.5166 - acc: 0.8400 - val_loss: 0.7151 - val_acc: 0.7850\n",
            "Epoch 35/50\n",
            "19/18 [==============================] - ETA: 0s - loss: 0.5522 - acc: 0.8200\n",
            "Epoch 35: val_loss improved from 0.71509 to 0.68191, saving model to model_image_sgd.h5\n",
            "18/18 [==============================] - 10s 554ms/step - loss: 0.5522 - acc: 0.8200 - val_loss: 0.6819 - val_acc: 0.7850\n",
            "Epoch 36/50\n",
            "19/18 [==============================] - ETA: 0s - loss: 0.5328 - acc: 0.8267\n",
            "Epoch 36: val_loss did not improve from 0.68191\n",
            "18/18 [==============================] - 10s 544ms/step - loss: 0.5328 - acc: 0.8267 - val_loss: 0.6972 - val_acc: 0.7800\n",
            "Epoch 37/50\n",
            "19/18 [==============================] - ETA: 0s - loss: 0.5705 - acc: 0.8200\n",
            "Epoch 37: val_loss did not improve from 0.68191\n",
            "18/18 [==============================] - 10s 544ms/step - loss: 0.5705 - acc: 0.8200 - val_loss: 0.7163 - val_acc: 0.7750\n",
            "Epoch 38/50\n",
            "19/18 [==============================] - ETA: 0s - loss: 0.5899 - acc: 0.8083\n",
            "Epoch 38: val_loss did not improve from 0.68191\n",
            "18/18 [==============================] - 10s 546ms/step - loss: 0.5899 - acc: 0.8083 - val_loss: 0.6882 - val_acc: 0.7900\n",
            "Epoch 39/50\n",
            "19/18 [==============================] - ETA: 0s - loss: 0.5023 - acc: 0.8500\n",
            "Epoch 39: val_loss did not improve from 0.68191\n",
            "18/18 [==============================] - 10s 541ms/step - loss: 0.5023 - acc: 0.8500 - val_loss: 0.6979 - val_acc: 0.7900\n",
            "Epoch 40/50\n",
            "19/18 [==============================] - ETA: 0s - loss: 0.5132 - acc: 0.8367\n",
            "Epoch 40: val_loss did not improve from 0.68191\n",
            "18/18 [==============================] - 10s 543ms/step - loss: 0.5132 - acc: 0.8367 - val_loss: 0.7320 - val_acc: 0.7650\n"
          ]
        },
        {
          "data": {
            "text/plain": [
              "<keras.callbacks.History at 0x7fde005e9710>"
            ]
          },
          "execution_count": 49,
          "metadata": {},
          "output_type": "execute_result"
        }
      ],
      "source": [
        "model.fit_generator(\n",
        "train_it,\n",
        "steps_per_epoch =600/32,\n",
        "epochs=50,    \n",
        "validation_data=cv_it,\n",
        "validation_steps=200/32,\n",
        "callbacks=callbacks_list)"
      ]
    },
    {
      "cell_type": "code",
      "execution_count": null,
      "metadata": {
        "id": "D0uBHHY9tHuB"
      },
      "outputs": [],
      "source": [
        "score=model.evaluate_generator(test_it,steps=200/32,workers=2, use_multiprocessing=True, verbose=0)"
      ]
    },
    {
      "cell_type": "code",
      "execution_count": null,
      "metadata": {
        "colab": {
          "base_uri": "https://localhost:8080/"
        },
        "id": "WarFQzQBvfrH",
        "outputId": "ba3237d6-c9fe-4a61-9824-b9dec1b0f476"
      },
      "outputs": [
        {
          "data": {
            "text/plain": [
              "75.49999952316284"
            ]
          },
          "execution_count": 51,
          "metadata": {},
          "output_type": "execute_result"
        }
      ],
      "source": [
        "score[1]*100"
      ]
    },
    {
      "cell_type": "code",
      "execution_count": null,
      "metadata": {
        "id": "P6jdFSg4vir9"
      },
      "outputs": [],
      "source": [
        "def get_2d_conv_model():\n",
        "    \n",
        "    nclass = 10\n",
        "    \n",
        "    inp = Input(shape=(256,256,3))\n",
        "    x = Convolution2D(16, (3,3), padding=\"same\")(inp)\n",
        "    # x = BatchNormalization()(x)\n",
        "    x = Activation(\"relu\")(x)\n",
        "    x = MaxPool2D(pool_size = (2,2))(x)\n",
        "    # x = Dropout(0.25)(x)\n",
        "    \n",
        "    x = Convolution2D(32, (3,3), padding=\"same\")(x)\n",
        "    # x = BatchNormalization()(x)\n",
        "    x = Activation(\"relu\")(x)\n",
        "    x = MaxPool2D(pool_size = (2,2))(x)\n",
        "    # x = Dropout(0.25)(x)\n",
        "\n",
        "    x = Convolution2D(64, (3,3), padding=\"same\")(x)\n",
        "    # x = BatchNormalization()(x)\n",
        "    x = Activation(\"relu\")(x)\n",
        "    x = MaxPool2D(pool_size = (2,2))(x)\n",
        "    # x = Dropout(0.25)(x)\n",
        "    \n",
        "    x = Convolution2D(64, (3,3), padding=\"same\")(x)\n",
        "    # x = BatchNormalization()(x)\n",
        "    x = Activation(\"relu\")(x)\n",
        "    # x = SpatialDropout2D(0.5)\n",
        "    x = MaxPool2D()(x)\n",
        "    \n",
        "    x = Convolution2D(64, (3,3), padding=\"same\")(x)\n",
        "    x = BatchNormalization()(x)\n",
        "    x = Activation(\"relu\")(x)\n",
        "    # x = SpatialDropout2D(0.5)\n",
        "    x = AveragePooling2D()(x)\n",
        "\n",
        "    x = Flatten()(x)\n",
        "    x = Dense(128)(x)\n",
        "    # x = BatchNormalization()(x)\n",
        "    x = Activation(\"relu\")(x)\n",
        "    # x = Dropout(0.25)(x)\n",
        "    # x = Dense(32)(x)\n",
        "    # x = BatchNormalization()(x)\n",
        "    # x = Activation(\"relu\")(x)\n",
        "    out = Dense(10, activation= softmax)(x)\n",
        "\n",
        "    model = models.Model(inputs=inp, outputs=out)\n",
        "    opt = tf.keras.optimizers.SGD(learning_rate=0.01, momentum=0.0, nesterov=False, name=\"SGD\")\n",
        "\n",
        "    model.compile(optimizer=opt, loss=losses.categorical_crossentropy, metrics=['acc'])\n",
        "    return model"
      ]
    },
    {
      "cell_type": "code",
      "execution_count": null,
      "metadata": {
        "id": "SjRu3qoJwUQ0"
      },
      "outputs": [],
      "source": [
        "checkpoint = ModelCheckpoint('model_deep_SGD.h5', monitor='val_loss', verbose=1, save_best_only=True)\n",
        "early = EarlyStopping(monitor=\"val_loss\", mode=\"min\", patience=5)\n",
        "callbacks_list = [checkpoint, early]\n",
        "model_deep_SGD = get_2d_conv_model()\n",
        "# history = model.fit(train_it, test_it, validation_data=(cv_it, y_test), callbacks=callbacks_list, \n",
        "#                         batch_size=32, epochs=15)\n",
        "# model.load_weights('best_model_batch.h5')"
      ]
    },
    {
      "cell_type": "code",
      "execution_count": null,
      "metadata": {
        "colab": {
          "base_uri": "https://localhost:8080/"
        },
        "id": "JlTP4v9Zwadv",
        "outputId": "5b33cf69-33f5-4788-9457-616b47c1d76c"
      },
      "outputs": [
        {
          "name": "stdout",
          "output_type": "stream",
          "text": [
            "Epoch 1/30\n",
            "19/18 [==============================] - ETA: 0s - loss: 2.3103 - acc: 0.1117\n",
            "Epoch 1: val_loss improved from inf to 2.29896, saving model to model_deep_SGD.h5\n",
            "18/18 [==============================] - 11s 565ms/step - loss: 2.3103 - acc: 0.1117 - val_loss: 2.2990 - val_acc: 0.1050\n",
            "Epoch 2/30\n",
            "19/18 [==============================] - ETA: 0s - loss: 2.1941 - acc: 0.1867\n",
            "Epoch 2: val_loss improved from 2.29896 to 2.29462, saving model to model_deep_SGD.h5\n",
            "18/18 [==============================] - 10s 555ms/step - loss: 2.1941 - acc: 0.1867 - val_loss: 2.2946 - val_acc: 0.1000\n",
            "Epoch 3/30\n",
            "19/18 [==============================] - ETA: 0s - loss: 2.0997 - acc: 0.2367\n",
            "Epoch 3: val_loss improved from 2.29462 to 2.28418, saving model to model_deep_SGD.h5\n",
            "18/18 [==============================] - 10s 549ms/step - loss: 2.0997 - acc: 0.2367 - val_loss: 2.2842 - val_acc: 0.1550\n",
            "Epoch 4/30\n",
            "19/18 [==============================] - ETA: 0s - loss: 2.0003 - acc: 0.2883\n",
            "Epoch 4: val_loss improved from 2.28418 to 2.27165, saving model to model_deep_SGD.h5\n",
            "18/18 [==============================] - 10s 554ms/step - loss: 2.0003 - acc: 0.2883 - val_loss: 2.2716 - val_acc: 0.1900\n",
            "Epoch 5/30\n",
            "19/18 [==============================] - ETA: 0s - loss: 1.9170 - acc: 0.3283\n",
            "Epoch 5: val_loss improved from 2.27165 to 2.25228, saving model to model_deep_SGD.h5\n",
            "18/18 [==============================] - 10s 552ms/step - loss: 1.9170 - acc: 0.3283 - val_loss: 2.2523 - val_acc: 0.2550\n",
            "Epoch 6/30\n",
            "19/18 [==============================] - ETA: 0s - loss: 1.8414 - acc: 0.3417\n",
            "Epoch 6: val_loss improved from 2.25228 to 2.22578, saving model to model_deep_SGD.h5\n",
            "18/18 [==============================] - 11s 578ms/step - loss: 1.8414 - acc: 0.3417 - val_loss: 2.2258 - val_acc: 0.3600\n",
            "Epoch 7/30\n",
            "19/18 [==============================] - ETA: 0s - loss: 1.7455 - acc: 0.4033\n",
            "Epoch 7: val_loss improved from 2.22578 to 2.18160, saving model to model_deep_SGD.h5\n",
            "18/18 [==============================] - 11s 581ms/step - loss: 1.7455 - acc: 0.4033 - val_loss: 2.1816 - val_acc: 0.3950\n",
            "Epoch 8/30\n",
            "19/18 [==============================] - ETA: 0s - loss: 1.6341 - acc: 0.4367\n",
            "Epoch 8: val_loss improved from 2.18160 to 2.13688, saving model to model_deep_SGD.h5\n",
            "18/18 [==============================] - 10s 550ms/step - loss: 1.6341 - acc: 0.4367 - val_loss: 2.1369 - val_acc: 0.3450\n",
            "Epoch 9/30\n",
            "19/18 [==============================] - ETA: 0s - loss: 1.5864 - acc: 0.4650\n",
            "Epoch 9: val_loss improved from 2.13688 to 2.08275, saving model to model_deep_SGD.h5\n",
            "18/18 [==============================] - 10s 549ms/step - loss: 1.5864 - acc: 0.4650 - val_loss: 2.0828 - val_acc: 0.4650\n",
            "Epoch 10/30\n",
            "19/18 [==============================] - ETA: 0s - loss: 1.5058 - acc: 0.4917\n",
            "Epoch 10: val_loss improved from 2.08275 to 2.02398, saving model to model_deep_SGD.h5\n",
            "18/18 [==============================] - 10s 548ms/step - loss: 1.5058 - acc: 0.4917 - val_loss: 2.0240 - val_acc: 0.4700\n",
            "Epoch 11/30\n",
            "19/18 [==============================] - ETA: 0s - loss: 1.4282 - acc: 0.5117\n",
            "Epoch 11: val_loss improved from 2.02398 to 1.94900, saving model to model_deep_SGD.h5\n",
            "18/18 [==============================] - 10s 548ms/step - loss: 1.4282 - acc: 0.5117 - val_loss: 1.9490 - val_acc: 0.4700\n",
            "Epoch 12/30\n",
            "19/18 [==============================] - ETA: 0s - loss: 1.4123 - acc: 0.5433\n",
            "Epoch 12: val_loss did not improve from 1.94900\n",
            "18/18 [==============================] - 10s 543ms/step - loss: 1.4123 - acc: 0.5433 - val_loss: 1.9550 - val_acc: 0.4400\n",
            "Epoch 13/30\n",
            "19/18 [==============================] - ETA: 0s - loss: 1.2966 - acc: 0.5667\n",
            "Epoch 13: val_loss improved from 1.94900 to 1.81833, saving model to model_deep_SGD.h5\n",
            "18/18 [==============================] - 10s 554ms/step - loss: 1.2966 - acc: 0.5667 - val_loss: 1.8183 - val_acc: 0.5500\n",
            "Epoch 14/30\n",
            "19/18 [==============================] - ETA: 0s - loss: 1.3547 - acc: 0.5383\n",
            "Epoch 14: val_loss did not improve from 1.81833\n",
            "18/18 [==============================] - 10s 546ms/step - loss: 1.3547 - acc: 0.5383 - val_loss: 1.8232 - val_acc: 0.3950\n",
            "Epoch 15/30\n",
            "19/18 [==============================] - ETA: 0s - loss: 1.2272 - acc: 0.5950\n",
            "Epoch 15: val_loss improved from 1.81833 to 1.72662, saving model to model_deep_SGD.h5\n",
            "18/18 [==============================] - 10s 546ms/step - loss: 1.2272 - acc: 0.5950 - val_loss: 1.7266 - val_acc: 0.5300\n",
            "Epoch 16/30\n",
            "19/18 [==============================] - ETA: 0s - loss: 1.2136 - acc: 0.6000\n",
            "Epoch 16: val_loss improved from 1.72662 to 1.59338, saving model to model_deep_SGD.h5\n",
            "18/18 [==============================] - 10s 550ms/step - loss: 1.2136 - acc: 0.6000 - val_loss: 1.5934 - val_acc: 0.5750\n",
            "Epoch 17/30\n",
            "19/18 [==============================] - ETA: 0s - loss: 1.1530 - acc: 0.6217\n",
            "Epoch 17: val_loss improved from 1.59338 to 1.52917, saving model to model_deep_SGD.h5\n",
            "18/18 [==============================] - 10s 550ms/step - loss: 1.1530 - acc: 0.6217 - val_loss: 1.5292 - val_acc: 0.6450\n",
            "Epoch 18/30\n",
            "19/18 [==============================] - ETA: 0s - loss: 1.1351 - acc: 0.6317\n",
            "Epoch 18: val_loss improved from 1.52917 to 1.48112, saving model to model_deep_SGD.h5\n",
            "18/18 [==============================] - 10s 554ms/step - loss: 1.1351 - acc: 0.6317 - val_loss: 1.4811 - val_acc: 0.5700\n",
            "Epoch 19/30\n",
            "19/18 [==============================] - ETA: 0s - loss: 1.0924 - acc: 0.6200\n",
            "Epoch 19: val_loss improved from 1.48112 to 1.36399, saving model to model_deep_SGD.h5\n",
            "18/18 [==============================] - 10s 548ms/step - loss: 1.0924 - acc: 0.6200 - val_loss: 1.3640 - val_acc: 0.5600\n",
            "Epoch 20/30\n",
            "19/18 [==============================] - ETA: 0s - loss: 1.0655 - acc: 0.6633\n",
            "Epoch 20: val_loss did not improve from 1.36399\n",
            "18/18 [==============================] - 10s 545ms/step - loss: 1.0655 - acc: 0.6633 - val_loss: 1.3858 - val_acc: 0.6000\n",
            "Epoch 21/30\n",
            "19/18 [==============================] - ETA: 0s - loss: 1.0253 - acc: 0.6550\n",
            "Epoch 21: val_loss improved from 1.36399 to 1.22118, saving model to model_deep_SGD.h5\n",
            "18/18 [==============================] - 10s 550ms/step - loss: 1.0253 - acc: 0.6550 - val_loss: 1.2212 - val_acc: 0.6600\n",
            "Epoch 22/30\n",
            "19/18 [==============================] - ETA: 0s - loss: 0.9564 - acc: 0.6783\n",
            "Epoch 22: val_loss did not improve from 1.22118\n",
            "18/18 [==============================] - 10s 544ms/step - loss: 0.9564 - acc: 0.6783 - val_loss: 1.3305 - val_acc: 0.5250\n",
            "Epoch 23/30\n",
            "19/18 [==============================] - ETA: 0s - loss: 0.9637 - acc: 0.6933\n",
            "Epoch 23: val_loss improved from 1.22118 to 1.11255, saving model to model_deep_SGD.h5\n",
            "18/18 [==============================] - 10s 546ms/step - loss: 0.9637 - acc: 0.6933 - val_loss: 1.1125 - val_acc: 0.7100\n",
            "Epoch 24/30\n",
            "19/18 [==============================] - ETA: 0s - loss: 0.9035 - acc: 0.7100\n",
            "Epoch 24: val_loss did not improve from 1.11255\n",
            "18/18 [==============================] - 10s 545ms/step - loss: 0.9035 - acc: 0.7100 - val_loss: 1.1553 - val_acc: 0.6750\n",
            "Epoch 25/30\n",
            "19/18 [==============================] - ETA: 0s - loss: 0.9131 - acc: 0.6983\n",
            "Epoch 25: val_loss improved from 1.11255 to 1.11178, saving model to model_deep_SGD.h5\n",
            "18/18 [==============================] - 10s 548ms/step - loss: 0.9131 - acc: 0.6983 - val_loss: 1.1118 - val_acc: 0.6450\n",
            "Epoch 26/30\n",
            "19/18 [==============================] - ETA: 0s - loss: 0.8644 - acc: 0.7217\n",
            "Epoch 26: val_loss improved from 1.11178 to 1.01037, saving model to model_deep_SGD.h5\n",
            "18/18 [==============================] - 10s 543ms/step - loss: 0.8644 - acc: 0.7217 - val_loss: 1.0104 - val_acc: 0.6900\n",
            "Epoch 27/30\n",
            "19/18 [==============================] - ETA: 0s - loss: 0.8405 - acc: 0.7183\n",
            "Epoch 27: val_loss did not improve from 1.01037\n",
            "18/18 [==============================] - 10s 548ms/step - loss: 0.8405 - acc: 0.7183 - val_loss: 1.0835 - val_acc: 0.6650\n",
            "Epoch 28/30\n",
            "19/18 [==============================] - ETA: 0s - loss: 0.7775 - acc: 0.7517\n",
            "Epoch 28: val_loss improved from 1.01037 to 0.92388, saving model to model_deep_SGD.h5\n",
            "18/18 [==============================] - 10s 549ms/step - loss: 0.7775 - acc: 0.7517 - val_loss: 0.9239 - val_acc: 0.7050\n",
            "Epoch 29/30\n",
            "19/18 [==============================] - ETA: 0s - loss: 0.7845 - acc: 0.7517\n",
            "Epoch 29: val_loss did not improve from 0.92388\n",
            "18/18 [==============================] - 10s 554ms/step - loss: 0.7845 - acc: 0.7517 - val_loss: 0.9668 - val_acc: 0.6850\n",
            "Epoch 30/30\n",
            "19/18 [==============================] - ETA: 0s - loss: 0.6909 - acc: 0.7900\n",
            "Epoch 30: val_loss improved from 0.92388 to 0.85864, saving model to model_deep_SGD.h5\n",
            "18/18 [==============================] - 10s 550ms/step - loss: 0.6909 - acc: 0.7900 - val_loss: 0.8586 - val_acc: 0.7150\n"
          ]
        }
      ],
      "source": [
        "history = model_deep_SGD.fit_generator(\n",
        "train_it,\n",
        "steps_per_epoch =600/32,\n",
        "epochs=30,    \n",
        "validation_data=cv_it,\n",
        "validation_steps=200/32,\n",
        "callbacks=callbacks_list)"
      ]
    },
    {
      "cell_type": "code",
      "execution_count": null,
      "metadata": {
        "colab": {
          "base_uri": "https://localhost:8080/"
        },
        "id": "OLFb3QMpwdPT",
        "outputId": "743ba295-4905-4d77-967b-db1a53ba66f9"
      },
      "outputs": [
        {
          "name": "stdout",
          "output_type": "stream",
          "text": [
            "Epoch 1/40\n",
            "19/18 [==============================] - ETA: 0s - loss: 0.9667 - acc: 0.6950\n",
            "Epoch 1: val_loss improved from 0.97811 to 0.90653, saving model to model_image_nadam.h5\n",
            "18/18 [==============================] - 11s 574ms/step - loss: 0.9667 - acc: 0.6950 - val_loss: 0.9065 - val_acc: 0.7550\n",
            "Epoch 2/40\n",
            "19/18 [==============================] - ETA: 0s - loss: 0.9129 - acc: 0.7083\n",
            "Epoch 2: val_loss did not improve from 0.90653\n",
            "18/18 [==============================] - 10s 554ms/step - loss: 0.9129 - acc: 0.7083 - val_loss: 1.0968 - val_acc: 0.6550\n",
            "Epoch 3/40\n",
            "19/18 [==============================] - ETA: 0s - loss: 0.8421 - acc: 0.7033\n",
            "Epoch 3: val_loss did not improve from 0.90653\n",
            "18/18 [==============================] - 10s 553ms/step - loss: 0.8421 - acc: 0.7033 - val_loss: 0.9624 - val_acc: 0.7150\n",
            "Epoch 4/40\n",
            "19/18 [==============================] - ETA: 0s - loss: 0.8385 - acc: 0.7383\n",
            "Epoch 4: val_loss did not improve from 0.90653\n",
            "18/18 [==============================] - 10s 555ms/step - loss: 0.8385 - acc: 0.7383 - val_loss: 1.0549 - val_acc: 0.6650\n",
            "Epoch 5/40\n",
            "19/18 [==============================] - ETA: 0s - loss: 0.8367 - acc: 0.7167\n",
            "Epoch 5: val_loss improved from 0.90653 to 0.89142, saving model to model_image_nadam.h5\n",
            "18/18 [==============================] - 11s 567ms/step - loss: 0.8367 - acc: 0.7167 - val_loss: 0.8914 - val_acc: 0.7650\n",
            "Epoch 6/40\n",
            "19/18 [==============================] - ETA: 0s - loss: 0.8332 - acc: 0.7233\n",
            "Epoch 6: val_loss improved from 0.89142 to 0.86483, saving model to model_image_nadam.h5\n",
            "18/18 [==============================] - 11s 570ms/step - loss: 0.8332 - acc: 0.7233 - val_loss: 0.8648 - val_acc: 0.7600\n",
            "Epoch 7/40\n",
            "19/18 [==============================] - ETA: 0s - loss: 0.7667 - acc: 0.7367\n",
            "Epoch 7: val_loss did not improve from 0.86483\n",
            "18/18 [==============================] - 10s 553ms/step - loss: 0.7667 - acc: 0.7367 - val_loss: 0.8753 - val_acc: 0.7350\n",
            "Epoch 8/40\n",
            "19/18 [==============================] - ETA: 0s - loss: 0.7920 - acc: 0.7167\n",
            "Epoch 8: val_loss did not improve from 0.86483\n",
            "18/18 [==============================] - 10s 553ms/step - loss: 0.7920 - acc: 0.7167 - val_loss: 0.9334 - val_acc: 0.6950\n",
            "Epoch 9/40\n",
            "19/18 [==============================] - ETA: 0s - loss: 0.7767 - acc: 0.7250\n",
            "Epoch 9: val_loss improved from 0.86483 to 0.86057, saving model to model_image_nadam.h5\n",
            "18/18 [==============================] - 11s 563ms/step - loss: 0.7767 - acc: 0.7250 - val_loss: 0.8606 - val_acc: 0.7650\n",
            "Epoch 10/40\n",
            "19/18 [==============================] - ETA: 0s - loss: 0.7298 - acc: 0.7517\n",
            "Epoch 10: val_loss did not improve from 0.86057\n",
            "18/18 [==============================] - 10s 552ms/step - loss: 0.7298 - acc: 0.7517 - val_loss: 0.8991 - val_acc: 0.7200\n",
            "Epoch 11/40\n",
            "19/18 [==============================] - ETA: 0s - loss: 0.7822 - acc: 0.7550\n",
            "Epoch 11: val_loss improved from 0.86057 to 0.84409, saving model to model_image_nadam.h5\n",
            "18/18 [==============================] - 11s 562ms/step - loss: 0.7822 - acc: 0.7550 - val_loss: 0.8441 - val_acc: 0.7600\n",
            "Epoch 12/40\n",
            "19/18 [==============================] - ETA: 0s - loss: 0.7261 - acc: 0.7650\n",
            "Epoch 12: val_loss did not improve from 0.84409\n",
            "18/18 [==============================] - 10s 554ms/step - loss: 0.7261 - acc: 0.7650 - val_loss: 0.8480 - val_acc: 0.7550\n",
            "Epoch 13/40\n",
            "19/18 [==============================] - ETA: 0s - loss: 0.7010 - acc: 0.7683\n",
            "Epoch 13: val_loss did not improve from 0.84409\n",
            "18/18 [==============================] - 10s 545ms/step - loss: 0.7010 - acc: 0.7683 - val_loss: 0.9339 - val_acc: 0.7200\n",
            "Epoch 14/40\n",
            "19/18 [==============================] - ETA: 0s - loss: 0.6751 - acc: 0.7767\n",
            "Epoch 14: val_loss did not improve from 0.84409\n",
            "18/18 [==============================] - 10s 548ms/step - loss: 0.6751 - acc: 0.7767 - val_loss: 0.8536 - val_acc: 0.7650\n",
            "Epoch 15/40\n",
            "19/18 [==============================] - ETA: 0s - loss: 0.6571 - acc: 0.7900\n",
            "Epoch 15: val_loss improved from 0.84409 to 0.80425, saving model to model_image_nadam.h5\n",
            "18/18 [==============================] - 11s 561ms/step - loss: 0.6571 - acc: 0.7900 - val_loss: 0.8043 - val_acc: 0.8000\n",
            "Epoch 16/40\n",
            "19/18 [==============================] - ETA: 0s - loss: 0.6290 - acc: 0.7883\n",
            "Epoch 16: val_loss did not improve from 0.80425\n",
            "18/18 [==============================] - 10s 552ms/step - loss: 0.6290 - acc: 0.7883 - val_loss: 0.9873 - val_acc: 0.7350\n",
            "Epoch 17/40\n",
            "19/18 [==============================] - ETA: 0s - loss: 0.6270 - acc: 0.7950\n",
            "Epoch 17: val_loss did not improve from 0.80425\n",
            "18/18 [==============================] - 10s 550ms/step - loss: 0.6270 - acc: 0.7950 - val_loss: 0.8299 - val_acc: 0.7600\n",
            "Epoch 18/40\n",
            "19/18 [==============================] - ETA: 0s - loss: 0.6968 - acc: 0.7650\n",
            "Epoch 18: val_loss did not improve from 0.80425\n",
            "18/18 [==============================] - 10s 554ms/step - loss: 0.6968 - acc: 0.7650 - val_loss: 0.8180 - val_acc: 0.7600\n",
            "Epoch 19/40\n",
            "19/18 [==============================] - ETA: 0s - loss: 0.6444 - acc: 0.7750\n",
            "Epoch 19: val_loss did not improve from 0.80425\n",
            "18/18 [==============================] - 10s 548ms/step - loss: 0.6444 - acc: 0.7750 - val_loss: 0.8752 - val_acc: 0.7450\n",
            "Epoch 20/40\n",
            "19/18 [==============================] - ETA: 0s - loss: 0.7147 - acc: 0.7567\n",
            "Epoch 20: val_loss did not improve from 0.80425\n",
            "18/18 [==============================] - 10s 549ms/step - loss: 0.7147 - acc: 0.7567 - val_loss: 0.8644 - val_acc: 0.7900\n"
          ]
        },
        {
          "data": {
            "text/plain": [
              "<keras.callbacks.History at 0x7fdda46a1290>"
            ]
          },
          "execution_count": 55,
          "metadata": {},
          "output_type": "execute_result"
        }
      ],
      "source": [
        "model.fit_generator(\n",
        "train_it,\n",
        "steps_per_epoch =600/32,\n",
        "epochs=40,    \n",
        "validation_data=cv_it,\n",
        "validation_steps=200/32,\n",
        "callbacks=callbacks_list)"
      ]
    },
    {
      "cell_type": "code",
      "execution_count": null,
      "metadata": {
        "id": "nwCZ1n8ix8-U"
      },
      "outputs": [],
      "source": [
        "score=model.evaluate_generator(test_it,steps=200/32,workers=2, use_multiprocessing=True, verbose=0)"
      ]
    },
    {
      "cell_type": "code",
      "execution_count": null,
      "metadata": {
        "colab": {
          "base_uri": "https://localhost:8080/"
        },
        "id": "2xcMwdM6zwgT",
        "outputId": "d8d49de8-9578-4ab4-90ab-bbe4e756c2ec"
      },
      "outputs": [
        {
          "data": {
            "text/plain": [
              "73.00000190734863"
            ]
          },
          "execution_count": 57,
          "metadata": {},
          "output_type": "execute_result"
        }
      ],
      "source": [
        "score[1]*100"
      ]
    },
    {
      "cell_type": "code",
      "execution_count": null,
      "metadata": {
        "id": "oEtsgSTXzxza"
      },
      "outputs": [],
      "source": [
        "score=model_nadam_wo_dropout.evaluate_generator(test_it,steps=200/32,workers=2, use_multiprocessing=True, verbose=0)"
      ]
    },
    {
      "cell_type": "code",
      "execution_count": null,
      "metadata": {
        "colab": {
          "base_uri": "https://localhost:8080/"
        },
        "id": "HIHXyz5g1Uyo",
        "outputId": "ecaa1b89-763e-4c6d-8136-ddec7e0f4bfe"
      },
      "outputs": [
        {
          "data": {
            "text/plain": [
              "82.99999833106995"
            ]
          },
          "execution_count": 63,
          "metadata": {},
          "output_type": "execute_result"
        }
      ],
      "source": [
        "score[1]*100"
      ]
    },
    {
      "cell_type": "code",
      "execution_count": null,
      "metadata": {
        "id": "AVve-d2e1Wi0"
      },
      "outputs": [],
      "source": [
        "score=model_deep.evaluate_generator(test_it,steps=200/32,workers=2, use_multiprocessing=True, verbose=3)"
      ]
    },
    {
      "cell_type": "code",
      "execution_count": null,
      "metadata": {
        "colab": {
          "base_uri": "https://localhost:8080/"
        },
        "id": "JCrgMZAg27qM",
        "outputId": "fe43e0f1-9458-4c5f-f914-350c3c2fbad9"
      },
      "outputs": [
        {
          "data": {
            "text/plain": [
              "81.99999928474426"
            ]
          },
          "execution_count": 72,
          "metadata": {},
          "output_type": "execute_result"
        }
      ],
      "source": [
        "score[1]*100"
      ]
    },
    {
      "cell_type": "code",
      "execution_count": null,
      "metadata": {
        "id": "L1d57G2j28vp"
      },
      "outputs": [],
      "source": [
        "!cp -r '/content/model_image_nadam_without_dropout.h5' /content/gdrive/MyDrive/MLSP/"
      ]
    },
    {
      "cell_type": "code",
      "execution_count": null,
      "metadata": {
        "id": "CxASzSbC3zFz"
      },
      "outputs": [],
      "source": [
        "score=model_deep_SGD.evaluate_generator(test_it,steps=200/32,workers=2, use_multiprocessing=True, verbose=3)"
      ]
    },
    {
      "cell_type": "code",
      "execution_count": null,
      "metadata": {
        "colab": {
          "base_uri": "https://localhost:8080/"
        },
        "id": "cORjv3MO5wxP",
        "outputId": "9d96a58e-cf67-4e2a-c319-3e8ec9f15c1c"
      },
      "outputs": [
        {
          "data": {
            "text/plain": [
              "0.7599999904632568"
            ]
          },
          "execution_count": 78,
          "metadata": {},
          "output_type": "execute_result"
        }
      ],
      "source": [
        "score[1]"
      ]
    },
    {
      "cell_type": "code",
      "execution_count": null,
      "metadata": {
        "id": "PShLUIKhGflg"
      },
      "outputs": [],
      "source": []
    },
    {
      "cell_type": "code",
      "execution_count": null,
      "metadata": {
        "id": "smtLYWeD8eMr"
      },
      "outputs": [],
      "source": [
        "def get_2d_conv_model():\n",
        "    \n",
        "    nclass = 10\n",
        "    \n",
        "    inp = Input(shape=(256,256,3))\n",
        "    x = Convolution2D(16, (3,3), padding=\"same\")(inp)\n",
        "    # x = BatchNormalization()(x)\n",
        "    x = Activation(\"relu\")(x)\n",
        "    x = MaxPool2D(pool_size = (2,2))(x)\n",
        "    # x = Dropout(0.25)(x)\n",
        "    \n",
        "    x = Convolution2D(32, (3,3), padding=\"same\")(x)\n",
        "    # x = BatchNormalization()(x)\n",
        "    x = Activation(\"relu\")(x)\n",
        "    x = MaxPool2D(pool_size = (2,2))(x)\n",
        "    # x = Dropout(0.25)(x)\n",
        "\n",
        "    x = Convolution2D(64, (3,3), padding=\"same\")(x)\n",
        "    # x = BatchNormalization()(x)\n",
        "    x = Activation(\"relu\")(x)\n",
        "    x = MaxPool2D(pool_size = (2,2))(x)\n",
        "    # x = Dropout(0.25)(x)\n",
        "    \n",
        "    x = Convolution2D(64, (3,3), padding=\"same\")(x)\n",
        "    # x = BatchNormalization()(x)\n",
        "    x = Activation(\"relu\")(x)\n",
        "    # x = SpatialDropout2D(0.5)\n",
        "    x = MaxPool2D()(x)\n",
        "    \n",
        "    x = Convolution2D(64, (3,3), padding=\"same\")(x)\n",
        "    x = BatchNormalization()(x)\n",
        "    x = Activation(\"relu\")(x)\n",
        "    # x = SpatialDropout2D(0.5)\n",
        "    x = AveragePooling2D()(x)\n",
        "\n",
        "    x = Flatten()(x)\n",
        "    x = Dense(128)(x)\n",
        "    # x = BatchNormalization()(x)\n",
        "    x = Activation(\"relu\")(x)\n",
        "    # x = Dropout(0.25)(x)\n",
        "    # x = Dense(32)(x)\n",
        "    # x = BatchNormalization()(x)\n",
        "    # x = Activation(\"relu\")(x)\n",
        "    out = Dense(10, activation= softmax)(x)\n",
        "\n",
        "    model = models.Model(inputs=inp, outputs=out)\n",
        "    opt = tf.keras.optimizers.SGD(learning_rate=0.01, momentum=0.0, nesterov=False, name=\"SGD\")\n",
        "\n",
        "    model.compile(optimizer=opt, loss=losses.categorical_crossentropy, metrics=['acc'])\n",
        "    return model"
      ]
    },
    {
      "cell_type": "code",
      "execution_count": null,
      "metadata": {
        "id": "iH6UV6SI8xD-"
      },
      "outputs": [],
      "source": [
        "def get_2d_conv_model_nadam():\n",
        "    \n",
        "    nclass = 10\n",
        "    \n",
        "    inp = Input(shape=(256,256,3))\n",
        "    x = Convolution2D(16, (3,3), padding=\"same\")(inp)\n",
        "    # x = BatchNormalization()(x)\n",
        "    x = Activation(\"relu\")(x)\n",
        "    x = MaxPool2D(pool_size = (2,2))(x)\n",
        "    # x = Dropout(0.25)(x)\n",
        "    \n",
        "    x = Convolution2D(32, (3,3), padding=\"same\")(x)\n",
        "    # x = BatchNormalization()(x)\n",
        "    x = Activation(\"relu\")(x)\n",
        "    x = MaxPool2D(pool_size = (2,2))(x)\n",
        "    # x = Dropout(0.25)(x)\n",
        "\n",
        "    x = Convolution2D(64, (3,3), padding=\"same\")(x)\n",
        "    # x = BatchNormalization()(x)\n",
        "    x = Activation(\"relu\")(x)\n",
        "    x = MaxPool2D(pool_size = (2,2))(x)\n",
        "    # x = Dropout(0.25)(x)\n",
        "    \n",
        "    x = Convolution2D(64, (3,3), padding=\"same\")(x)\n",
        "    # x = BatchNormalization()(x)\n",
        "    x = Activation(\"relu\")(x)\n",
        "    # x = SpatialDropout2D(0.5)\n",
        "    x = MaxPool2D()(x)\n",
        "    \n",
        "    x = Convolution2D(64, (3,3), padding=\"same\")(x)\n",
        "    x = BatchNormalization()(x)\n",
        "    x = Activation(\"relu\")(x)\n",
        "    # x = SpatialDropout2D(0.5)\n",
        "    x = AveragePooling2D()(x)\n",
        "\n",
        "    x = Flatten()(x)\n",
        "    x = Dense(128)(x)\n",
        "    # x = BatchNormalization()(x)\n",
        "    x = Activation(\"relu\")(x)\n",
        "    # x = Dropout(0.25)(x)\n",
        "    # x = Dense(32)(x)\n",
        "    # x = BatchNormalization()(x)\n",
        "    # x = Activation(\"relu\")(x)\n",
        "    out = Dense(10, activation= softmax)(x)\n",
        "\n",
        "    model = models.Model(inputs=inp, outputs=out)\n",
        "    opt = tf.keras.optimizers.Nadam(learning_rate=0.001, beta_1=0.9, beta_2=0.999, epsilon=1e-07, name=\"Nadam\")\n",
        "\n",
        "    model.compile(optimizer=opt, loss=losses.categorical_crossentropy, metrics=['acc'])\n",
        "    return model"
      ]
    },
    {
      "cell_type": "code",
      "execution_count": null,
      "metadata": {
        "id": "VR4lQEeZ9DyG"
      },
      "outputs": [],
      "source": [
        "def get_2d_conv_nadam():\n",
        "    \n",
        "    nclass = 10\n",
        "    \n",
        "    inp = Input(shape=(256,256,3))\n",
        "    x = Convolution2D(16, (3,3), padding=\"same\")(inp)\n",
        "    # x = BatchNormalization()(x)\n",
        "    x = Activation(\"relu\")(x)\n",
        "    x = MaxPool2D(pool_size = (2,2))(x)\n",
        "    # x = Dropout(0.25)(x)\n",
        "    \n",
        "    x = Convolution2D(32, (3,3), padding=\"same\")(x)\n",
        "    # x = BatchNormalization()(x)\n",
        "    x = Activation(\"relu\")(x)\n",
        "    x = MaxPool2D(pool_size = (2,2))(x)\n",
        "    # x = Dropout(0.25)(x)\n",
        "\n",
        "    x = Convolution2D(64, (3,3), padding=\"same\")(x)\n",
        "    # x = BatchNormalization()(x)\n",
        "    x = Activation(\"relu\")(x)\n",
        "    x = MaxPool2D(pool_size = (2,2))(x)\n",
        "    # x = Dropout(0.25)(x)\n",
        "    \n",
        "    # x = Convolution2D(64, (3,3), padding=\"same\")(x)\n",
        "    # # x = BatchNormalization()(x)\n",
        "    # x = Activation(\"relu\")(x)\n",
        "    # # x = SpatialDropout2D(0.5)\n",
        "    # x = MaxPool2D()(x)\n",
        "    \n",
        "    # x = Convolution2D(64, (3,3), padding=\"same\")(x)\n",
        "    # x = BatchNormalization()(x)\n",
        "    # x = Activation(\"relu\")(x)\n",
        "    # # x = SpatialDropout2D(0.5)\n",
        "    # x = AveragePooling2D()(x)\n",
        "\n",
        "    x = Flatten()(x)\n",
        "    x = Dense(128)(x)\n",
        "    # x = BatchNormalization()(x)\n",
        "    x = Activation(\"relu\")(x)\n",
        "    # x = Dropout(0.25)(x)\n",
        "    # x = Dense(32)(x)\n",
        "    # x = BatchNormalization()(x)\n",
        "    # x = Activation(\"relu\")(x)\n",
        "    out = Dense(10, activation= softmax)(x)\n",
        "\n",
        "    model = models.Model(inputs=inp, outputs=out)\n",
        "    opt = tf.keras.optimizers.Nadam(learning_rate=0.001, beta_1=0.9, beta_2=0.999, epsilon=1e-07, name=\"Nadam\")\n",
        "\n",
        "    model.compile(optimizer=opt, loss=losses.categorical_crossentropy, metrics=['acc'])\n",
        "    return model"
      ]
    },
    {
      "cell_type": "code",
      "execution_count": null,
      "metadata": {
        "id": "EjIMKgXG5xrc"
      },
      "outputs": [],
      "source": [
        "# Nadam_model = '/content/model_image_nadam.h5'\n",
        "model_image_nadam_without_dropout = '/content/model_image_nadam_without_dropout.h5'\n",
        "SGD_deep = '/content/model_deep_SGD.h5'\n",
        "\n",
        "# Nadam = get_2d_conv_nadam()\n",
        "deep_nadam = get_2d_conv_model_nadam()\n",
        "deep_sgd = get_2d_conv_model()\n",
        "\n",
        "# Nadam.load_weights(Nadam_model)\n",
        "deep_nadam.load_weights(model_image_nadam_without_dropout)\n",
        "deep_sgd.load_weights(SGD_deep)\n",
        "\n",
        "models = [deep_nadam, deep_sgd]"
      ]
    },
    {
      "cell_type": "code",
      "execution_count": null,
      "metadata": {
        "id": "e9wtEjM8-HFx"
      },
      "outputs": [],
      "source": [
        "from keras.callbacks import History\n",
        "from keras.callbacks import ModelCheckpoint, TensorBoard\n",
        "from keras.datasets import cifar10\n",
        "from keras.engine import training\n",
        "from keras.layers import Conv2D, MaxPooling2D, GlobalAveragePooling2D, Dropout, Activation, Average\n",
        "from keras.losses import categorical_crossentropy\n",
        "from keras.models import Model, Input\n",
        "# from keras.optimizers import Adam\n",
        "# from keras.utils import to_categorical\n",
        "from tensorflow.python.framework.ops import Tensor\n",
        "from typing import Tuple, List\n",
        "import glob\n",
        "import numpy as np\n",
        "import os"
      ]
    },
    {
      "cell_type": "code",
      "execution_count": null,
      "metadata": {
        "colab": {
          "base_uri": "https://localhost:8080/"
        },
        "id": "Wh3Y4EHL_czr",
        "outputId": "e8ddc903-f93f-434e-97df-74aad410a4b1"
      },
      "outputs": [
        {
          "data": {
            "text/plain": [
              "[<keras.engine.functional.Functional at 0x7fdd7fcbf850>,\n",
              " <keras.engine.functional.Functional at 0x7fdd7fd07250>]"
            ]
          },
          "execution_count": 104,
          "metadata": {},
          "output_type": "execute_result"
        }
      ],
      "source": [
        "models"
      ]
    },
    {
      "cell_type": "markdown",
      "source": [
        "#Model 4: Normal Neural Network"
      ],
      "metadata": {
        "id": "zq3jjIGJQF3N"
      }
    },
    {
      "cell_type": "code",
      "source": [
        "from keras.models import  Sequential\n",
        "from keras.layers.core import  Lambda , Dense, Flatten, Dropout\n",
        "from keras.callbacks import EarlyStopping\n",
        "from keras.layers import BatchNormalization, Convolution2D , MaxPooling2D"
      ],
      "metadata": {
        "id": "mrrMBKBdkyfM"
      },
      "execution_count": 11,
      "outputs": []
    },
    {
      "cell_type": "code",
      "source": [
        "mean_px = X_train.mean().astype(np.float32)\n",
        "std_px = X_train.std().astype(np.float32)\n",
        "\n",
        "def standardize(x): \n",
        "    return (x-mean_px)/std_px"
      ],
      "metadata": {
        "id": "wGYq8mXXk0qq"
      },
      "execution_count": 12,
      "outputs": []
    },
    {
      "cell_type": "code",
      "source": [
        "model= Sequential()\n",
        "model.add(Lambda(standardize,input_shape=(128,2500,1)))\n",
        "model.add(Flatten())\n",
        "\n",
        "# model.add(Dense(256, activation='relu'))\n",
        "# model.add(BatchNormalization())\n",
        "# model.add(Dropout(0.25))\n",
        "# model.add(Dense(128, activation='relu'))\n",
        "# model.add(BatchNormalization())\n",
        "# model.add(Dropout(0.25))\n",
        "model.add(Dense(64, activation='relu'))\n",
        "model.add(BatchNormalization())\n",
        "model.add(Dropout(0.25))\n",
        "model.add(Dense(32, activation='relu'))\n",
        "model.add(BatchNormalization())\n",
        "model.add(Dropout(0.25))\n",
        "# model.add(Dense(64, activation='relu'))\n",
        "\n",
        "model.add(Dense(10, activation='softmax'))\n",
        "print(\"input shape \",model.input_shape)\n",
        "print(\"output shape \",model.output_shape)"
      ],
      "metadata": {
        "colab": {
          "base_uri": "https://localhost:8080/"
        },
        "id": "nTzKY8X-k1h9",
        "outputId": "0647bd78-23d2-487e-bfde-5bf1916fafa3"
      },
      "execution_count": 13,
      "outputs": [
        {
          "output_type": "stream",
          "name": "stdout",
          "text": [
            "input shape  (None, 128, 2500, 1)\n",
            "output shape  (None, 10)\n"
          ]
        }
      ]
    },
    {
      "cell_type": "code",
      "source": [
        "from tensorflow.keras.optimizers import RMSprop, Adam, Nadam\n",
        "model.compile(optimizer = Nadam(lr=0.001),\n",
        " loss='categorical_crossentropy',\n",
        " metrics=['accuracy'])"
      ],
      "metadata": {
        "id": "iifxwh5gk2m9"
      },
      "execution_count": 14,
      "outputs": []
    },
    {
      "cell_type": "code",
      "source": [
        "from keras.preprocessing import image\n",
        "gen = image.ImageDataGenerator()"
      ],
      "metadata": {
        "id": "qOY8xVSxk33G"
      },
      "execution_count": 15,
      "outputs": []
    },
    {
      "cell_type": "code",
      "source": [
        "from sklearn.model_selection import train_test_split\n",
        "X = X_train\n",
        "y = Y_train\n",
        "x_train, x_val, y_train, y_val = train_test_split(X_train, Y_train, test_size=0.10, random_state=42)\n",
        "# batches = gen.flow(X_train, y_train, batch_size=32)\n",
        "# val_batches=gen.flow(X_val, y_val, batch_size=32)"
      ],
      "metadata": {
        "id": "8B4R2rEPk47D"
      },
      "execution_count": 16,
      "outputs": []
    },
    {
      "cell_type": "code",
      "source": [
        "from keras.callbacks import (EarlyStopping, LearningRateScheduler,\n",
        "                             ModelCheckpoint, TensorBoard, ReduceLROnPlateau)"
      ],
      "metadata": {
        "id": "rvE2E3kFk5w5"
      },
      "execution_count": 17,
      "outputs": []
    },
    {
      "cell_type": "code",
      "source": [
        "import tensorflow as tf"
      ],
      "metadata": {
        "id": "-jJkxUYwk6x3"
      },
      "execution_count": 18,
      "outputs": []
    },
    {
      "cell_type": "code",
      "source": [
        "def scheduler(epoch, lr):\n",
        "  if epoch < 10:\n",
        "    return lr\n",
        "  else:\n",
        "    return lr * tf.math.exp(-0.1)\n",
        "lrsche = LearningRateScheduler(scheduler)"
      ],
      "metadata": {
        "id": "yyGaqs2Bk7sf"
      },
      "execution_count": 19,
      "outputs": []
    },
    {
      "cell_type": "code",
      "source": [
        "checkpoint = ModelCheckpoint('dnn_model.h5', monitor='val_loss', verbose=1, save_best_only=True)\n",
        "\n",
        "callbacks_list = [checkpoint, lrsche]\n",
        "history = model.fit(x_train, y_train, validation_data=(x_val, y_val), callbacks=callbacks_list, \n",
        "                        batch_size=32, epochs=40)"
      ],
      "metadata": {
        "colab": {
          "base_uri": "https://localhost:8080/"
        },
        "id": "6dQV75oHk8fk",
        "outputId": "3ed114f2-898e-467f-93ae-e80226776c16"
      },
      "execution_count": 20,
      "outputs": [
        {
          "output_type": "stream",
          "name": "stdout",
          "text": [
            "Epoch 1/40\n",
            "29/29 [==============================] - ETA: 0s - loss: 2.4649 - accuracy: 0.2133\n",
            "Epoch 1: val_loss improved from inf to 6.55205, saving model to dnn_model.h5\n",
            "29/29 [==============================] - 14s 413ms/step - loss: 2.4649 - accuracy: 0.2133 - val_loss: 6.5521 - val_accuracy: 0.1300 - lr: 0.0010\n",
            "Epoch 2/40\n",
            "29/29 [==============================] - ETA: 0s - loss: 1.9687 - accuracy: 0.3433\n",
            "Epoch 2: val_loss improved from 6.55205 to 3.21094, saving model to dnn_model.h5\n",
            "29/29 [==============================] - 11s 384ms/step - loss: 1.9687 - accuracy: 0.3433 - val_loss: 3.2109 - val_accuracy: 0.1300 - lr: 0.0010\n",
            "Epoch 3/40\n",
            "29/29 [==============================] - ETA: 0s - loss: 1.7743 - accuracy: 0.4244\n",
            "Epoch 3: val_loss improved from 3.21094 to 2.12424, saving model to dnn_model.h5\n",
            "29/29 [==============================] - 12s 409ms/step - loss: 1.7743 - accuracy: 0.4244 - val_loss: 2.1242 - val_accuracy: 0.2900 - lr: 0.0010\n",
            "Epoch 4/40\n",
            "29/29 [==============================] - ETA: 0s - loss: 1.5326 - accuracy: 0.5089\n",
            "Epoch 4: val_loss improved from 2.12424 to 1.80396, saving model to dnn_model.h5\n",
            "29/29 [==============================] - 11s 391ms/step - loss: 1.5326 - accuracy: 0.5089 - val_loss: 1.8040 - val_accuracy: 0.3700 - lr: 0.0010\n",
            "Epoch 5/40\n",
            "29/29 [==============================] - ETA: 0s - loss: 1.4518 - accuracy: 0.5222\n",
            "Epoch 5: val_loss improved from 1.80396 to 1.66698, saving model to dnn_model.h5\n",
            "29/29 [==============================] - 12s 404ms/step - loss: 1.4518 - accuracy: 0.5222 - val_loss: 1.6670 - val_accuracy: 0.4600 - lr: 0.0010\n",
            "Epoch 6/40\n",
            "29/29 [==============================] - ETA: 0s - loss: 1.3418 - accuracy: 0.5578\n",
            "Epoch 6: val_loss did not improve from 1.66698\n",
            "29/29 [==============================] - 11s 378ms/step - loss: 1.3418 - accuracy: 0.5578 - val_loss: 1.6891 - val_accuracy: 0.4700 - lr: 0.0010\n",
            "Epoch 7/40\n",
            "29/29 [==============================] - ETA: 0s - loss: 1.3767 - accuracy: 0.5789\n",
            "Epoch 7: val_loss did not improve from 1.66698\n",
            "29/29 [==============================] - 11s 385ms/step - loss: 1.3767 - accuracy: 0.5789 - val_loss: 1.7149 - val_accuracy: 0.3900 - lr: 0.0010\n",
            "Epoch 8/40\n",
            "29/29 [==============================] - ETA: 0s - loss: 1.2621 - accuracy: 0.5911\n",
            "Epoch 8: val_loss did not improve from 1.66698\n",
            "29/29 [==============================] - 11s 378ms/step - loss: 1.2621 - accuracy: 0.5911 - val_loss: 1.9871 - val_accuracy: 0.3000 - lr: 0.0010\n",
            "Epoch 9/40\n",
            "29/29 [==============================] - ETA: 0s - loss: 1.2032 - accuracy: 0.6244\n",
            "Epoch 9: val_loss did not improve from 1.66698\n",
            "29/29 [==============================] - 13s 451ms/step - loss: 1.2032 - accuracy: 0.6244 - val_loss: 1.7435 - val_accuracy: 0.5000 - lr: 0.0010\n",
            "Epoch 10/40\n",
            "29/29 [==============================] - ETA: 0s - loss: 1.1300 - accuracy: 0.6456\n",
            "Epoch 10: val_loss did not improve from 1.66698\n",
            "29/29 [==============================] - 11s 364ms/step - loss: 1.1300 - accuracy: 0.6456 - val_loss: 1.7491 - val_accuracy: 0.4700 - lr: 0.0010\n",
            "Epoch 11/40\n",
            "29/29 [==============================] - ETA: 0s - loss: 1.0713 - accuracy: 0.6644\n",
            "Epoch 11: val_loss did not improve from 1.66698\n",
            "29/29 [==============================] - 11s 366ms/step - loss: 1.0713 - accuracy: 0.6644 - val_loss: 1.9043 - val_accuracy: 0.3800 - lr: 9.0484e-04\n",
            "Epoch 12/40\n",
            "29/29 [==============================] - ETA: 0s - loss: 1.0210 - accuracy: 0.6922\n",
            "Epoch 12: val_loss improved from 1.66698 to 1.60014, saving model to dnn_model.h5\n",
            "29/29 [==============================] - 10s 358ms/step - loss: 1.0210 - accuracy: 0.6922 - val_loss: 1.6001 - val_accuracy: 0.4600 - lr: 8.1873e-04\n",
            "Epoch 13/40\n",
            "29/29 [==============================] - ETA: 0s - loss: 0.9621 - accuracy: 0.7089\n",
            "Epoch 13: val_loss improved from 1.60014 to 1.44323, saving model to dnn_model.h5\n",
            "29/29 [==============================] - 12s 416ms/step - loss: 0.9621 - accuracy: 0.7089 - val_loss: 1.4432 - val_accuracy: 0.5800 - lr: 7.4082e-04\n",
            "Epoch 14/40\n",
            "29/29 [==============================] - ETA: 0s - loss: 0.9121 - accuracy: 0.7256\n",
            "Epoch 14: val_loss did not improve from 1.44323\n",
            "29/29 [==============================] - 10s 342ms/step - loss: 0.9121 - accuracy: 0.7256 - val_loss: 1.5641 - val_accuracy: 0.5100 - lr: 6.7032e-04\n",
            "Epoch 15/40\n",
            "29/29 [==============================] - ETA: 0s - loss: 0.9270 - accuracy: 0.7178\n",
            "Epoch 15: val_loss improved from 1.44323 to 1.37775, saving model to dnn_model.h5\n",
            "29/29 [==============================] - 12s 403ms/step - loss: 0.9270 - accuracy: 0.7178 - val_loss: 1.3777 - val_accuracy: 0.6100 - lr: 6.0653e-04\n",
            "Epoch 16/40\n",
            "29/29 [==============================] - ETA: 0s - loss: 0.8009 - accuracy: 0.7633\n",
            "Epoch 16: val_loss did not improve from 1.37775\n",
            "29/29 [==============================] - 11s 374ms/step - loss: 0.8009 - accuracy: 0.7633 - val_loss: 1.4208 - val_accuracy: 0.5100 - lr: 5.4881e-04\n",
            "Epoch 17/40\n",
            "29/29 [==============================] - ETA: 0s - loss: 0.7318 - accuracy: 0.7867\n",
            "Epoch 17: val_loss did not improve from 1.37775\n",
            "29/29 [==============================] - 10s 334ms/step - loss: 0.7318 - accuracy: 0.7867 - val_loss: 1.4154 - val_accuracy: 0.5500 - lr: 4.9659e-04\n",
            "Epoch 18/40\n",
            "29/29 [==============================] - ETA: 0s - loss: 0.7530 - accuracy: 0.7789\n",
            "Epoch 18: val_loss improved from 1.37775 to 1.36299, saving model to dnn_model.h5\n",
            "29/29 [==============================] - 12s 422ms/step - loss: 0.7530 - accuracy: 0.7789 - val_loss: 1.3630 - val_accuracy: 0.6300 - lr: 4.4933e-04\n",
            "Epoch 19/40\n",
            "29/29 [==============================] - ETA: 0s - loss: 0.7355 - accuracy: 0.7856\n",
            "Epoch 19: val_loss did not improve from 1.36299\n",
            "29/29 [==============================] - 10s 357ms/step - loss: 0.7355 - accuracy: 0.7856 - val_loss: 1.4125 - val_accuracy: 0.5600 - lr: 4.0657e-04\n",
            "Epoch 20/40\n",
            "29/29 [==============================] - ETA: 0s - loss: 0.6846 - accuracy: 0.8022\n",
            "Epoch 20: val_loss improved from 1.36299 to 1.31177, saving model to dnn_model.h5\n",
            "29/29 [==============================] - 11s 379ms/step - loss: 0.6846 - accuracy: 0.8022 - val_loss: 1.3118 - val_accuracy: 0.5700 - lr: 3.6788e-04\n",
            "Epoch 21/40\n",
            "29/29 [==============================] - ETA: 0s - loss: 0.6828 - accuracy: 0.8022\n",
            "Epoch 21: val_loss improved from 1.31177 to 1.22547, saving model to dnn_model.h5\n",
            "29/29 [==============================] - 11s 378ms/step - loss: 0.6828 - accuracy: 0.8022 - val_loss: 1.2255 - val_accuracy: 0.6100 - lr: 3.3287e-04\n",
            "Epoch 22/40\n",
            "29/29 [==============================] - ETA: 0s - loss: 0.6395 - accuracy: 0.8233\n",
            "Epoch 22: val_loss did not improve from 1.22547\n",
            "29/29 [==============================] - 10s 354ms/step - loss: 0.6395 - accuracy: 0.8233 - val_loss: 1.3318 - val_accuracy: 0.5700 - lr: 3.0119e-04\n",
            "Epoch 23/40\n",
            "29/29 [==============================] - ETA: 0s - loss: 0.5911 - accuracy: 0.8367\n",
            "Epoch 23: val_loss improved from 1.22547 to 1.17077, saving model to dnn_model.h5\n",
            "29/29 [==============================] - 12s 401ms/step - loss: 0.5911 - accuracy: 0.8367 - val_loss: 1.1708 - val_accuracy: 0.6800 - lr: 2.7253e-04\n",
            "Epoch 24/40\n",
            "29/29 [==============================] - ETA: 0s - loss: 0.6099 - accuracy: 0.8289\n",
            "Epoch 24: val_loss improved from 1.17077 to 1.11827, saving model to dnn_model.h5\n",
            "29/29 [==============================] - 13s 456ms/step - loss: 0.6099 - accuracy: 0.8289 - val_loss: 1.1183 - val_accuracy: 0.6600 - lr: 2.4660e-04\n",
            "Epoch 25/40\n",
            "29/29 [==============================] - ETA: 0s - loss: 0.5682 - accuracy: 0.8411\n",
            "Epoch 25: val_loss did not improve from 1.11827\n",
            "29/29 [==============================] - 12s 405ms/step - loss: 0.5682 - accuracy: 0.8411 - val_loss: 1.1674 - val_accuracy: 0.6400 - lr: 2.2313e-04\n",
            "Epoch 26/40\n",
            "29/29 [==============================] - ETA: 0s - loss: 0.5843 - accuracy: 0.8222\n",
            "Epoch 26: val_loss improved from 1.11827 to 1.08105, saving model to dnn_model.h5\n",
            "29/29 [==============================] - 12s 414ms/step - loss: 0.5843 - accuracy: 0.8222 - val_loss: 1.0810 - val_accuracy: 0.7100 - lr: 2.0190e-04\n",
            "Epoch 27/40\n",
            "29/29 [==============================] - ETA: 0s - loss: 0.5236 - accuracy: 0.8533\n",
            "Epoch 27: val_loss did not improve from 1.08105\n",
            "29/29 [==============================] - 11s 388ms/step - loss: 0.5236 - accuracy: 0.8533 - val_loss: 1.1651 - val_accuracy: 0.6800 - lr: 1.8268e-04\n",
            "Epoch 28/40\n",
            "29/29 [==============================] - ETA: 0s - loss: 0.5279 - accuracy: 0.8600\n",
            "Epoch 28: val_loss did not improve from 1.08105\n",
            "29/29 [==============================] - 12s 398ms/step - loss: 0.5279 - accuracy: 0.8600 - val_loss: 1.2083 - val_accuracy: 0.6300 - lr: 1.6530e-04\n",
            "Epoch 29/40\n",
            "29/29 [==============================] - ETA: 0s - loss: 0.5375 - accuracy: 0.8533\n",
            "Epoch 29: val_loss did not improve from 1.08105\n",
            "29/29 [==============================] - 10s 352ms/step - loss: 0.5375 - accuracy: 0.8533 - val_loss: 1.3565 - val_accuracy: 0.5400 - lr: 1.4957e-04\n",
            "Epoch 30/40\n",
            "29/29 [==============================] - ETA: 0s - loss: 0.5236 - accuracy: 0.8467\n",
            "Epoch 30: val_loss did not improve from 1.08105\n",
            "29/29 [==============================] - 15s 542ms/step - loss: 0.5236 - accuracy: 0.8467 - val_loss: 1.1948 - val_accuracy: 0.6700 - lr: 1.3534e-04\n",
            "Epoch 31/40\n",
            "29/29 [==============================] - ETA: 0s - loss: 0.5101 - accuracy: 0.8644\n",
            "Epoch 31: val_loss did not improve from 1.08105\n",
            "29/29 [==============================] - 18s 617ms/step - loss: 0.5101 - accuracy: 0.8644 - val_loss: 1.1249 - val_accuracy: 0.6500 - lr: 1.2246e-04\n",
            "Epoch 32/40\n",
            "29/29 [==============================] - ETA: 0s - loss: 0.4716 - accuracy: 0.8711\n",
            "Epoch 32: val_loss improved from 1.08105 to 1.03664, saving model to dnn_model.h5\n",
            "29/29 [==============================] - 10s 348ms/step - loss: 0.4716 - accuracy: 0.8711 - val_loss: 1.0366 - val_accuracy: 0.6900 - lr: 1.1080e-04\n",
            "Epoch 33/40\n",
            "29/29 [==============================] - ETA: 0s - loss: 0.5046 - accuracy: 0.8522\n",
            "Epoch 33: val_loss did not improve from 1.03664\n",
            "29/29 [==============================] - 11s 385ms/step - loss: 0.5046 - accuracy: 0.8522 - val_loss: 1.0674 - val_accuracy: 0.6700 - lr: 1.0026e-04\n",
            "Epoch 34/40\n",
            "29/29 [==============================] - ETA: 0s - loss: 0.4714 - accuracy: 0.8811\n",
            "Epoch 34: val_loss did not improve from 1.03664\n",
            "29/29 [==============================] - 11s 384ms/step - loss: 0.4714 - accuracy: 0.8811 - val_loss: 1.0906 - val_accuracy: 0.6500 - lr: 9.0718e-05\n",
            "Epoch 35/40\n",
            "29/29 [==============================] - ETA: 0s - loss: 0.4593 - accuracy: 0.8778\n",
            "Epoch 35: val_loss did not improve from 1.03664\n",
            "29/29 [==============================] - 10s 340ms/step - loss: 0.4593 - accuracy: 0.8778 - val_loss: 1.0671 - val_accuracy: 0.6700 - lr: 8.2085e-05\n",
            "Epoch 36/40\n",
            "29/29 [==============================] - ETA: 0s - loss: 0.4423 - accuracy: 0.8833\n",
            "Epoch 36: val_loss did not improve from 1.03664\n",
            "29/29 [==============================] - 12s 408ms/step - loss: 0.4423 - accuracy: 0.8833 - val_loss: 1.0880 - val_accuracy: 0.6600 - lr: 7.4274e-05\n",
            "Epoch 37/40\n",
            "29/29 [==============================] - ETA: 0s - loss: 0.4450 - accuracy: 0.8867\n",
            "Epoch 37: val_loss did not improve from 1.03664\n",
            "29/29 [==============================] - 10s 354ms/step - loss: 0.4450 - accuracy: 0.8867 - val_loss: 1.1098 - val_accuracy: 0.6400 - lr: 6.7206e-05\n",
            "Epoch 38/40\n",
            "29/29 [==============================] - ETA: 0s - loss: 0.4331 - accuracy: 0.8878\n",
            "Epoch 38: val_loss did not improve from 1.03664\n",
            "29/29 [==============================] - 17s 587ms/step - loss: 0.4331 - accuracy: 0.8878 - val_loss: 1.0611 - val_accuracy: 0.6700 - lr: 6.0810e-05\n",
            "Epoch 39/40\n",
            "29/29 [==============================] - ETA: 0s - loss: 0.4101 - accuracy: 0.9011\n",
            "Epoch 39: val_loss did not improve from 1.03664\n",
            "29/29 [==============================] - 16s 531ms/step - loss: 0.4101 - accuracy: 0.9011 - val_loss: 1.0743 - val_accuracy: 0.6700 - lr: 5.5023e-05\n",
            "Epoch 40/40\n",
            "29/29 [==============================] - ETA: 0s - loss: 0.3889 - accuracy: 0.9056\n",
            "Epoch 40: val_loss did not improve from 1.03664\n",
            "29/29 [==============================] - 12s 404ms/step - loss: 0.3889 - accuracy: 0.9056 - val_loss: 1.0434 - val_accuracy: 0.6800 - lr: 4.9787e-05\n"
          ]
        }
      ]
    },
    {
      "cell_type": "code",
      "source": [
        "def step_decay(epoch):\n",
        "\tinitial_lrate = 0.001\n",
        "\tmax_iter=50\n",
        "\tlrate = initial_lrate*(1-epoch/max_iter)**0.5\n",
        "\treturn lrate\n",
        "lrsche = LearningRateScheduler(scheduler)"
      ],
      "metadata": {
        "id": "VTCB1zfglAFK"
      },
      "execution_count": 21,
      "outputs": []
    },
    {
      "cell_type": "markdown",
      "source": [
        "#Test Prediction"
      ],
      "metadata": {
        "id": "8djaEyx9QLzr"
      }
    },
    {
      "cell_type": "code",
      "source": [
        "import tensorflow"
      ],
      "metadata": {
        "id": "nYPZzuyLGhn3"
      },
      "execution_count": 51,
      "outputs": []
    },
    {
      "cell_type": "code",
      "source": [
        "path=\"/content/images\"\n",
        "test_df=pd.DataFrame()\n",
        "test_df['id']=os.listdir(path)\n",
        "test_generator=ImageDataGenerator(rescale=1./255.).flow_from_dataframe(\n",
        "                    dataframe=test_df,\n",
        "                    directory=path,\n",
        "                    x_col=\"id\",\n",
        "                    y_col=None,\n",
        "                    has_ext=True,\n",
        "                    class_mode=None,\n",
        "                    batch_size=32,\n",
        "                    seed=42,\n",
        "                    shuffle=False,\n",
        "                    interpolation='nearest',\n",
        "                    target_size=(256,256))\n",
        "m = tensorflow.keras.models.load_model('/content/gdrive/MyDrive/MLSP/model_image_nadam_without_dropout.h5')\n",
        "y_pred = m.predict(test_generator)\n",
        "y_pred = np.argmax(y_pred, axis=1)\n",
        "labels = (train_it.class_indices)\n",
        "labels = dict((v,k) for k,v in labels.items())\n",
        "y_pred = [labels[k] for k in y_pred]\n",
        "submission_df = pd.DataFrame({\n",
        "            'id':test_generator.filenames,\n",
        "            'label':y_pred })\n",
        "submission_df['id'] = submission_df['id'].apply(lambda x: x.split('.')[0])\n",
        "submission_df.to_csv('p_resultf.csv', index=False)"
      ],
      "metadata": {
        "colab": {
          "base_uri": "https://localhost:8080/"
        },
        "id": "Rd3rZYdX9kpQ",
        "outputId": "85e7b50b-5247-423c-8b6c-b2ef1f8b8046"
      },
      "execution_count": 79,
      "outputs": [
        {
          "output_type": "stream",
          "name": "stderr",
          "text": [
            "--- Logging error ---\n",
            "Traceback (most recent call last):\n",
            "  File \"/usr/lib/python3.7/logging/__init__.py\", line 1025, in emit\n",
            "    msg = self.format(record)\n",
            "  File \"/usr/lib/python3.7/logging/__init__.py\", line 869, in format\n",
            "    return fmt.format(record)\n",
            "  File \"/usr/lib/python3.7/logging/__init__.py\", line 608, in format\n",
            "    record.message = record.getMessage()\n",
            "  File \"/usr/lib/python3.7/logging/__init__.py\", line 369, in getMessage\n",
            "    msg = msg % self.args\n",
            "TypeError: not all arguments converted during string formatting\n",
            "Call stack:\n",
            "  File \"/usr/lib/python3.7/runpy.py\", line 193, in _run_module_as_main\n",
            "    \"__main__\", mod_spec)\n",
            "  File \"/usr/lib/python3.7/runpy.py\", line 85, in _run_code\n",
            "    exec(code, run_globals)\n",
            "  File \"/usr/local/lib/python3.7/dist-packages/ipykernel_launcher.py\", line 16, in <module>\n",
            "    app.launch_new_instance()\n",
            "  File \"/usr/local/lib/python3.7/dist-packages/traitlets/config/application.py\", line 846, in launch_instance\n",
            "    app.start()\n",
            "  File \"/usr/local/lib/python3.7/dist-packages/ipykernel/kernelapp.py\", line 612, in start\n",
            "    self.io_loop.start()\n",
            "  File \"/usr/local/lib/python3.7/dist-packages/tornado/platform/asyncio.py\", line 132, in start\n",
            "    self.asyncio_loop.run_forever()\n",
            "  File \"/usr/lib/python3.7/asyncio/base_events.py\", line 541, in run_forever\n",
            "    self._run_once()\n",
            "  File \"/usr/lib/python3.7/asyncio/base_events.py\", line 1786, in _run_once\n",
            "    handle._run()\n",
            "  File \"/usr/lib/python3.7/asyncio/events.py\", line 88, in _run\n",
            "    self._context.run(self._callback, *self._args)\n",
            "  File \"/usr/local/lib/python3.7/dist-packages/tornado/ioloop.py\", line 758, in _run_callback\n",
            "    ret = callback()\n",
            "  File \"/usr/local/lib/python3.7/dist-packages/tornado/stack_context.py\", line 300, in null_wrapper\n",
            "    return fn(*args, **kwargs)\n",
            "  File \"/usr/local/lib/python3.7/dist-packages/tornado/gen.py\", line 1233, in inner\n",
            "    self.run()\n",
            "  File \"/usr/local/lib/python3.7/dist-packages/tornado/gen.py\", line 1147, in run\n",
            "    yielded = self.gen.send(value)\n",
            "  File \"/usr/local/lib/python3.7/dist-packages/ipykernel/kernelbase.py\", line 365, in process_one\n",
            "    yield gen.maybe_future(dispatch(*args))\n",
            "  File \"/usr/local/lib/python3.7/dist-packages/tornado/gen.py\", line 326, in wrapper\n",
            "    yielded = next(result)\n",
            "  File \"/usr/local/lib/python3.7/dist-packages/ipykernel/kernelbase.py\", line 268, in dispatch_shell\n",
            "    yield gen.maybe_future(handler(stream, idents, msg))\n",
            "  File \"/usr/local/lib/python3.7/dist-packages/tornado/gen.py\", line 326, in wrapper\n",
            "    yielded = next(result)\n",
            "  File \"/usr/local/lib/python3.7/dist-packages/ipykernel/kernelbase.py\", line 545, in execute_request\n",
            "    user_expressions, allow_stdin,\n",
            "  File \"/usr/local/lib/python3.7/dist-packages/tornado/gen.py\", line 326, in wrapper\n",
            "    yielded = next(result)\n",
            "  File \"/usr/local/lib/python3.7/dist-packages/ipykernel/ipkernel.py\", line 306, in do_execute\n",
            "    res = shell.run_cell(code, store_history=store_history, silent=silent)\n",
            "  File \"/usr/local/lib/python3.7/dist-packages/ipykernel/zmqshell.py\", line 536, in run_cell\n",
            "    return super(ZMQInteractiveShell, self).run_cell(*args, **kwargs)\n",
            "  File \"/usr/local/lib/python3.7/dist-packages/IPython/core/interactiveshell.py\", line 2855, in run_cell\n",
            "    raw_cell, store_history, silent, shell_futures)\n",
            "  File \"/usr/local/lib/python3.7/dist-packages/IPython/core/interactiveshell.py\", line 2881, in _run_cell\n",
            "    return runner(coro)\n",
            "  File \"/usr/local/lib/python3.7/dist-packages/IPython/core/async_helpers.py\", line 68, in _pseudo_sync_runner\n",
            "    coro.send(None)\n",
            "  File \"/usr/local/lib/python3.7/dist-packages/IPython/core/interactiveshell.py\", line 3058, in run_cell_async\n",
            "    interactivity=interactivity, compiler=compiler, result=result)\n",
            "  File \"/usr/local/lib/python3.7/dist-packages/IPython/core/interactiveshell.py\", line 3249, in run_ast_nodes\n",
            "    if (await self.run_code(code, result,  async_=asy)):\n",
            "  File \"/usr/local/lib/python3.7/dist-packages/IPython/core/interactiveshell.py\", line 3326, in run_code\n",
            "    exec(code_obj, self.user_global_ns, self.user_ns)\n",
            "  File \"<ipython-input-79-657e69bef760>\", line 15, in <module>\n",
            "    target_size=(256,256))\n",
            "  File \"/usr/local/lib/python3.7/dist-packages/keras/preprocessing/image.py\", line 1100, in flow_from_dataframe\n",
            "    'to match the exact filenames in disk.', DeprecationWarning)\n",
            "  File \"/usr/local/lib/python3.7/dist-packages/tensorflow/python/platform/tf_logging.py\", line 174, in warning\n",
            "    get_logger().warning(msg, *args, **kwargs)\n",
            "Message: 'has_ext is deprecated, filenames in the dataframe have to match the exact filenames in disk.'\n",
            "Arguments: (<class 'DeprecationWarning'>,)\n"
          ]
        },
        {
          "output_type": "stream",
          "name": "stdout",
          "text": [
            "Found 201 validated image filenames.\n"
          ]
        }
      ]
    },
    {
      "cell_type": "code",
      "source": [
        "key_list = list(class1.keys())\n",
        "val_list = list(class1.values())\n",
        "# position = [val_list.index(p) for p in values]\n",
        "# key=[key_list[p] for p in position]"
      ],
      "metadata": {
        "id": "1CyzE2nDGf-V"
      },
      "execution_count": 80,
      "outputs": []
    },
    {
      "cell_type": "code",
      "source": [
        "values = [key_list.index(p) for p in y_pred]"
      ],
      "metadata": {
        "id": "fjVeK3cjHV17"
      },
      "execution_count": 81,
      "outputs": []
    },
    {
      "cell_type": "code",
      "source": [
        "key_list = list(classes.keys())\n",
        "val_list = list(classes.values())\n",
        "position = [val_list.index(p) for p in values]\n",
        "key=[key_list[p] for p in position]"
      ],
      "metadata": {
        "id": "8lN4kpJSMmZn"
      },
      "execution_count": 82,
      "outputs": []
    },
    {
      "cell_type": "code",
      "source": [
        "key"
      ],
      "metadata": {
        "colab": {
          "base_uri": "https://localhost:8080/"
        },
        "id": "lEz9J-XFHWNi",
        "outputId": "22725d50-e07b-4aa2-ef9a-444a0185d246"
      },
      "execution_count": 72,
      "outputs": [
        {
          "output_type": "execute_result",
          "data": {
            "text/plain": [
              "['Bark',\n",
              " 'Bark',\n",
              " 'Vehicle_horn_and_car_horn_and_honking',\n",
              " 'Bark',\n",
              " 'Microwave_oven',\n",
              " 'Shatter',\n",
              " 'Shatter',\n",
              " 'Crying_and_sobbing',\n",
              " 'Shatter',\n",
              " 'Microwave_oven',\n",
              " 'Microwave_oven',\n",
              " 'Bark',\n",
              " 'Meow',\n",
              " 'Meow',\n",
              " 'Walk_and_footsteps',\n",
              " 'Microwave_oven',\n",
              " 'Bark',\n",
              " 'Vehicle_horn_and_car_horn_and_honking',\n",
              " 'Walk_and_footsteps',\n",
              " 'Meow',\n",
              " 'Meow',\n",
              " 'Microwave_oven',\n",
              " 'Doorbell',\n",
              " 'Bark',\n",
              " 'Doorbell',\n",
              " 'Microwave_oven',\n",
              " 'Shatter',\n",
              " 'Siren',\n",
              " 'Knock',\n",
              " 'Meow',\n",
              " 'Microwave_oven',\n",
              " 'Meow',\n",
              " 'Vehicle_horn_and_car_horn_and_honking',\n",
              " 'Vehicle_horn_and_car_horn_and_honking',\n",
              " 'Shatter',\n",
              " 'Vehicle_horn_and_car_horn_and_honking',\n",
              " 'Siren',\n",
              " 'Siren',\n",
              " 'Meow',\n",
              " 'Knock',\n",
              " 'Bark',\n",
              " 'Bark',\n",
              " 'Knock',\n",
              " 'Vehicle_horn_and_car_horn_and_honking',\n",
              " 'Shatter',\n",
              " 'Bark',\n",
              " 'Crying_and_sobbing',\n",
              " 'Shatter',\n",
              " 'Bark',\n",
              " 'Meow',\n",
              " 'Microwave_oven',\n",
              " 'Bark',\n",
              " 'Knock',\n",
              " 'Meow',\n",
              " 'Siren',\n",
              " 'Vehicle_horn_and_car_horn_and_honking',\n",
              " 'Knock',\n",
              " 'Crying_and_sobbing',\n",
              " 'Meow',\n",
              " 'Crying_and_sobbing',\n",
              " 'Crying_and_sobbing',\n",
              " 'Bark',\n",
              " 'Vehicle_horn_and_car_horn_and_honking',\n",
              " 'Meow',\n",
              " 'Knock',\n",
              " 'Crying_and_sobbing',\n",
              " 'Doorbell',\n",
              " 'Siren',\n",
              " 'Siren',\n",
              " 'Bark',\n",
              " 'Shatter',\n",
              " 'Walk_and_footsteps',\n",
              " 'Crying_and_sobbing',\n",
              " 'Doorbell',\n",
              " 'Bark',\n",
              " 'Siren',\n",
              " 'Microwave_oven',\n",
              " 'Crying_and_sobbing',\n",
              " 'Microwave_oven',\n",
              " 'Vehicle_horn_and_car_horn_and_honking',\n",
              " 'Vehicle_horn_and_car_horn_and_honking',\n",
              " 'Meow',\n",
              " 'Microwave_oven',\n",
              " 'Crying_and_sobbing',\n",
              " 'Siren',\n",
              " 'Bark',\n",
              " 'Bark',\n",
              " 'Bark',\n",
              " 'Shatter',\n",
              " 'Crying_and_sobbing',\n",
              " 'Siren',\n",
              " 'Bark',\n",
              " 'Doorbell',\n",
              " 'Siren',\n",
              " 'Meow',\n",
              " 'Knock',\n",
              " 'Doorbell',\n",
              " 'Microwave_oven',\n",
              " 'Microwave_oven',\n",
              " 'Microwave_oven',\n",
              " 'Crying_and_sobbing',\n",
              " 'Microwave_oven',\n",
              " 'Siren',\n",
              " 'Shatter',\n",
              " 'Crying_and_sobbing',\n",
              " 'Walk_and_footsteps',\n",
              " 'Meow',\n",
              " 'Shatter',\n",
              " 'Crying_and_sobbing',\n",
              " 'Bark',\n",
              " 'Microwave_oven',\n",
              " 'Microwave_oven',\n",
              " 'Bark',\n",
              " 'Vehicle_horn_and_car_horn_and_honking',\n",
              " 'Crying_and_sobbing',\n",
              " 'Walk_and_footsteps',\n",
              " 'Doorbell',\n",
              " 'Bark',\n",
              " 'Crying_and_sobbing',\n",
              " 'Meow',\n",
              " 'Meow',\n",
              " 'Siren',\n",
              " 'Microwave_oven',\n",
              " 'Meow',\n",
              " 'Shatter',\n",
              " 'Siren',\n",
              " 'Walk_and_footsteps',\n",
              " 'Crying_and_sobbing',\n",
              " 'Shatter',\n",
              " 'Bark',\n",
              " 'Microwave_oven',\n",
              " 'Doorbell',\n",
              " 'Vehicle_horn_and_car_horn_and_honking',\n",
              " 'Crying_and_sobbing',\n",
              " 'Vehicle_horn_and_car_horn_and_honking',\n",
              " 'Vehicle_horn_and_car_horn_and_honking',\n",
              " 'Crying_and_sobbing',\n",
              " 'Bark',\n",
              " 'Doorbell',\n",
              " 'Bark',\n",
              " 'Vehicle_horn_and_car_horn_and_honking',\n",
              " 'Knock',\n",
              " 'Meow',\n",
              " 'Siren',\n",
              " 'Crying_and_sobbing',\n",
              " 'Walk_and_footsteps',\n",
              " 'Microwave_oven',\n",
              " 'Vehicle_horn_and_car_horn_and_honking',\n",
              " 'Doorbell',\n",
              " 'Doorbell',\n",
              " 'Bark',\n",
              " 'Microwave_oven',\n",
              " 'Meow',\n",
              " 'Vehicle_horn_and_car_horn_and_honking',\n",
              " 'Shatter',\n",
              " 'Vehicle_horn_and_car_horn_and_honking',\n",
              " 'Shatter',\n",
              " 'Shatter',\n",
              " 'Meow',\n",
              " 'Doorbell',\n",
              " 'Walk_and_footsteps',\n",
              " 'Doorbell',\n",
              " 'Bark',\n",
              " 'Microwave_oven',\n",
              " 'Walk_and_footsteps',\n",
              " 'Bark',\n",
              " 'Doorbell',\n",
              " 'Doorbell',\n",
              " 'Knock',\n",
              " 'Knock',\n",
              " 'Vehicle_horn_and_car_horn_and_honking',\n",
              " 'Meow',\n",
              " 'Knock',\n",
              " 'Siren',\n",
              " 'Siren',\n",
              " 'Shatter',\n",
              " 'Bark',\n",
              " 'Vehicle_horn_and_car_horn_and_honking',\n",
              " 'Meow',\n",
              " 'Vehicle_horn_and_car_horn_and_honking',\n",
              " 'Knock',\n",
              " 'Microwave_oven',\n",
              " 'Microwave_oven',\n",
              " 'Microwave_oven',\n",
              " 'Doorbell',\n",
              " 'Vehicle_horn_and_car_horn_and_honking',\n",
              " 'Siren',\n",
              " 'Knock',\n",
              " 'Meow',\n",
              " 'Walk_and_footsteps',\n",
              " 'Bark',\n",
              " 'Microwave_oven',\n",
              " 'Microwave_oven',\n",
              " 'Knock',\n",
              " 'Walk_and_footsteps',\n",
              " 'Walk_and_footsteps',\n",
              " 'Microwave_oven',\n",
              " 'Vehicle_horn_and_car_horn_and_honking',\n",
              " 'Doorbell',\n",
              " 'Microwave_oven',\n",
              " 'Microwave_oven']"
            ]
          },
          "metadata": {},
          "execution_count": 72
        }
      ]
    },
    {
      "cell_type": "code",
      "source": [
        "class1"
      ],
      "metadata": {
        "colab": {
          "base_uri": "https://localhost:8080/"
        },
        "id": "GsBJuNCKHrgu",
        "outputId": "55cca371-bff7-484e-f706-d6422337d5d6"
      },
      "execution_count": 61,
      "outputs": [
        {
          "output_type": "execute_result",
          "data": {
            "text/plain": [
              "{'a': 0,\n",
              " 'b': 1,\n",
              " 'c': 2,\n",
              " 'd': 3,\n",
              " 'e': 4,\n",
              " 'f': 5,\n",
              " 'g': 6,\n",
              " 'h': 7,\n",
              " 'i': 8,\n",
              " 'j': 9}"
            ]
          },
          "metadata": {},
          "execution_count": 61
        }
      ]
    },
    {
      "cell_type": "code",
      "source": [
        "submission_df = pd.DataFrame({\n",
        "            'id':test_generator.filenames,\n",
        "            'label':key })\n",
        "submission_df['id'] = submission_df['id'].apply(lambda x: x.split('.')[0])\n",
        "submission_df.to_csv('p_result_nadam.csv', index=False)"
      ],
      "metadata": {
        "id": "AUoB8Wp9Hhx5"
      },
      "execution_count": 83,
      "outputs": []
    },
    {
      "cell_type": "code",
      "source": [
        "path=\"/content/images\"\n",
        "test_df=pd.DataFrame()\n",
        "test_df['id']=os.listdir(path)\n",
        "test_generator=ImageDataGenerator(rescale=1./255.).flow_from_dataframe(\n",
        "                    dataframe=test_df,\n",
        "                    directory=path,\n",
        "                    x_col=\"id\",\n",
        "                    y_col=None,\n",
        "                    has_ext=True,\n",
        "                    class_mode=None,\n",
        "                    batch_size=32,\n",
        "                    seed=42,\n",
        "                    shuffle=False,\n",
        "                    interpolation='nearest',\n",
        "                    target_size=(256,256))\n",
        "m = tensorflow.keras.models.load_model('/content/gdrive/MyDrive/MLSP/model_deep_SGD.h5')\n",
        "y_pred = m.predict(test_generator)\n",
        "y_pred = np.argmax(y_pred, axis=1)\n",
        "labels = (train_it.class_indices)\n",
        "labels = dict((v,k) for k,v in labels.items())\n",
        "y_pred = [labels[k] for k in y_pred]\n",
        "submission_df = pd.DataFrame({\n",
        "            'id':test_generator.filenames,\n",
        "            'label':y_pred })\n",
        "submission_df['id'] = submission_df['id'].apply(lambda x: x.split('.')[0])\n",
        "submission_df.to_csv('p_resultf.csv', index=False)"
      ],
      "metadata": {
        "colab": {
          "base_uri": "https://localhost:8080/"
        },
        "id": "1n6VgdyyIPZM",
        "outputId": "29d9fe73-ea11-4a4f-c5a7-07770877b15d"
      },
      "execution_count": 68,
      "outputs": [
        {
          "output_type": "stream",
          "name": "stderr",
          "text": [
            "--- Logging error ---\n",
            "Traceback (most recent call last):\n",
            "  File \"/usr/lib/python3.7/logging/__init__.py\", line 1025, in emit\n",
            "    msg = self.format(record)\n",
            "  File \"/usr/lib/python3.7/logging/__init__.py\", line 869, in format\n",
            "    return fmt.format(record)\n",
            "  File \"/usr/lib/python3.7/logging/__init__.py\", line 608, in format\n",
            "    record.message = record.getMessage()\n",
            "  File \"/usr/lib/python3.7/logging/__init__.py\", line 369, in getMessage\n",
            "    msg = msg % self.args\n",
            "TypeError: not all arguments converted during string formatting\n",
            "Call stack:\n",
            "  File \"/usr/lib/python3.7/runpy.py\", line 193, in _run_module_as_main\n",
            "    \"__main__\", mod_spec)\n",
            "  File \"/usr/lib/python3.7/runpy.py\", line 85, in _run_code\n",
            "    exec(code, run_globals)\n",
            "  File \"/usr/local/lib/python3.7/dist-packages/ipykernel_launcher.py\", line 16, in <module>\n",
            "    app.launch_new_instance()\n",
            "  File \"/usr/local/lib/python3.7/dist-packages/traitlets/config/application.py\", line 846, in launch_instance\n",
            "    app.start()\n",
            "  File \"/usr/local/lib/python3.7/dist-packages/ipykernel/kernelapp.py\", line 612, in start\n",
            "    self.io_loop.start()\n",
            "  File \"/usr/local/lib/python3.7/dist-packages/tornado/platform/asyncio.py\", line 132, in start\n",
            "    self.asyncio_loop.run_forever()\n",
            "  File \"/usr/lib/python3.7/asyncio/base_events.py\", line 541, in run_forever\n",
            "    self._run_once()\n",
            "  File \"/usr/lib/python3.7/asyncio/base_events.py\", line 1786, in _run_once\n",
            "    handle._run()\n",
            "  File \"/usr/lib/python3.7/asyncio/events.py\", line 88, in _run\n",
            "    self._context.run(self._callback, *self._args)\n",
            "  File \"/usr/local/lib/python3.7/dist-packages/tornado/ioloop.py\", line 758, in _run_callback\n",
            "    ret = callback()\n",
            "  File \"/usr/local/lib/python3.7/dist-packages/tornado/stack_context.py\", line 300, in null_wrapper\n",
            "    return fn(*args, **kwargs)\n",
            "  File \"/usr/local/lib/python3.7/dist-packages/tornado/gen.py\", line 1233, in inner\n",
            "    self.run()\n",
            "  File \"/usr/local/lib/python3.7/dist-packages/tornado/gen.py\", line 1147, in run\n",
            "    yielded = self.gen.send(value)\n",
            "  File \"/usr/local/lib/python3.7/dist-packages/ipykernel/kernelbase.py\", line 365, in process_one\n",
            "    yield gen.maybe_future(dispatch(*args))\n",
            "  File \"/usr/local/lib/python3.7/dist-packages/tornado/gen.py\", line 326, in wrapper\n",
            "    yielded = next(result)\n",
            "  File \"/usr/local/lib/python3.7/dist-packages/ipykernel/kernelbase.py\", line 268, in dispatch_shell\n",
            "    yield gen.maybe_future(handler(stream, idents, msg))\n",
            "  File \"/usr/local/lib/python3.7/dist-packages/tornado/gen.py\", line 326, in wrapper\n",
            "    yielded = next(result)\n",
            "  File \"/usr/local/lib/python3.7/dist-packages/ipykernel/kernelbase.py\", line 545, in execute_request\n",
            "    user_expressions, allow_stdin,\n",
            "  File \"/usr/local/lib/python3.7/dist-packages/tornado/gen.py\", line 326, in wrapper\n",
            "    yielded = next(result)\n",
            "  File \"/usr/local/lib/python3.7/dist-packages/ipykernel/ipkernel.py\", line 306, in do_execute\n",
            "    res = shell.run_cell(code, store_history=store_history, silent=silent)\n",
            "  File \"/usr/local/lib/python3.7/dist-packages/ipykernel/zmqshell.py\", line 536, in run_cell\n",
            "    return super(ZMQInteractiveShell, self).run_cell(*args, **kwargs)\n",
            "  File \"/usr/local/lib/python3.7/dist-packages/IPython/core/interactiveshell.py\", line 2855, in run_cell\n",
            "    raw_cell, store_history, silent, shell_futures)\n",
            "  File \"/usr/local/lib/python3.7/dist-packages/IPython/core/interactiveshell.py\", line 2881, in _run_cell\n",
            "    return runner(coro)\n",
            "  File \"/usr/local/lib/python3.7/dist-packages/IPython/core/async_helpers.py\", line 68, in _pseudo_sync_runner\n",
            "    coro.send(None)\n",
            "  File \"/usr/local/lib/python3.7/dist-packages/IPython/core/interactiveshell.py\", line 3058, in run_cell_async\n",
            "    interactivity=interactivity, compiler=compiler, result=result)\n",
            "  File \"/usr/local/lib/python3.7/dist-packages/IPython/core/interactiveshell.py\", line 3249, in run_ast_nodes\n",
            "    if (await self.run_code(code, result,  async_=asy)):\n",
            "  File \"/usr/local/lib/python3.7/dist-packages/IPython/core/interactiveshell.py\", line 3326, in run_code\n",
            "    exec(code_obj, self.user_global_ns, self.user_ns)\n",
            "  File \"<ipython-input-68-34fa5d939855>\", line 15, in <module>\n",
            "    target_size=(256,256))\n",
            "  File \"/usr/local/lib/python3.7/dist-packages/keras/preprocessing/image.py\", line 1100, in flow_from_dataframe\n",
            "    'to match the exact filenames in disk.', DeprecationWarning)\n",
            "  File \"/usr/local/lib/python3.7/dist-packages/tensorflow/python/platform/tf_logging.py\", line 174, in warning\n",
            "    get_logger().warning(msg, *args, **kwargs)\n",
            "Message: 'has_ext is deprecated, filenames in the dataframe have to match the exact filenames in disk.'\n",
            "Arguments: (<class 'DeprecationWarning'>,)\n"
          ]
        },
        {
          "output_type": "stream",
          "name": "stdout",
          "text": [
            "Found 201 validated image filenames.\n"
          ]
        }
      ]
    },
    {
      "cell_type": "code",
      "source": [
        "path=\"/content/images\"\n",
        "test_df=pd.DataFrame()\n",
        "test_df['id']=os.listdir(path)\n",
        "test_generator=ImageDataGenerator(rescale=1./255.).flow_from_dataframe(\n",
        "                    dataframe=test_df,\n",
        "                    directory=path,\n",
        "                    x_col=\"id\",\n",
        "                    y_col=None,\n",
        "                    has_ext=True,\n",
        "                    class_mode=None,\n",
        "                    batch_size=32,\n",
        "                    seed=42,\n",
        "                    shuffle=False,\n",
        "                    interpolation='nearest',\n",
        "                    target_size=(256,256))\n",
        "m = tensorflow.keras.models.load_model('/content/gdrive/MyDrive/MLSP/model_adam.h5')\n",
        "y_pred = m.predict(test_generator)\n",
        "y_pred = np.argmax(y_pred, axis=1)\n",
        "labels = (train_it.class_indices)\n",
        "labels = dict((v,k) for k,v in labels.items())\n",
        "y_pred = [labels[k] for k in y_pred]\n",
        "# submission_df = pd.DataFrame({\n",
        "#             'id':test_generator.filenames,\n",
        "#             'label':y_pred })\n",
        "# submission_df['id'] = submission_df['id'].apply(lambda x: x.split('.')[0])\n",
        "# submission_df.to_csv('p_resultf.csv', index=False)"
      ],
      "metadata": {
        "colab": {
          "base_uri": "https://localhost:8080/"
        },
        "id": "isRp6Y-1Kd3b",
        "outputId": "e2c8a745-71dc-43f4-ab84-7203ba96479f"
      },
      "execution_count": 74,
      "outputs": [
        {
          "output_type": "stream",
          "name": "stderr",
          "text": [
            "--- Logging error ---\n",
            "Traceback (most recent call last):\n",
            "  File \"/usr/lib/python3.7/logging/__init__.py\", line 1025, in emit\n",
            "    msg = self.format(record)\n",
            "  File \"/usr/lib/python3.7/logging/__init__.py\", line 869, in format\n",
            "    return fmt.format(record)\n",
            "  File \"/usr/lib/python3.7/logging/__init__.py\", line 608, in format\n",
            "    record.message = record.getMessage()\n",
            "  File \"/usr/lib/python3.7/logging/__init__.py\", line 369, in getMessage\n",
            "    msg = msg % self.args\n",
            "TypeError: not all arguments converted during string formatting\n",
            "Call stack:\n",
            "  File \"/usr/lib/python3.7/runpy.py\", line 193, in _run_module_as_main\n",
            "    \"__main__\", mod_spec)\n",
            "  File \"/usr/lib/python3.7/runpy.py\", line 85, in _run_code\n",
            "    exec(code, run_globals)\n",
            "  File \"/usr/local/lib/python3.7/dist-packages/ipykernel_launcher.py\", line 16, in <module>\n",
            "    app.launch_new_instance()\n",
            "  File \"/usr/local/lib/python3.7/dist-packages/traitlets/config/application.py\", line 846, in launch_instance\n",
            "    app.start()\n",
            "  File \"/usr/local/lib/python3.7/dist-packages/ipykernel/kernelapp.py\", line 612, in start\n",
            "    self.io_loop.start()\n",
            "  File \"/usr/local/lib/python3.7/dist-packages/tornado/platform/asyncio.py\", line 132, in start\n",
            "    self.asyncio_loop.run_forever()\n",
            "  File \"/usr/lib/python3.7/asyncio/base_events.py\", line 541, in run_forever\n",
            "    self._run_once()\n",
            "  File \"/usr/lib/python3.7/asyncio/base_events.py\", line 1786, in _run_once\n",
            "    handle._run()\n",
            "  File \"/usr/lib/python3.7/asyncio/events.py\", line 88, in _run\n",
            "    self._context.run(self._callback, *self._args)\n",
            "  File \"/usr/local/lib/python3.7/dist-packages/tornado/ioloop.py\", line 758, in _run_callback\n",
            "    ret = callback()\n",
            "  File \"/usr/local/lib/python3.7/dist-packages/tornado/stack_context.py\", line 300, in null_wrapper\n",
            "    return fn(*args, **kwargs)\n",
            "  File \"/usr/local/lib/python3.7/dist-packages/tornado/gen.py\", line 1233, in inner\n",
            "    self.run()\n",
            "  File \"/usr/local/lib/python3.7/dist-packages/tornado/gen.py\", line 1147, in run\n",
            "    yielded = self.gen.send(value)\n",
            "  File \"/usr/local/lib/python3.7/dist-packages/ipykernel/kernelbase.py\", line 365, in process_one\n",
            "    yield gen.maybe_future(dispatch(*args))\n",
            "  File \"/usr/local/lib/python3.7/dist-packages/tornado/gen.py\", line 326, in wrapper\n",
            "    yielded = next(result)\n",
            "  File \"/usr/local/lib/python3.7/dist-packages/ipykernel/kernelbase.py\", line 268, in dispatch_shell\n",
            "    yield gen.maybe_future(handler(stream, idents, msg))\n",
            "  File \"/usr/local/lib/python3.7/dist-packages/tornado/gen.py\", line 326, in wrapper\n",
            "    yielded = next(result)\n",
            "  File \"/usr/local/lib/python3.7/dist-packages/ipykernel/kernelbase.py\", line 545, in execute_request\n",
            "    user_expressions, allow_stdin,\n",
            "  File \"/usr/local/lib/python3.7/dist-packages/tornado/gen.py\", line 326, in wrapper\n",
            "    yielded = next(result)\n",
            "  File \"/usr/local/lib/python3.7/dist-packages/ipykernel/ipkernel.py\", line 306, in do_execute\n",
            "    res = shell.run_cell(code, store_history=store_history, silent=silent)\n",
            "  File \"/usr/local/lib/python3.7/dist-packages/ipykernel/zmqshell.py\", line 536, in run_cell\n",
            "    return super(ZMQInteractiveShell, self).run_cell(*args, **kwargs)\n",
            "  File \"/usr/local/lib/python3.7/dist-packages/IPython/core/interactiveshell.py\", line 2855, in run_cell\n",
            "    raw_cell, store_history, silent, shell_futures)\n",
            "  File \"/usr/local/lib/python3.7/dist-packages/IPython/core/interactiveshell.py\", line 2881, in _run_cell\n",
            "    return runner(coro)\n",
            "  File \"/usr/local/lib/python3.7/dist-packages/IPython/core/async_helpers.py\", line 68, in _pseudo_sync_runner\n",
            "    coro.send(None)\n",
            "  File \"/usr/local/lib/python3.7/dist-packages/IPython/core/interactiveshell.py\", line 3058, in run_cell_async\n",
            "    interactivity=interactivity, compiler=compiler, result=result)\n",
            "  File \"/usr/local/lib/python3.7/dist-packages/IPython/core/interactiveshell.py\", line 3249, in run_ast_nodes\n",
            "    if (await self.run_code(code, result,  async_=asy)):\n",
            "  File \"/usr/local/lib/python3.7/dist-packages/IPython/core/interactiveshell.py\", line 3326, in run_code\n",
            "    exec(code_obj, self.user_global_ns, self.user_ns)\n",
            "  File \"<ipython-input-74-105182f5d3dc>\", line 15, in <module>\n",
            "    target_size=(256,256))\n",
            "  File \"/usr/local/lib/python3.7/dist-packages/keras/preprocessing/image.py\", line 1100, in flow_from_dataframe\n",
            "    'to match the exact filenames in disk.', DeprecationWarning)\n",
            "  File \"/usr/local/lib/python3.7/dist-packages/tensorflow/python/platform/tf_logging.py\", line 174, in warning\n",
            "    get_logger().warning(msg, *args, **kwargs)\n",
            "Message: 'has_ext is deprecated, filenames in the dataframe have to match the exact filenames in disk.'\n",
            "Arguments: (<class 'DeprecationWarning'>,)\n"
          ]
        },
        {
          "output_type": "stream",
          "name": "stdout",
          "text": [
            "Found 201 validated image filenames.\n"
          ]
        }
      ]
    },
    {
      "cell_type": "code",
      "source": [],
      "metadata": {
        "id": "S8umExdNLnTo"
      },
      "execution_count": null,
      "outputs": []
    },
    {
      "cell_type": "markdown",
      "source": [
        "#Final"
      ],
      "metadata": {
        "id": "4hRcPZNLdVYM"
      }
    },
    {
      "cell_type": "code",
      "source": [
        "predictions = model.predict_classes(X_test, verbose=0)\n",
        "\n",
        "submissions=pd.DataFrame({\"ImageId\": list(range(1,len(predictions)+1)),\n",
        "                         \"Label\": predictions})\n",
        "submissions.to_csv(\"DR.csv\", index=False, header=True)"
      ],
      "metadata": {
        "id": "Xn2ZyyL3dZi-"
      },
      "execution_count": null,
      "outputs": []
    },
    {
      "cell_type": "code",
      "source": [
        "import tensorflow"
      ],
      "metadata": {
        "id": "zRvOzlbeec3L"
      },
      "execution_count": 68,
      "outputs": []
    },
    {
      "cell_type": "code",
      "source": [
        "model_a = tensorflow.keras.models.load_model('/content/gdrive/MyDrive/MLSP/model_deep_SGD.h5')\n",
        "model_b = tensorflow.keras.models.load_model('/content/gdrive/MyDrive/MLSP/model_image_nadam.h5')\n",
        "model_c = tensorflow.keras.models.load_model('/content/gdrive/MyDrive/MLSP/model_image_nadam_without_dropout.h5')\n",
        "model_d = tensorflow.keras.models.load_model('/content/gdrive/MyDrive/MLSP/model_image_sgd.h5')"
      ],
      "metadata": {
        "id": "_WB731FKeVP3"
      },
      "execution_count": 69,
      "outputs": []
    },
    {
      "cell_type": "code",
      "source": [
        "x_test,y_test = test_it.next()\n",
        "predictions_a = model_b.predict(x_test, verbose=0)"
      ],
      "metadata": {
        "id": "JBj83wE6fCaS"
      },
      "execution_count": 70,
      "outputs": []
    },
    {
      "cell_type": "code",
      "source": [
        "x_test,y_test = test_it.next()\n",
        "predictions_a = model_a.predict(x_test, verbose=0)\n",
        "predictions_b = model_b.predict(x_test, verbose=0)\n",
        "predictions_c = model_c.predict(x_test, verbose=0)\n",
        "predictions_d = model_d.predict(x_test, verbose=0)\n",
        "\n",
        "\n",
        "predictions_a = np.argmax(predictions_a, axis = 1)\n",
        "predictions_b = np.argmax(predictions_b, axis = 1)\n",
        "predictions_c = np.argmax(predictions_c, axis = 1)\n",
        "predictions_d = np.argmax(predictions_d, axis = 1)\n",
        "\n",
        "submissions=pd.DataFrame({\"Id\": list(range(1,len(predictions_a)+1)),\n",
        "                         \"Label\": predictions_a})\n",
        "submissions_b=pd.DataFrame({\"Id\": list(range(1,len(predictions_b)+1)),\n",
        "                         \"Label\": predictions_b})\n",
        "submissions_c=pd.DataFrame({\"Id\": list(range(1,len(predictions_c)+1)),\n",
        "                         \"Label\": predictions_c})\n",
        "submissions_d=pd.DataFrame({\"Id\": list(range(1,len(predictions_d)+1)),\n",
        "                         \"Label\": predictions_d})\n",
        "submissions.to_csv(\"mod1.csv\", index=False, header=True)\n",
        "submissions_b.to_csv(\"mod2.csv\", index=False, header=True)\n",
        "submissions.to_csv(\"mod3.csv\", index=False, header=True)\n",
        "submissions_b.to_csv(\"mod4.csv\", index=False, header=True)"
      ],
      "metadata": {
        "id": "b2n6_HkfeVML"
      },
      "execution_count": 72,
      "outputs": []
    },
    {
      "cell_type": "code",
      "source": [
        "import pandas as pd\n",
        "import numpy as np\n",
        "\n",
        "mod1=pd.read_csv(\"p_result_densenet.csv\")\n",
        "mod2=pd.read_csv(\"p_result_inception.csv\")\n",
        "# mod3=pd.read_csv(\"re.csv\")\n",
        "mod4=pd.read_csv(\"p_result_nadam.csv\")\n",
        "# resnet=pd.read_csv(\"submission_InceptionResNetV2.csv\")\n",
        "# xception=pd.read_csv(\"submission_xception.csv\")\n",
        "df=pd.DataFrame(columns=[\"id\",\"mod1\",\"mod2\",\"mod4\"])\n",
        "df[\"id\"]=mod1[\"id\"]\n",
        "df[\"mod1\"]=mod1[\"label\"]\n",
        "# df[\"resnet\"]=resnet[\"label\"]\n",
        "df[\"mod2\"]=mod2[\"label\"]\n",
        "# df[\"mod3\"]=mod3[\"label\"]\n",
        "df[\"mod4\"]=mod4[\"label\"]\n",
        "# df[\"inception_resnet\"]=xception[\"label\"]\n",
        "df['majority'] = df.mode(axis=1)[0].astype(str)\n",
        "vote=pd.DataFrame()\n",
        "vote[\"id\"]=df[\"id\"]\n",
        "vote[\"label\"]=df[\"majority\"]\n",
        "print(df.tail())\n",
        "vote.to_csv(\"majority_voting.csv\",index=False)"
      ],
      "metadata": {
        "colab": {
          "base_uri": "https://localhost:8080/"
        },
        "id": "9ymsKI0weVJx",
        "outputId": "d0cc1ce1-3eb0-4cc7-8010-3d2f4dfebf0e"
      },
      "execution_count": 87,
      "outputs": [
        {
          "output_type": "stream",
          "name": "stdout",
          "text": [
            "                   id                                   mod1  \\\n",
            "196     MLSP_test3739                                  Siren   \n",
            "197  MLSP_test2182439  Vehicle_horn_and_car_horn_and_honking   \n",
            "198   MLSP_test682163                               Doorbell   \n",
            "199  MLSP_test1475459                         Microwave_oven   \n",
            "200  MLSP_test1362223                         Microwave_oven   \n",
            "\n",
            "                                      mod2  \\\n",
            "196                         Microwave_oven   \n",
            "197  Vehicle_horn_and_car_horn_and_honking   \n",
            "198                               Doorbell   \n",
            "199                         Microwave_oven   \n",
            "200                         Microwave_oven   \n",
            "\n",
            "                                      mod4  \\\n",
            "196                         Microwave_oven   \n",
            "197  Vehicle_horn_and_car_horn_and_honking   \n",
            "198                               Doorbell   \n",
            "199                         Microwave_oven   \n",
            "200                         Microwave_oven   \n",
            "\n",
            "                                  majority  \n",
            "196                         Microwave_oven  \n",
            "197  Vehicle_horn_and_car_horn_and_honking  \n",
            "198                               Doorbell  \n",
            "199                         Microwave_oven  \n",
            "200                         Microwave_oven  \n"
          ]
        }
      ]
    },
    {
      "cell_type": "code",
      "source": [
        "votes = np.array(vote['Label'])\n",
        "# y_test = np.argmax(y_test, axis = 1)\n",
        "from sklearn.metrics import accuracy_score\n",
        "accuracy_score(votes,y_test)"
      ],
      "metadata": {
        "colab": {
          "base_uri": "https://localhost:8080/"
        },
        "id": "2EFzuiiyeVHp",
        "outputId": "8e3e26f0-f8fc-4f3a-f1c1-0e774a24282e"
      },
      "execution_count": 77,
      "outputs": [
        {
          "output_type": "execute_result",
          "data": {
            "text/plain": [
              "0.75"
            ]
          },
          "metadata": {},
          "execution_count": 77
        }
      ]
    },
    {
      "cell_type": "code",
      "source": [
        "x_test, y_test = test_it.next()\n",
        "ypred1 = model_a.predict(x_test)\n",
        "ypred1 = np.argmax(ypred1, axis = 1)\n",
        "y_test = np.argmax(y_test, axis = 1)\n",
        "accuracy_score(ypred1,y_test)"
      ],
      "metadata": {
        "colab": {
          "base_uri": "https://localhost:8080/"
        },
        "id": "Jcbdm_fldZfb",
        "outputId": "a2bb62d7-1766-408f-a8f8-8b763b2e6543"
      },
      "execution_count": 79,
      "outputs": [
        {
          "output_type": "execute_result",
          "data": {
            "text/plain": [
              "0.76"
            ]
          },
          "metadata": {},
          "execution_count": 79
        }
      ]
    },
    {
      "cell_type": "code",
      "source": [
        "x_test, y_test = test_it.next()\n",
        "ypred1 = model_b.predict(x_test)\n",
        "ypred1 = np.argmax(ypred1, axis = 1)\n",
        "y_test = np.argmax(y_test, axis = 1)\n",
        "accuracy_score(ypred1,y_test)"
      ],
      "metadata": {
        "colab": {
          "base_uri": "https://localhost:8080/"
        },
        "id": "o_QpOSKmg3NG",
        "outputId": "556a2535-eb2c-4e89-f36b-ee71a1f5550d"
      },
      "execution_count": 80,
      "outputs": [
        {
          "output_type": "execute_result",
          "data": {
            "text/plain": [
              "0.76"
            ]
          },
          "metadata": {},
          "execution_count": 80
        }
      ]
    },
    {
      "cell_type": "code",
      "source": [
        "x_test, y_test = test_it.next()\n",
        "ypred1 = model_c.predict(x_test)\n",
        "ypred1 = np.argmax(ypred1, axis = 1)\n",
        "y_test = np.argmax(y_test, axis = 1)\n",
        "accuracy_score(ypred1,y_test)"
      ],
      "metadata": {
        "colab": {
          "base_uri": "https://localhost:8080/"
        },
        "id": "bsON6knYg--O",
        "outputId": "510d0939-d7e9-4b13-9c33-bcedf71de15e"
      },
      "execution_count": 81,
      "outputs": [
        {
          "output_type": "execute_result",
          "data": {
            "text/plain": [
              "0.87"
            ]
          },
          "metadata": {},
          "execution_count": 81
        }
      ]
    },
    {
      "cell_type": "code",
      "source": [
        "x_test, y_test = test_it.next()\n",
        "ypred1 = model_d.predict(x_test)\n",
        "ypred1 = np.argmax(ypred1, axis = 1)\n",
        "y_test = np.argmax(y_test, axis = 1)\n",
        "accuracy_score(ypred1,y_test)"
      ],
      "metadata": {
        "colab": {
          "base_uri": "https://localhost:8080/"
        },
        "id": "RwZzHnPIhAmM",
        "outputId": "a7cd7b2b-5a53-4cd9-bb23-cd8cc3edade5"
      },
      "execution_count": 82,
      "outputs": [
        {
          "output_type": "execute_result",
          "data": {
            "text/plain": [
              "0.755"
            ]
          },
          "metadata": {},
          "execution_count": 82
        }
      ]
    },
    {
      "cell_type": "code",
      "source": [
        "model_e = tensorflow.keras.models.load_model('/content/model_spec_adam_small (1).h5')"
      ],
      "metadata": {
        "id": "EbgAuv0bhEcB"
      },
      "execution_count": 84,
      "outputs": []
    },
    {
      "cell_type": "code",
      "source": [
        "model_e.summary()"
      ],
      "metadata": {
        "colab": {
          "base_uri": "https://localhost:8080/"
        },
        "id": "-iuteRwPhUsT",
        "outputId": "20621eb1-01ef-4ac0-8ebd-9452cbc2470e"
      },
      "execution_count": 86,
      "outputs": [
        {
          "output_type": "stream",
          "name": "stdout",
          "text": [
            "Model: \"model\"\n",
            "_________________________________________________________________\n",
            " Layer (type)                Output Shape              Param #   \n",
            "=================================================================\n",
            " input_1 (InputLayer)        [(None, 128, 2500, 1)]    0         \n",
            "                                                                 \n",
            " conv2d (Conv2D)             (None, 128, 2500, 8)      80        \n",
            "                                                                 \n",
            " activation (Activation)     (None, 128, 2500, 8)      0         \n",
            "                                                                 \n",
            " max_pooling2d (MaxPooling2D  (None, 64, 1250, 8)      0         \n",
            " )                                                               \n",
            "                                                                 \n",
            " dropout (Dropout)           (None, 64, 1250, 8)       0         \n",
            "                                                                 \n",
            " conv2d_1 (Conv2D)           (None, 64, 1250, 16)      1168      \n",
            "                                                                 \n",
            " activation_1 (Activation)   (None, 64, 1250, 16)      0         \n",
            "                                                                 \n",
            " max_pooling2d_1 (MaxPooling  (None, 32, 625, 16)      0         \n",
            " 2D)                                                             \n",
            "                                                                 \n",
            " dropout_1 (Dropout)         (None, 32, 625, 16)       0         \n",
            "                                                                 \n",
            " conv2d_2 (Conv2D)           (None, 32, 625, 32)       4640      \n",
            "                                                                 \n",
            " activation_2 (Activation)   (None, 32, 625, 32)       0         \n",
            "                                                                 \n",
            " max_pooling2d_2 (MaxPooling  (None, 16, 312, 32)      0         \n",
            " 2D)                                                             \n",
            "                                                                 \n",
            " dropout_2 (Dropout)         (None, 16, 312, 32)       0         \n",
            "                                                                 \n",
            " flatten (Flatten)           (None, 159744)            0         \n",
            "                                                                 \n",
            " dense (Dense)               (None, 32)                5111840   \n",
            "                                                                 \n",
            " activation_3 (Activation)   (None, 32)                0         \n",
            "                                                                 \n",
            " dropout_3 (Dropout)         (None, 32)                0         \n",
            "                                                                 \n",
            " dense_1 (Dense)             (None, 10)                330       \n",
            "                                                                 \n",
            "=================================================================\n",
            "Total params: 5,118,058\n",
            "Trainable params: 5,118,058\n",
            "Non-trainable params: 0\n",
            "_________________________________________________________________\n"
          ]
        }
      ]
    },
    {
      "cell_type": "code",
      "source": [],
      "metadata": {
        "id": "LVfvNUw1Tg8H"
      },
      "execution_count": null,
      "outputs": []
    },
    {
      "cell_type": "code",
      "source": [],
      "metadata": {
        "id": "w7MhSa6JTg4R"
      },
      "execution_count": null,
      "outputs": []
    },
    {
      "cell_type": "code",
      "source": [],
      "metadata": {
        "id": "kWa6BhCvTg1V"
      },
      "execution_count": null,
      "outputs": []
    }
  ],
  "metadata": {
    "colab": {
      "provenance": []
    },
    "kernelspec": {
      "display_name": "Python 3",
      "name": "python3"
    },
    "language_info": {
      "name": "python"
    },
    "accelerator": "GPU"
  },
  "nbformat": 4,
  "nbformat_minor": 0
}